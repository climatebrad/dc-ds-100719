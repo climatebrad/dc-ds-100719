{
 "cells": [
  {
   "cell_type": "markdown",
   "metadata": {},
   "source": [
    "# Monte Carlo Simulations\n",
    "\n",
    "## Introduction\n",
    "\n",
    "Monte Carlo simulations are useful approximations when solving a mathematical problem analytically is impractical or impossible. Due to the increasing availability and affordability of powerful computational engines (computers), Monte Carlo simulations have become an increasingly popular tool for conducting statistical testing. \n",
    "\n",
    "\n",
    "## Objectives\n",
    "\n",
    "You will be able to:\n",
    "\n",
    "* Describe why you would create a Monte Carlo simulation "
   ]
  },
  {
   "cell_type": "markdown",
   "metadata": {},
   "source": [
    "## Area of a circle\n",
    "\n",
    "A common naive example of Monte Carlo simulations is estimating the area of irregular geometrical figures that may be difficult to compute using standard analytic geometric methods. An easy example to start with is estimating the area of a circle using simulation."
   ]
  },
  {
   "cell_type": "code",
   "execution_count": null,
   "metadata": {},
   "outputs": [],
   "source": [
    "import matplotlib.pyplot as plt\n",
    "%matplotlib inline"
   ]
  },
  {
   "cell_type": "code",
   "execution_count": null,
   "metadata": {},
   "outputs": [],
   "source": [
    "fig = plt.figure(figsize=(8, 8))\n",
    "axis = fig.add_subplot(1, 1, 1)\n",
    "circle = plt.Circle((0, 0), 1)\n",
    "axis.add_patch(circle)\n",
    "axis.set_xlim([-1, 1])\n",
    "axis.set_ylim([-1, 1])\n",
    "axis.set_title('A Circle in a Square')\n",
    "plt.show()"
   ]
  },
  {
   "cell_type": "markdown",
   "metadata": {},
   "source": [
    "Now in this case, we know that the area of a circle is given by:    \n",
    "$A = \\pi \\bullet r^2$  \n",
    "and substituting in our radius we have:  \n",
    "$A = \\pi \\bullet 1^2$  \n",
    "$A = \\pi$  \n",
    "\n",
    "Here's how we could come to a similar conclusion using a Monte Carlo simulation:"
   ]
  },
  {
   "cell_type": "code",
   "execution_count": null,
   "metadata": {},
   "outputs": [],
   "source": [
    "import numpy as np"
   ]
  },
  {
   "cell_type": "code",
   "execution_count": null,
   "metadata": {},
   "outputs": [],
   "source": [
    "# 1. Generate random points\n",
    "n_points = 10**4\n",
    "x = np.random.uniform(low=-1, high=1, size=n_points)\n",
    "y = np.random.uniform(low=-1, high=1, size=n_points)\n",
    "\n",
    "inside = {'x':[], 'y':[]}\n",
    "outside = {'x':[], 'y':[]}\n",
    "\n",
    "# 2. Determine if the point is inside or outside our circle\n",
    "count = 0\n",
    "for x, y in list(zip(x, y)):\n",
    "    if x**2 + y**2 <= 1:\n",
    "        inside['x'] = inside['x'] + [x]\n",
    "        inside['y'] = inside['y'] + [y]\n",
    "    else:\n",
    "        outside['x'] = outside['x']  + [x]\n",
    "        outside['y'] = outside['y']  + [y]\n",
    "    \n",
    "# 3. Use these sample points to estimate our circle area\n",
    "plt.figure(figsize=(8,8))\n",
    "plt.scatter(inside['x'], inside['y'], c='blue')\n",
    "plt.scatter(outside['x'], outside['y'], c='orange')\n",
    "plt.show()"
   ]
  },
  {
   "cell_type": "markdown",
   "metadata": {},
   "source": [
    "We know that we generated 10,000 points and that the area of the larger square should be 2 * 2 = 4 units."
   ]
  },
  {
   "cell_type": "code",
   "execution_count": null,
   "metadata": {},
   "outputs": [],
   "source": [
    "n_inside = len(inside['x'])\n",
    "n_outside = len(outside['x'])\n",
    "frac_inside = n_inside / (n_outside + n_inside)\n",
    "total_area = 4\n",
    "area_inside = frac_inside * total_area\n",
    "print(area_inside)"
   ]
  },
  {
   "cell_type": "markdown",
   "metadata": {},
   "source": [
    "Not the best simulation of pi, but we can easily turn up our number of simulations to improve the estimate:"
   ]
  },
  {
   "cell_type": "markdown",
   "metadata": {},
   "source": [
    "## Additional Resources\n",
    "\n",
    "* http://mathworld.wolfram.com/MonteCarloMethod.html\n",
    "* https://www.ncbi.nlm.nih.gov/pmc/articles/PMC2924739/"
   ]
  },
  {
   "cell_type": "markdown",
   "metadata": {},
   "source": [
    "## Summary\n",
    "\n",
    "In this lesson, we investigated Monte Carlo simulations starting with a simple example of estimating the area of a circle."
   ]
  },
  {
   "cell_type": "code",
   "execution_count": null,
   "metadata": {},
   "outputs": [],
   "source": []
  }
 ],
 "metadata": {
  "language_info": {
   "name": "python",
   "pygments_lexer": "ipython3"
  }
 },
 "nbformat": 4,
 "nbformat_minor": 2
}
