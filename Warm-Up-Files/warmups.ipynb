{
 "cells": [
  {
   "cell_type": "code",
   "execution_count": 2,
   "metadata": {},
   "outputs": [],
   "source": [
    "student_details= [\n",
    "      {'id' : 1, 'subject' : 'math', 'Test1' : 70, 'Test2' : 82},\n",
    "      {'id' : 2, 'subject' : 'math', 'Test1' : 73, 'Test2' : 74},\n",
    "      {'id' : 3, 'subject' : 'math', 'Test1' : 75, 'Test2' : 86}\n",
    "    ]"
   ]
  },
  {
   "cell_type": "code",
   "execution_count": null,
   "metadata": {},
   "outputs": [],
   "source": [
    "['AVG' : (student['Test1'] + student['Test2'])/2"
   ]
  },
  {
   "cell_type": "code",
   "execution_count": 17,
   "metadata": {},
   "outputs": [
    {
     "data": {
      "text/plain": [
       "[None, None, None]"
      ]
     },
     "execution_count": 17,
     "metadata": {},
     "output_type": "execute_result"
    }
   ],
   "source": [
    "def avg(student): \n",
    "    student['AVG'] = (student['Test1'] + student['Test2']) / 2\n",
    "    \n",
    "list(map(avg, student_details))"
   ]
  },
  {
   "cell_type": "code",
   "execution_count": 16,
   "metadata": {},
   "outputs": [
    {
     "data": {
      "text/plain": [
       "[{'id': 1, 'subject': 'math', 'Test1': 70, 'Test2': 82},\n",
       " {'id': 2, 'subject': 'math', 'Test1': 73, 'Test2': 74},\n",
       " {'id': 3, 'subject': 'math', 'Test1': 75, 'Test2': 86}]"
      ]
     },
     "execution_count": 16,
     "metadata": {},
     "output_type": "execute_result"
    }
   ],
   "source": [
    "student_details"
   ]
  },
  {
   "cell_type": "code",
   "execution_count": null,
   "metadata": {},
   "outputs": [],
   "source": [
    " for item in mylist:\n",
    "    item.update( {\"elem\":\"value\"})\n",
    "    "
   ]
  },
  {
   "cell_type": "code",
   "execution_count": 21,
   "metadata": {},
   "outputs": [
    {
     "data": {
      "text/plain": [
       "[{'id': 1, 'subject': 'math', 'Test1': 70, 'Test2': 82, 'AVG': 76.0},\n",
       " {'id': 2, 'subject': 'math', 'Test1': 73, 'Test2': 74, 'AVG': 73.5},\n",
       " {'id': 3, 'subject': 'math', 'Test1': 75, 'Test2': 86, 'AVG': 80.5}]"
      ]
     },
     "execution_count": 21,
     "metadata": {},
     "output_type": "execute_result"
    }
   ],
   "source": [
    "[student.update({'AVG': (student['Test1'] + student['Test2']) / 2}) for student in student_details]\n",
    "student_details"
   ]
  },
  {
   "cell_type": "code",
   "execution_count": null,
   "metadata": {},
   "outputs": [],
   "source": []
  }
 ],
 "metadata": {
  "kernelspec": {
   "display_name": "Python 3",
   "language": "python",
   "name": "python3"
  },
  "language_info": {
   "codemirror_mode": {
    "name": "ipython",
    "version": 3
   },
   "file_extension": ".py",
   "mimetype": "text/x-python",
   "name": "python",
   "nbconvert_exporter": "python",
   "pygments_lexer": "ipython3",
   "version": "3.7.3"
  }
 },
 "nbformat": 4,
 "nbformat_minor": 4
}
