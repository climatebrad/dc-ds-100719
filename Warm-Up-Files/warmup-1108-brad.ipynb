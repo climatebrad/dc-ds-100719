{
 "cells": [
  {
   "cell_type": "code",
   "execution_count": null,
   "metadata": {},
   "outputs": [],
   "source": [
    "import pandas as pd\n",
    "%matplotlib inline\n",
    "\n",
    "calls = pd.read_pickle('calls.p').set_index('Calls')\n",
    "calls['freq'] = calls.Counts / calls.Counts.sum()\n",
    "calls.plot.bar(y='freq')\n"
   ]
  },
  {
   "cell_type": "code",
   "execution_count": null,
   "metadata": {},
   "outputs": [],
   "source": [
    "calls['freq'] = calls.Counts / calls.Counts.sum()"
   ]
  },
  {
   "cell_type": "code",
   "execution_count": null,
   "metadata": {},
   "outputs": [],
   "source": [
    "calls"
   ]
  },
  {
   "cell_type": "code",
   "execution_count": null,
   "metadata": {},
   "outputs": [],
   "source": [
    "mu = 7.816\n",
    "std = 1.3416\n",
    "\n",
    "p = 1 - std**2 / mu\n",
    "n = mu / (1 - std**2 / mu)\n",
    "print(f\"\"\"given mu = {mu} and std = {std}:\n",
    "   n = {n:.03f}\n",
    "   p = {p:.03f}\"\"\")\n",
    "# mu = n*p\n",
    "# std**2 = n*p(1-p)\n",
    "# std**2 / mu = 1 - p \n"
   ]
  },
  {
   "cell_type": "code",
   "execution_count": null,
   "metadata": {},
   "outputs": [],
   "source": [
    "p"
   ]
  },
  {
   "cell_type": "code",
   "execution_count": null,
   "metadata": {},
   "outputs": [],
   "source": [
    "n"
   ]
  },
  {
   "cell_type": "code",
   "execution_count": null,
   "metadata": {},
   "outputs": [],
   "source": [
    "import scipy"
   ]
  },
  {
   "cell_type": "code",
   "execution_count": null,
   "metadata": {},
   "outputs": [],
   "source": []
  }
 ],
 "metadata": {
  "language_info": {
   "name": "python",
   "pygments_lexer": "ipython3"
  }
 },
 "nbformat": 4,
 "nbformat_minor": 2
}
