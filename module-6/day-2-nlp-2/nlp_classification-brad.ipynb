{
 "cells": [
  {
   "cell_type": "code",
   "execution_count": 42,
   "metadata": {},
   "outputs": [],
   "source": [
    "import re\n",
    "import time\n",
    "\n",
    "import numpy as np\n",
    "import pandas as pd\n",
    "import requests"
   ]
  },
  {
   "cell_type": "code",
   "execution_count": 43,
   "metadata": {},
   "outputs": [],
   "source": [
    "#!pip install progressbar2\n",
    "from progressbar import progressbar"
   ]
  },
  {
   "cell_type": "markdown",
   "metadata": {},
   "source": [
    "## Scraping"
   ]
  },
  {
   "cell_type": "markdown",
   "metadata": {},
   "source": [
    "### Scraping Functions"
   ]
  },
  {
   "cell_type": "code",
   "execution_count": 44,
   "metadata": {},
   "outputs": [],
   "source": [
    "# function to scrape reddit page (takes a reddit .json url)\n",
    "# returns posts \n",
    "\n",
    "def scraper_bike(url):\n",
    "    headers = {'User-Agent' : 'Mozilla/5.0 (Macintosh; Intel Mac OS X 10_13_6) AppleWebKit/537.36 (KHTML, like Gecko) Chrome/79.0.3945.74 Safari/537.36'}\n",
    "    posts = []\n",
    "    after = {}\n",
    "\n",
    "    for page in progressbar(range(40)):\n",
    "        params = {'after': after}\n",
    "        pagepull = requests.get(url=url, params=params, headers=headers)\n",
    "        page_dict = pagepull.json()\n",
    "        posts.extend(page_dict['data']['children'])\n",
    "        after = page_dict['data']['after']\n",
    "        time.sleep(.2)\n",
    "        \n",
    "    return posts"
   ]
  },
  {
   "cell_type": "code",
   "execution_count": 45,
   "metadata": {},
   "outputs": [],
   "source": [
    "# function to convert posts to DataFrame - won't allow duplicate posts since unique id 'name' is set as index\n",
    "# Extract: name (as index) and subreddit, selftext, title (as columns)\n",
    "\n",
    "def posts_to_df(post_list):\n",
    "    i = 0\n",
    "    post_dict = {}\n",
    "    \n",
    "    for post in post_list:\n",
    "        ind = post_list[i]['data']\n",
    "        post_dict[ind['name']] = [ind['subreddit'], ind['title'], ind['selftext']]\n",
    "        i += 1\n",
    "\n",
    "    df_name = pd.DataFrame(post_dict)\n",
    "    df_name = df_name.T\n",
    "    df_name.columns = ['subreddit', 'title', 'selftext']\n",
    "    \n",
    "    return df_name"
   ]
  },
  {
   "cell_type": "code",
   "execution_count": 46,
   "metadata": {},
   "outputs": [],
   "source": [
    "# takes scraper function and url - outputs dataframe\n",
    "\n",
    "def scrape_to_df(scrape_func, url):\n",
    "    \n",
    "    return posts_to_df(scrape_func(url))"
   ]
  },
  {
   "cell_type": "code",
   "execution_count": 47,
   "metadata": {},
   "outputs": [],
   "source": [
    "#### If you want to scrape repeatedly over time and add to a csv\n",
    "# scrape, import csv, concat, drop duplicate, and output to csv\n",
    "# takes in scraper function, url, csv filename to import, csv filename to output\n",
    "# Outputs - Concatenated DataFrame as csv\n",
    "\n",
    "def scrape_add(scrape_func, url, import_file, export_file):\n",
    "    scrape_df = posts_to_df(scrape_func(url))\n",
    "    imported_df = pd.read_csv(import_file, index_col = 'Unnamed: 0')\n",
    "    concat_df = pd.concat([imported_df, scrape_df])\n",
    "    concat_df = concat_df[~concat_df.index.duplicated(keep='first')]\n",
    "    concat_df.to_csv(export_file)"
   ]
  },
  {
   "cell_type": "markdown",
   "metadata": {},
   "source": [
    "### Run Scrape"
   ]
  },
  {
   "cell_type": "code",
   "execution_count": 48,
   "metadata": {},
   "outputs": [
    {
     "name": "stderr",
     "output_type": "stream",
     "text": [
      "100% (40 of 40) |########################| Elapsed Time: 0:00:28 Time:  0:00:28\n",
      "100% (40 of 40) |########################| Elapsed Time: 0:00:25 Time:  0:00:25\n"
     ]
    }
   ],
   "source": [
    "# You can also put in any 2 subreddits in as the URL and get results for those\n",
    "\n",
    "nfltest = scrape_to_df(scraper_bike, 'https://www.reddit.com/r/nfl.json')\n",
    "nbatest = scrape_to_df(scraper_bike, 'https://www.reddit.com/r/nba.json')"
   ]
  },
  {
   "cell_type": "code",
   "execution_count": 49,
   "metadata": {},
   "outputs": [
    {
     "name": "stderr",
     "output_type": "stream",
     "text": [
      "100% (40 of 40) |########################| Elapsed Time: 0:00:29 Time:  0:00:29\n",
      "100% (40 of 40) |########################| Elapsed Time: 0:00:27 Time:  0:00:27\n"
     ]
    }
   ],
   "source": [
    "politics_test = scrape_to_df(scraper_bike, 'https://www.reddit.com/r/politics.json')\n",
    "conservative_test = scrape_to_df(scraper_bike, 'https://www.reddit.com/r/conservative.json')"
   ]
  },
  {
   "cell_type": "code",
   "execution_count": 50,
   "metadata": {},
   "outputs": [
    {
     "data": {
      "text/plain": [
       "(786, 3)"
      ]
     },
     "execution_count": 50,
     "metadata": {},
     "output_type": "execute_result"
    }
   ],
   "source": [
    "nbatest.shape"
   ]
  },
  {
   "cell_type": "code",
   "execution_count": 51,
   "metadata": {},
   "outputs": [
    {
     "data": {
      "text/plain": [
       "(944, 3)"
      ]
     },
     "execution_count": 51,
     "metadata": {},
     "output_type": "execute_result"
    }
   ],
   "source": [
    "nfltest.shape"
   ]
  },
  {
   "cell_type": "markdown",
   "metadata": {},
   "source": [
    "##### These scrape_add functions add to already built csvs"
   ]
  },
  {
   "cell_type": "code",
   "execution_count": 52,
   "metadata": {},
   "outputs": [],
   "source": [
    "# scrape_add(scraper_bike, 'https://www.reddit.com/r/CollegeBasketball/new.json', 'NCAA_Posts_Update2.csv', 'NCAA_Posts_Update3.csv')\n",
    "# scrape_add(scraper_bike, 'https://www.reddit.com/r/AskScience/new.json', 'AskSci_Posts_Update2.csv', 'AskSci_Posts_Update3.csv')\n",
    "# scrape_add(scraper_bike, 'https://www.reddit.com/r/nba/new.json', 'NBA_Posts_Update2.csv', 'NBA_Posts_Update3.csv')\n",
    "# scrape_add(scraper_bike, 'https://www.reddit.com/r/nfl/new.json', 'NFL_Posts_Update2.csv', 'NFL_Posts_Update3.csv')"
   ]
  },
  {
   "cell_type": "markdown",
   "metadata": {},
   "source": [
    "### Data Cleaning / Preprocessing"
   ]
  },
  {
   "cell_type": "code",
   "execution_count": 147,
   "metadata": {},
   "outputs": [],
   "source": [
    "import nltk\n",
    "from nltk.stem import WordNetLemmatizer\n",
    "from nltk.tokenize import RegexpTokenizer, sent_tokenize\n",
    "from nltk.corpus import stopwords\n",
    "from sklearn.feature_extraction.text import CountVectorizer, TfidfVectorizer\n",
    "\n",
    "pd.set_option('max_colwidth', 300)"
   ]
  },
  {
   "cell_type": "code",
   "execution_count": 54,
   "metadata": {},
   "outputs": [],
   "source": [
    "# drop column\n",
    "\n",
    "nfltest = nfltest.drop(columns = 'selftext')\n",
    "nbatest = nbatest.drop(columns = 'selftext')"
   ]
  },
  {
   "cell_type": "code",
   "execution_count": 124,
   "metadata": {},
   "outputs": [],
   "source": [
    "# merge subreddit data\n",
    "\n",
    "train = pd.concat([nfltest, nbatest])"
   ]
  },
  {
   "cell_type": "code",
   "execution_count": 56,
   "metadata": {},
   "outputs": [
    {
     "data": {
      "text/html": [
       "<div>\n",
       "<style scoped>\n",
       "    .dataframe tbody tr th:only-of-type {\n",
       "        vertical-align: middle;\n",
       "    }\n",
       "\n",
       "    .dataframe tbody tr th {\n",
       "        vertical-align: top;\n",
       "    }\n",
       "\n",
       "    .dataframe thead th {\n",
       "        text-align: right;\n",
       "    }\n",
       "</style>\n",
       "<table border=\"1\" class=\"dataframe\">\n",
       "  <thead>\n",
       "    <tr style=\"text-align: right;\">\n",
       "      <th></th>\n",
       "      <th>subreddit</th>\n",
       "      <th>title</th>\n",
       "    </tr>\n",
       "  </thead>\n",
       "  <tbody>\n",
       "    <tr>\n",
       "      <th>t3_ei5he6</th>\n",
       "      <td>nfl</td>\n",
       "      <td>Talko Tuesday</td>\n",
       "    </tr>\n",
       "    <tr>\n",
       "      <th>t3_ehwkan</th>\n",
       "      <td>nfl</td>\n",
       "      <td>/r/NFL Best Of 2019 Nomination Thread</td>\n",
       "    </tr>\n",
       "    <tr>\n",
       "      <th>t3_ei32ez</th>\n",
       "      <td>nfl</td>\n",
       "      <td>[Silver] The Ron Rivera deal is done. He has reached an agreement to become the new coach of the Redskins, according to a source familiar with negotiations. @AroundTheNFL @nflnetwork</td>\n",
       "    </tr>\n",
       "    <tr>\n",
       "      <th>t3_ei7htz</th>\n",
       "      <td>nfl</td>\n",
       "      <td>[Schefter]John Dorsey is out as the Browns’ GM, per source. Two sides couldn’t come to an agreement on a future re-structure of the organization.</td>\n",
       "    </tr>\n",
       "    <tr>\n",
       "      <th>t3_ei2x87</th>\n",
       "      <td>nfl</td>\n",
       "      <td>[Schefter] Giants are expected to interview former Packers’ head coach Mike McCarthy this weekend, per source.</td>\n",
       "    </tr>\n",
       "    <tr>\n",
       "      <th>...</th>\n",
       "      <td>...</td>\n",
       "      <td>...</td>\n",
       "    </tr>\n",
       "    <tr>\n",
       "      <th>t3_egikz1</th>\n",
       "      <td>nba</td>\n",
       "      <td>The last time the Celtics had two 30+ point scorers in the same game before tonight (Jayson Tatum and Jaylen Brown) was 2014 (Jeff Green and Avery Bradley)</td>\n",
       "    </tr>\n",
       "    <tr>\n",
       "      <th>t3_egha2u</th>\n",
       "      <td>nba</td>\n",
       "      <td>Next season, LeBron James (currently 3rd, $306m) will overtake Kobe Bryant (2nd, $323m) and Kevin Garnett (1st, $334m) to become the NBA player with the highest career earnings ever.</td>\n",
       "    </tr>\n",
       "    <tr>\n",
       "      <th>t3_eghd11</th>\n",
       "      <td>nba</td>\n",
       "      <td>[Highlight] Jayson Tatum gets free and throws down the hammer!</td>\n",
       "    </tr>\n",
       "    <tr>\n",
       "      <th>t3_eh4img</th>\n",
       "      <td>nba</td>\n",
       "      <td>Who's better in each following group?</td>\n",
       "    </tr>\n",
       "    <tr>\n",
       "      <th>t3_egpz42</th>\n",
       "      <td>nba</td>\n",
       "      <td>NBA Decade Awards of Reddittors - What's your opinion?</td>\n",
       "    </tr>\n",
       "  </tbody>\n",
       "</table>\n",
       "<p>1730 rows × 2 columns</p>\n",
       "</div>"
      ],
      "text/plain": [
       "          subreddit  \\\n",
       "t3_ei5he6       nfl   \n",
       "t3_ehwkan       nfl   \n",
       "t3_ei32ez       nfl   \n",
       "t3_ei7htz       nfl   \n",
       "t3_ei2x87       nfl   \n",
       "...             ...   \n",
       "t3_egikz1       nba   \n",
       "t3_egha2u       nba   \n",
       "t3_eghd11       nba   \n",
       "t3_eh4img       nba   \n",
       "t3_egpz42       nba   \n",
       "\n",
       "                                                                                                                                                                                            title  \n",
       "t3_ei5he6                                                                                                                                                                           Talko Tuesday  \n",
       "t3_ehwkan                                                                                                                                                   /r/NFL Best Of 2019 Nomination Thread  \n",
       "t3_ei32ez  [Silver] The Ron Rivera deal is done. He has reached an agreement to become the new coach of the Redskins, according to a source familiar with negotiations. @AroundTheNFL @nflnetwork  \n",
       "t3_ei7htz                                       [Schefter]John Dorsey is out as the Browns’ GM, per source. Two sides couldn’t come to an agreement on a future re-structure of the organization.  \n",
       "t3_ei2x87                                                                          [Schefter] Giants are expected to interview former Packers’ head coach Mike McCarthy this weekend, per source.  \n",
       "...                                                                                                                                                                                           ...  \n",
       "t3_egikz1                             The last time the Celtics had two 30+ point scorers in the same game before tonight (Jayson Tatum and Jaylen Brown) was 2014 (Jeff Green and Avery Bradley)  \n",
       "t3_egha2u  Next season, LeBron James (currently 3rd, $306m) will overtake Kobe Bryant (2nd, $323m) and Kevin Garnett (1st, $334m) to become the NBA player with the highest career earnings ever.  \n",
       "t3_eghd11                                                                                                                          [Highlight] Jayson Tatum gets free and throws down the hammer!  \n",
       "t3_eh4img                                                                                                                                                   Who's better in each following group?  \n",
       "t3_egpz42                                                                                                                                  NBA Decade Awards of Reddittors - What's your opinion?  \n",
       "\n",
       "[1730 rows x 2 columns]"
      ]
     },
     "execution_count": 56,
     "metadata": {},
     "output_type": "execute_result"
    }
   ],
   "source": [
    "train"
   ]
  },
  {
   "cell_type": "markdown",
   "metadata": {},
   "source": [
    "##### Tokenize (grab only word characters)"
   ]
  },
  {
   "cell_type": "code",
   "execution_count": 57,
   "metadata": {},
   "outputs": [],
   "source": [
    "word_tokenizer = RegexpTokenizer(r'\\w+')"
   ]
  },
  {
   "cell_type": "code",
   "execution_count": 58,
   "metadata": {},
   "outputs": [],
   "source": [
    "# train['title'] = train['title'].map(lambda x: word_tokenizer.tokenize(x.lower()))"
   ]
  },
  {
   "cell_type": "code",
   "execution_count": 125,
   "metadata": {},
   "outputs": [],
   "source": [
    "# rejoin list of tokenized words into single string for each row\n",
    "\n",
    "# train['title'] = train['title'].map(lambda x: ' '.join(x))\n",
    "train['title'] = train['title'].map(lambda x: re.sub(r'\\W+',' ', x.lower()))"
   ]
  },
  {
   "cell_type": "code",
   "execution_count": 76,
   "metadata": {},
   "outputs": [
    {
     "data": {
      "text/plain": [
       "t3_ei5he6                                                                                                                                                                                                     talko tuesday\n",
       "t3_ehwkan                                                                                                                                                                                   r nfl best of nomination thread\n",
       "t3_ei32ez                                   silver the ron rivera deal is done he has reached an agreement to become the new coach of the redskins according to a source familiar with negotiations aroundthenfl nflnetwork\n",
       "t3_ei7htz                                                                     schefter john dorsey is out as the browns gm per source two sides couldn t come to an agreement on a future re structure of the organization \n",
       "t3_ei2x87                                                                                                        schefter giants are expected to interview former packers head coach mike mccarthy this weekend per source \n",
       "t3_ei3j1c     schefter baylor hc matt rhule declined the chance to interview for the cleveland browns head coaching job per league sources rhule is expected to be a leading candidate for the giants and panthers hc jobs \n",
       "t3_ei5tnj                                                                                                                                              serious cj anderson says on twitter that his brother has been killed\n",
       "t3_ei3x5k                                                                                                                                         schefter jaguars hc doug marrone is returning for the season per sources \n",
       "t3_ei2us9                                                                                                            on the one hand we re due a super bowl run from a team outside of the top two seeds the last time was \n",
       "t3_ei4c4e                                                                                                                                campbell bears gm ryan pace definitively commits to mitch trubisky as bears qb in \n",
       "Name: title, dtype: object"
      ]
     },
     "execution_count": 76,
     "metadata": {},
     "output_type": "execute_result"
    }
   ],
   "source": [
    "train['title'][0:10]"
   ]
  },
  {
   "cell_type": "code",
   "execution_count": 77,
   "metadata": {},
   "outputs": [
    {
     "data": {
      "text/plain": [
       "t3_egikz1                  the last time the celtics had two point scorers in the same game before tonight jayson tatum and jaylen brown was jeff green and avery bradley \n",
       "t3_egha2u    next season lebron james currently rd m will overtake kobe bryant nd m and kevin garnett st m to become the nba player with the highest career earnings ever \n",
       "t3_eghd11                                                                                                     highlight jayson tatum gets free and throws down the hammer \n",
       "t3_eh4img                                                                                                                            who s better in each following group \n",
       "t3_egpz42                                                                                                             nba decade awards of reddittors what s your opinion \n",
       "Name: title, dtype: object"
      ]
     },
     "execution_count": 77,
     "metadata": {},
     "output_type": "execute_result"
    }
   ],
   "source": [
    "train['title'][-5:]"
   ]
  },
  {
   "cell_type": "markdown",
   "metadata": {},
   "source": [
    "### Train test split and converting series to list of strings then to array"
   ]
  },
  {
   "cell_type": "code",
   "execution_count": 126,
   "metadata": {},
   "outputs": [],
   "source": [
    "X = train[['title']]\n",
    "y = train['subreddit']"
   ]
  },
  {
   "cell_type": "code",
   "execution_count": 127,
   "metadata": {},
   "outputs": [],
   "source": [
    "from sklearn.model_selection import train_test_split\n",
    "\n",
    "X_train, X_test, y_train, y_test = train_test_split(X,\n",
    "                                                    y,\n",
    "                                                    test_size=.25,\n",
    "                                                    random_state=42,\n",
    "                                                    stratify=y)"
   ]
  },
  {
   "cell_type": "code",
   "execution_count": 128,
   "metadata": {},
   "outputs": [
    {
     "data": {
      "text/plain": [
       "nfl    0.545665\n",
       "nba    0.454335\n",
       "Name: subreddit, dtype: float64"
      ]
     },
     "execution_count": 128,
     "metadata": {},
     "output_type": "execute_result"
    }
   ],
   "source": [
    "# baseline is\n",
    "\n",
    "y.value_counts(normalize=True)"
   ]
  },
  {
   "cell_type": "code",
   "execution_count": 129,
   "metadata": {},
   "outputs": [],
   "source": [
    "# create our training data list - this is a list of strings, with each string being a post title\n",
    "\n",
    "clean_train_data = []\n",
    "\n",
    "for traindata in X_train['title']:\n",
    "    clean_train_data.append(traindata)"
   ]
  },
  {
   "cell_type": "code",
   "execution_count": 82,
   "metadata": {},
   "outputs": [
    {
     "data": {
      "text/plain": [
       "1297"
      ]
     },
     "execution_count": 82,
     "metadata": {},
     "output_type": "execute_result"
    }
   ],
   "source": [
    "len(clean_train_data)"
   ]
  },
  {
   "cell_type": "code",
   "execution_count": 130,
   "metadata": {},
   "outputs": [],
   "source": [
    "# create test data list\n",
    "\n",
    "clean_test_data = []\n",
    "\n",
    "for testdata in X_test['title']:\n",
    "    clean_test_data.append(testdata)"
   ]
  },
  {
   "cell_type": "code",
   "execution_count": 84,
   "metadata": {},
   "outputs": [
    {
     "data": {
      "text/plain": [
       "433"
      ]
     },
     "execution_count": 84,
     "metadata": {},
     "output_type": "execute_result"
    }
   ],
   "source": [
    "len(clean_test_data)"
   ]
  },
  {
   "cell_type": "markdown",
   "metadata": {},
   "source": [
    "### Count Vectorizer"
   ]
  },
  {
   "cell_type": "code",
   "execution_count": 131,
   "metadata": {},
   "outputs": [],
   "source": [
    "# instantiate our CountVectorizer. This counts the number of appearances of all the words in our training data and\n",
    "# eliminates common english stop words. 5000 max features works well for our purposes (tested various numbers). Our\n",
    "# data is already preprocessed and tokenized manually earlier. ngram_range is 1,3, although all or nearly all our\n",
    "# features are single words\n",
    "\n",
    "vectorizer = CountVectorizer(analyzer=\"word\",\n",
    "                             tokenizer=None,\n",
    "                             preprocessor=None,\n",
    "                             stop_words='english',\n",
    "                             max_features=5000,\n",
    "                             ngram_range=(1, 3))"
   ]
  },
  {
   "cell_type": "code",
   "execution_count": 132,
   "metadata": {},
   "outputs": [],
   "source": [
    "# fit our training data and test data lists to our count_vectorizer\n",
    "\n",
    "train_data_features = vectorizer.fit_transform(clean_train_data)\n",
    "\n",
    "test_data_features = vectorizer.transform(clean_test_data)"
   ]
  },
  {
   "cell_type": "code",
   "execution_count": 133,
   "metadata": {},
   "outputs": [],
   "source": [
    "# convert to array\n",
    "\n",
    "train_data_features = train_data_features.toarray()"
   ]
  },
  {
   "cell_type": "code",
   "execution_count": 134,
   "metadata": {},
   "outputs": [
    {
     "data": {
      "text/plain": [
       "((1297, 5000), (433, 5000))"
      ]
     },
     "execution_count": 134,
     "metadata": {},
     "output_type": "execute_result"
    }
   ],
   "source": [
    "# check shapes\n",
    "\n",
    "train_data_features.shape, test_data_features.shape"
   ]
  },
  {
   "cell_type": "code",
   "execution_count": 135,
   "metadata": {
    "scrolled": true
   },
   "outputs": [],
   "source": [
    "# I wanted check that the features corpus was as expected - removed print statement for readability\n",
    "\n",
    "vocab = vectorizer.get_feature_names()"
   ]
  },
  {
   "cell_type": "code",
   "execution_count": 136,
   "metadata": {
    "scrolled": true
   },
   "outputs": [
    {
     "data": {
      "text/plain": [
       "['000',\n",
       " '000 bonus',\n",
       " '000 yards',\n",
       " '10',\n",
       " '10 22',\n",
       " '10 22 defeat',\n",
       " '10 december',\n",
       " '10 games',\n",
       " '10 los',\n",
       " '10 los angeles',\n",
       " '10 points',\n",
       " '10 years',\n",
       " '100',\n",
       " '1000',\n",
       " '1000 yard',\n",
       " '102',\n",
       " '105',\n",
       " '108',\n",
       " '10th',\n",
       " '11',\n",
       " '11 13',\n",
       " '11 20',\n",
       " '11 98',\n",
       " '11 98 97',\n",
       " '11 field',\n",
       " '11 players',\n",
       " '11 point',\n",
       " '110',\n",
       " '112',\n",
       " '113',\n",
       " '115',\n",
       " '116',\n",
       " '117',\n",
       " '117 passer',\n",
       " '117 passer rating',\n",
       " '119',\n",
       " '12',\n",
       " '12 20',\n",
       " '12 21',\n",
       " '12 27',\n",
       " '12 27 2019',\n",
       " '12 28',\n",
       " '12 37',\n",
       " '12 record',\n",
       " '12 sacks',\n",
       " '12 sacks adrian',\n",
       " '120',\n",
       " '122',\n",
       " '123',\n",
       " '129',\n",
       " '12th',\n",
       " '12th head',\n",
       " '12th head coach',\n",
       " '13',\n",
       " '13 20',\n",
       " '13 21',\n",
       " '13 games',\n",
       " '14',\n",
       " '14 17',\n",
       " '14 19',\n",
       " '14th',\n",
       " '15',\n",
       " '159',\n",
       " '15th',\n",
       " '16',\n",
       " '16 game',\n",
       " '16 game season',\n",
       " '16 games',\n",
       " '16 games season',\n",
       " '167',\n",
       " '17',\n",
       " '18',\n",
       " '18 points',\n",
       " '18 points assists',\n",
       " '18th',\n",
       " '19',\n",
       " '19 december',\n",
       " '19 december 29',\n",
       " '1954',\n",
       " '1987',\n",
       " '1992',\n",
       " '1999',\n",
       " '1st',\n",
       " '1st amp',\n",
       " '20',\n",
       " '20 12',\n",
       " '20 defeat',\n",
       " '20 points',\n",
       " '20 years',\n",
       " '20 years old',\n",
       " '200',\n",
       " '2000',\n",
       " '2002',\n",
       " '2005',\n",
       " '2007',\n",
       " '2009',\n",
       " '2010',\n",
       " '2010 2012',\n",
       " '2010 2019',\n",
       " '2010s',\n",
       " '2011',\n",
       " '2012',\n",
       " '2013',\n",
       " '2014',\n",
       " '2015',\n",
       " '2016',\n",
       " '2016 complete',\n",
       " '2016 complete 70',\n",
       " '2017',\n",
       " '2018',\n",
       " '2019',\n",
       " '2019 12',\n",
       " '2019 12 28',\n",
       " '2019 moves',\n",
       " '2019 moves za',\n",
       " '2019 nfl',\n",
       " '2019 patriots',\n",
       " '2019 patriots best',\n",
       " '2019 regular',\n",
       " '2019 regular season',\n",
       " '2019 season',\n",
       " '2019 snaps',\n",
       " '2019 snaps coveage',\n",
       " '2020',\n",
       " '2020 nfl',\n",
       " '2020 nfl schedule',\n",
       " '206',\n",
       " '20th',\n",
       " '21',\n",
       " '21 10',\n",
       " '21 11',\n",
       " '21 december',\n",
       " '21 points',\n",
       " '22',\n",
       " '22 10',\n",
       " '22 11',\n",
       " '22 december',\n",
       " '22 defeat',\n",
       " '23',\n",
       " '23 11',\n",
       " '23 defeat',\n",
       " '23 defeat indiana',\n",
       " '23 shooting',\n",
       " '24',\n",
       " '24 48',\n",
       " '24 48 hours',\n",
       " '24 points',\n",
       " '25',\n",
       " '25 minutes',\n",
       " '250',\n",
       " '250 000',\n",
       " '250 000 bonus',\n",
       " '26',\n",
       " '27',\n",
       " '27 2019',\n",
       " '28',\n",
       " '28 2019',\n",
       " '29',\n",
       " '29 2019',\n",
       " '2nd',\n",
       " '30',\n",
       " '30 2019',\n",
       " '30 point',\n",
       " '30 points',\n",
       " '30 tds',\n",
       " '30 years',\n",
       " '30 years ago',\n",
       " '303',\n",
       " '303 points',\n",
       " '31',\n",
       " '31 2019',\n",
       " '31 pts',\n",
       " '32',\n",
       " '32 players',\n",
       " '32 players averaging',\n",
       " '32 points',\n",
       " '3296',\n",
       " '33',\n",
       " '34',\n",
       " '34 points',\n",
       " '35',\n",
       " '36',\n",
       " '37',\n",
       " '37 pm',\n",
       " '38',\n",
       " '39',\n",
       " '3fg',\n",
       " '3pt',\n",
       " '3rd',\n",
       " '3rd best',\n",
       " '3rd player',\n",
       " '40',\n",
       " '40 sack',\n",
       " '400',\n",
       " '4000',\n",
       " '41',\n",
       " '43',\n",
       " '44',\n",
       " '45',\n",
       " '45 yard']"
      ]
     },
     "execution_count": 136,
     "metadata": {},
     "output_type": "execute_result"
    }
   ],
   "source": [
    "vocab[0:200]"
   ]
  },
  {
   "cell_type": "markdown",
   "metadata": {},
   "source": [
    "## MODELING"
   ]
  },
  {
   "cell_type": "markdown",
   "metadata": {},
   "source": [
    "### Logistic Regression"
   ]
  },
  {
   "cell_type": "code",
   "execution_count": 91,
   "metadata": {},
   "outputs": [],
   "source": [
    "from sklearn.linear_model import LogisticRegression"
   ]
  },
  {
   "cell_type": "code",
   "execution_count": 137,
   "metadata": {},
   "outputs": [],
   "source": [
    "# fit logistic regression model\n",
    "\n",
    "lr = LogisticRegression(penalty='l2')"
   ]
  },
  {
   "cell_type": "code",
   "execution_count": 138,
   "metadata": {},
   "outputs": [
    {
     "data": {
      "text/plain": [
       "((1297, 5000), (1297,))"
      ]
     },
     "execution_count": 138,
     "metadata": {},
     "output_type": "execute_result"
    }
   ],
   "source": [
    "# shape check\n",
    "\n",
    "train_data_features.shape, y_train.shape"
   ]
  },
  {
   "cell_type": "code",
   "execution_count": 139,
   "metadata": {},
   "outputs": [
    {
     "data": {
      "text/plain": [
       "LogisticRegression(C=1.0, class_weight=None, dual=False, fit_intercept=True,\n",
       "                   intercept_scaling=1, l1_ratio=None, max_iter=100,\n",
       "                   multi_class='auto', n_jobs=None, penalty='l2',\n",
       "                   random_state=None, solver='lbfgs', tol=0.0001, verbose=0,\n",
       "                   warm_start=False)"
      ]
     },
     "execution_count": 139,
     "metadata": {},
     "output_type": "execute_result"
    }
   ],
   "source": [
    "lr.fit(train_data_features, y_train)"
   ]
  },
  {
   "cell_type": "code",
   "execution_count": 140,
   "metadata": {},
   "outputs": [
    {
     "data": {
      "text/plain": [
       "0.9946029298380878"
      ]
     },
     "execution_count": 140,
     "metadata": {},
     "output_type": "execute_result"
    }
   ],
   "source": [
    "lr.score(train_data_features, y_train)"
   ]
  },
  {
   "cell_type": "code",
   "execution_count": 141,
   "metadata": {},
   "outputs": [
    {
     "data": {
      "text/plain": [
       "0.9330254041570438"
      ]
     },
     "execution_count": 141,
     "metadata": {},
     "output_type": "execute_result"
    }
   ],
   "source": [
    "lr.score(test_data_features, y_test)"
   ]
  },
  {
   "cell_type": "markdown",
   "metadata": {},
   "source": [
    "### Feature comparison"
   ]
  },
  {
   "cell_type": "markdown",
   "metadata": {},
   "source": [
    "Creates a dataframe that matches features to coefficients"
   ]
  },
  {
   "cell_type": "code",
   "execution_count": 142,
   "metadata": {},
   "outputs": [],
   "source": [
    "coef_list = lr.coef_.tolist()"
   ]
  },
  {
   "cell_type": "code",
   "execution_count": 143,
   "metadata": {},
   "outputs": [],
   "source": [
    "coef_list = coef_list[0]"
   ]
  },
  {
   "cell_type": "code",
   "execution_count": 144,
   "metadata": {},
   "outputs": [],
   "source": [
    "coef_df = pd.DataFrame({'features': vectorizer.get_feature_names(),\n",
    "                        'coefs': coef_list})"
   ]
  },
  {
   "cell_type": "code",
   "execution_count": 145,
   "metadata": {
    "scrolled": true
   },
   "outputs": [
    {
     "data": {
      "text/html": [
       "<div>\n",
       "<style scoped>\n",
       "    .dataframe tbody tr th:only-of-type {\n",
       "        vertical-align: middle;\n",
       "    }\n",
       "\n",
       "    .dataframe tbody tr th {\n",
       "        vertical-align: top;\n",
       "    }\n",
       "\n",
       "    .dataframe thead th {\n",
       "        text-align: right;\n",
       "    }\n",
       "</style>\n",
       "<table border=\"1\" class=\"dataframe\">\n",
       "  <thead>\n",
       "    <tr style=\"text-align: right;\">\n",
       "      <th></th>\n",
       "      <th>features</th>\n",
       "      <th>coefs</th>\n",
       "    </tr>\n",
       "  </thead>\n",
       "  <tbody>\n",
       "    <tr>\n",
       "      <th>2011</th>\n",
       "      <td>nba</td>\n",
       "      <td>-2.363942</td>\n",
       "    </tr>\n",
       "    <tr>\n",
       "      <th>1341</th>\n",
       "      <td>harden</td>\n",
       "      <td>-1.171491</td>\n",
       "    </tr>\n",
       "    <tr>\n",
       "      <th>1862</th>\n",
       "      <td>luka</td>\n",
       "      <td>-1.153821</td>\n",
       "    </tr>\n",
       "    <tr>\n",
       "      <th>1738</th>\n",
       "      <td>lebron</td>\n",
       "      <td>-1.140888</td>\n",
       "    </tr>\n",
       "    <tr>\n",
       "      <th>1381</th>\n",
       "      <td>heat</td>\n",
       "      <td>-1.012662</td>\n",
       "    </tr>\n",
       "    <tr>\n",
       "      <th>...</th>\n",
       "      <td>...</td>\n",
       "      <td>...</td>\n",
       "    </tr>\n",
       "    <tr>\n",
       "      <th>4946</th>\n",
       "      <td>yards</td>\n",
       "      <td>1.279936</td>\n",
       "    </tr>\n",
       "    <tr>\n",
       "      <th>3011</th>\n",
       "      <td>qb</td>\n",
       "      <td>1.339875</td>\n",
       "    </tr>\n",
       "    <tr>\n",
       "      <th>205</th>\n",
       "      <td>49ers</td>\n",
       "      <td>1.348921</td>\n",
       "    </tr>\n",
       "    <tr>\n",
       "      <th>2205</th>\n",
       "      <td>patriots</td>\n",
       "      <td>1.407880</td>\n",
       "    </tr>\n",
       "    <tr>\n",
       "      <th>2052</th>\n",
       "      <td>nfl</td>\n",
       "      <td>2.386070</td>\n",
       "    </tr>\n",
       "  </tbody>\n",
       "</table>\n",
       "<p>5000 rows × 2 columns</p>\n",
       "</div>"
      ],
      "text/plain": [
       "      features     coefs\n",
       "2011       nba -2.363942\n",
       "1341    harden -1.171491\n",
       "1862      luka -1.153821\n",
       "1738    lebron -1.140888\n",
       "1381      heat -1.012662\n",
       "...        ...       ...\n",
       "4946     yards  1.279936\n",
       "3011        qb  1.339875\n",
       "205      49ers  1.348921\n",
       "2205  patriots  1.407880\n",
       "2052       nfl  2.386070\n",
       "\n",
       "[5000 rows x 2 columns]"
      ]
     },
     "execution_count": 145,
     "metadata": {},
     "output_type": "execute_result"
    }
   ],
   "source": [
    "coef_df.sort_values(by = ['coefs'])"
   ]
  },
  {
   "cell_type": "markdown",
   "metadata": {},
   "source": [
    "### Let's throw out these unfair words and rerun"
   ]
  },
  {
   "cell_type": "code",
   "execution_count": 148,
   "metadata": {},
   "outputs": [],
   "source": [
    "stop_words = set(stopwords.words('english'))\n",
    "\n",
    "extra_stopwords = ['nba', 'basketball', 'football', 'nfl']\n",
    "\n",
    "stop_words.update(extra_stopwords)"
   ]
  },
  {
   "cell_type": "code",
   "execution_count": 149,
   "metadata": {},
   "outputs": [
    {
     "data": {
      "text/plain": [
       "((1297, 5000), (433, 5000))"
      ]
     },
     "execution_count": 149,
     "metadata": {},
     "output_type": "execute_result"
    }
   ],
   "source": [
    "vectorizer = CountVectorizer(analyzer = \"word\",\n",
    "                             tokenizer = None,\n",
    "                             preprocessor = None,\n",
    "                             stop_words = stop_words,\n",
    "                             max_features = 5000,\n",
    "                             ngram_range = (1, 3))\n",
    "\n",
    "train_data_features = vectorizer.fit_transform(clean_train_data)\n",
    "\n",
    "test_data_features = vectorizer.transform(clean_test_data)\n",
    "\n",
    "train_data_features = train_data_features.toarray()\n",
    "\n",
    "train_data_features.shape, test_data_features.shape"
   ]
  },
  {
   "cell_type": "code",
   "execution_count": 150,
   "metadata": {},
   "outputs": [
    {
     "data": {
      "text/plain": [
       "LogisticRegression(C=1.0, class_weight=None, dual=False, fit_intercept=True,\n",
       "                   intercept_scaling=1, l1_ratio=None, max_iter=100,\n",
       "                   multi_class='auto', n_jobs=None, penalty='l2',\n",
       "                   random_state=None, solver='lbfgs', tol=0.0001, verbose=0,\n",
       "                   warm_start=False)"
      ]
     },
     "execution_count": 150,
     "metadata": {},
     "output_type": "execute_result"
    }
   ],
   "source": [
    "lr.fit(train_data_features, y_train)"
   ]
  },
  {
   "cell_type": "code",
   "execution_count": 151,
   "metadata": {},
   "outputs": [
    {
     "data": {
      "text/plain": [
       "0.992289899768697"
      ]
     },
     "execution_count": 151,
     "metadata": {},
     "output_type": "execute_result"
    }
   ],
   "source": [
    "lr.score(train_data_features, y_train)"
   ]
  },
  {
   "cell_type": "code",
   "execution_count": 152,
   "metadata": {},
   "outputs": [
    {
     "data": {
      "text/plain": [
       "0.9076212471131639"
      ]
     },
     "execution_count": 152,
     "metadata": {},
     "output_type": "execute_result"
    }
   ],
   "source": [
    "lr.score(test_data_features, y_test)"
   ]
  },
  {
   "cell_type": "code",
   "execution_count": 153,
   "metadata": {
    "scrolled": true
   },
   "outputs": [
    {
     "data": {
      "text/html": [
       "<div>\n",
       "<style scoped>\n",
       "    .dataframe tbody tr th:only-of-type {\n",
       "        vertical-align: middle;\n",
       "    }\n",
       "\n",
       "    .dataframe tbody tr th {\n",
       "        vertical-align: top;\n",
       "    }\n",
       "\n",
       "    .dataframe thead th {\n",
       "        text-align: right;\n",
       "    }\n",
       "</style>\n",
       "<table border=\"1\" class=\"dataframe\">\n",
       "  <thead>\n",
       "    <tr style=\"text-align: right;\">\n",
       "      <th></th>\n",
       "      <th>features</th>\n",
       "      <th>coefs</th>\n",
       "    </tr>\n",
       "  </thead>\n",
       "  <tbody>\n",
       "    <tr>\n",
       "      <th>1444</th>\n",
       "      <td>heat</td>\n",
       "      <td>-1.130488</td>\n",
       "    </tr>\n",
       "    <tr>\n",
       "      <th>1811</th>\n",
       "      <td>lebron</td>\n",
       "      <td>-1.119907</td>\n",
       "    </tr>\n",
       "    <tr>\n",
       "      <th>1893</th>\n",
       "      <td>luka</td>\n",
       "      <td>-1.113973</td>\n",
       "    </tr>\n",
       "    <tr>\n",
       "      <th>1408</th>\n",
       "      <td>harden</td>\n",
       "      <td>-1.099834</td>\n",
       "    </tr>\n",
       "    <tr>\n",
       "      <th>1750</th>\n",
       "      <td>lakers</td>\n",
       "      <td>-1.010432</td>\n",
       "    </tr>\n",
       "    <tr>\n",
       "      <th>...</th>\n",
       "      <td>...</td>\n",
       "      <td>...</td>\n",
       "    </tr>\n",
       "    <tr>\n",
       "      <th>110</th>\n",
       "      <td>2019</td>\n",
       "      <td>1.263814</td>\n",
       "    </tr>\n",
       "    <tr>\n",
       "      <th>4943</th>\n",
       "      <td>yards</td>\n",
       "      <td>1.335975</td>\n",
       "    </tr>\n",
       "    <tr>\n",
       "      <th>205</th>\n",
       "      <td>49ers</td>\n",
       "      <td>1.345439</td>\n",
       "    </tr>\n",
       "    <tr>\n",
       "      <th>3009</th>\n",
       "      <td>qb</td>\n",
       "      <td>1.395878</td>\n",
       "    </tr>\n",
       "    <tr>\n",
       "      <th>2241</th>\n",
       "      <td>patriots</td>\n",
       "      <td>1.436582</td>\n",
       "    </tr>\n",
       "  </tbody>\n",
       "</table>\n",
       "<p>5000 rows × 2 columns</p>\n",
       "</div>"
      ],
      "text/plain": [
       "      features     coefs\n",
       "1444      heat -1.130488\n",
       "1811    lebron -1.119907\n",
       "1893      luka -1.113973\n",
       "1408    harden -1.099834\n",
       "1750    lakers -1.010432\n",
       "...        ...       ...\n",
       "110       2019  1.263814\n",
       "4943     yards  1.335975\n",
       "205      49ers  1.345439\n",
       "3009        qb  1.395878\n",
       "2241  patriots  1.436582\n",
       "\n",
       "[5000 rows x 2 columns]"
      ]
     },
     "execution_count": 153,
     "metadata": {},
     "output_type": "execute_result"
    }
   ],
   "source": [
    "coef_list = lr.coef_.tolist()\n",
    "coef_list = coef_list[0]\n",
    "\n",
    "coef_df = pd.DataFrame({'features' : vectorizer.get_feature_names(),\n",
    "                       'coefs' : coef_list})\n",
    "\n",
    "coef_df.sort_values(by = ['coefs'])"
   ]
  },
  {
   "cell_type": "markdown",
   "metadata": {},
   "source": [
    "### Decision Tree"
   ]
  },
  {
   "cell_type": "code",
   "execution_count": 107,
   "metadata": {},
   "outputs": [],
   "source": [
    "from sklearn.tree import DecisionTreeClassifier"
   ]
  },
  {
   "cell_type": "code",
   "execution_count": 108,
   "metadata": {},
   "outputs": [],
   "source": [
    "tree = DecisionTreeClassifier()"
   ]
  },
  {
   "cell_type": "code",
   "execution_count": 109,
   "metadata": {},
   "outputs": [
    {
     "data": {
      "text/plain": [
       "DecisionTreeClassifier(ccp_alpha=0.0, class_weight=None, criterion='gini',\n",
       "                       max_depth=None, max_features=None, max_leaf_nodes=None,\n",
       "                       min_impurity_decrease=0.0, min_impurity_split=None,\n",
       "                       min_samples_leaf=1, min_samples_split=2,\n",
       "                       min_weight_fraction_leaf=0.0, presort='deprecated',\n",
       "                       random_state=None, splitter='best')"
      ]
     },
     "execution_count": 109,
     "metadata": {},
     "output_type": "execute_result"
    }
   ],
   "source": [
    "tree.fit(train_data_features, y_train)"
   ]
  },
  {
   "cell_type": "code",
   "execution_count": 110,
   "metadata": {},
   "outputs": [
    {
     "data": {
      "text/plain": [
       "0.9984579799537394"
      ]
     },
     "execution_count": 110,
     "metadata": {},
     "output_type": "execute_result"
    }
   ],
   "source": [
    "tree.score(train_data_features, y_train)"
   ]
  },
  {
   "cell_type": "code",
   "execution_count": 111,
   "metadata": {},
   "outputs": [
    {
     "data": {
      "text/plain": [
       "0.8036951501154734"
      ]
     },
     "execution_count": 111,
     "metadata": {},
     "output_type": "execute_result"
    }
   ],
   "source": [
    "tree.score(test_data_features, y_test)"
   ]
  },
  {
   "cell_type": "code",
   "execution_count": null,
   "metadata": {},
   "outputs": [],
   "source": []
  },
  {
   "cell_type": "markdown",
   "metadata": {},
   "source": [
    "### Random Forest"
   ]
  },
  {
   "cell_type": "code",
   "execution_count": 154,
   "metadata": {},
   "outputs": [],
   "source": [
    "from sklearn.ensemble import RandomForestClassifier"
   ]
  },
  {
   "cell_type": "code",
   "execution_count": 155,
   "metadata": {},
   "outputs": [],
   "source": [
    "forest = RandomForestClassifier(n_estimators = 100)"
   ]
  },
  {
   "cell_type": "code",
   "execution_count": 156,
   "metadata": {},
   "outputs": [
    {
     "data": {
      "text/plain": [
       "RandomForestClassifier(bootstrap=True, ccp_alpha=0.0, class_weight=None,\n",
       "                       criterion='gini', max_depth=None, max_features='auto',\n",
       "                       max_leaf_nodes=None, max_samples=None,\n",
       "                       min_impurity_decrease=0.0, min_impurity_split=None,\n",
       "                       min_samples_leaf=1, min_samples_split=2,\n",
       "                       min_weight_fraction_leaf=0.0, n_estimators=100,\n",
       "                       n_jobs=None, oob_score=False, random_state=None,\n",
       "                       verbose=0, warm_start=False)"
      ]
     },
     "execution_count": 156,
     "metadata": {},
     "output_type": "execute_result"
    }
   ],
   "source": [
    "forest.fit(train_data_features, y_train)"
   ]
  },
  {
   "cell_type": "code",
   "execution_count": 157,
   "metadata": {},
   "outputs": [
    {
     "data": {
      "text/plain": [
       "0.9984579799537394"
      ]
     },
     "execution_count": 157,
     "metadata": {},
     "output_type": "execute_result"
    }
   ],
   "source": [
    "forest.score(train_data_features, y_train)"
   ]
  },
  {
   "cell_type": "code",
   "execution_count": 158,
   "metadata": {},
   "outputs": [
    {
     "data": {
      "text/plain": [
       "0.8775981524249422"
      ]
     },
     "execution_count": 158,
     "metadata": {},
     "output_type": "execute_result"
    }
   ],
   "source": [
    "forest.score(test_data_features, y_test)"
   ]
  },
  {
   "cell_type": "markdown",
   "metadata": {},
   "source": [
    "###  Matrix on Logistic Regression"
   ]
  },
  {
   "cell_type": "code",
   "execution_count": 159,
   "metadata": {},
   "outputs": [],
   "source": [
    "from sklearn.metrics import confusion_matrix"
   ]
  },
  {
   "cell_type": "code",
   "execution_count": 160,
   "metadata": {},
   "outputs": [],
   "source": [
    "y_pred = lr.predict(test_data_features)"
   ]
  },
  {
   "cell_type": "code",
   "execution_count": 161,
   "metadata": {},
   "outputs": [],
   "source": [
    "cm = confusion_matrix(y_test, y_pred)"
   ]
  },
  {
   "cell_type": "code",
   "execution_count": 162,
   "metadata": {},
   "outputs": [],
   "source": [
    "cm_df = pd.DataFrame(cm,\n",
    "                    columns=['predict_neg', 'predict_pos'],\n",
    "                    index = ['actual_neg', 'actual_pos'])"
   ]
  },
  {
   "cell_type": "code",
   "execution_count": 163,
   "metadata": {},
   "outputs": [
    {
     "data": {
      "text/html": [
       "<div>\n",
       "<style scoped>\n",
       "    .dataframe tbody tr th:only-of-type {\n",
       "        vertical-align: middle;\n",
       "    }\n",
       "\n",
       "    .dataframe tbody tr th {\n",
       "        vertical-align: top;\n",
       "    }\n",
       "\n",
       "    .dataframe thead th {\n",
       "        text-align: right;\n",
       "    }\n",
       "</style>\n",
       "<table border=\"1\" class=\"dataframe\">\n",
       "  <thead>\n",
       "    <tr style=\"text-align: right;\">\n",
       "      <th></th>\n",
       "      <th>predict_neg</th>\n",
       "      <th>predict_pos</th>\n",
       "    </tr>\n",
       "  </thead>\n",
       "  <tbody>\n",
       "    <tr>\n",
       "      <th>actual_neg</th>\n",
       "      <td>180</td>\n",
       "      <td>17</td>\n",
       "    </tr>\n",
       "    <tr>\n",
       "      <th>actual_pos</th>\n",
       "      <td>23</td>\n",
       "      <td>213</td>\n",
       "    </tr>\n",
       "  </tbody>\n",
       "</table>\n",
       "</div>"
      ],
      "text/plain": [
       "            predict_neg  predict_pos\n",
       "actual_neg          180           17\n",
       "actual_pos           23          213"
      ]
     },
     "execution_count": 163,
     "metadata": {},
     "output_type": "execute_result"
    }
   ],
   "source": [
    "cm_df"
   ]
  },
  {
   "cell_type": "markdown",
   "metadata": {},
   "source": [
    "## Checking where our model failed"
   ]
  },
  {
   "cell_type": "code",
   "execution_count": 165,
   "metadata": {},
   "outputs": [],
   "source": [
    "comparison_df = pd.DataFrame({'y_actual' : y_test,\n",
    "             'y_predicted' : y_pred})"
   ]
  },
  {
   "cell_type": "code",
   "execution_count": 166,
   "metadata": {},
   "outputs": [],
   "source": [
    "mismatch_df = comparison_df[comparison_df['y_actual'] != comparison_df['y_predicted']]"
   ]
  },
  {
   "cell_type": "code",
   "execution_count": 167,
   "metadata": {},
   "outputs": [
    {
     "name": "stderr",
     "output_type": "stream",
     "text": [
      "/usr/local/anaconda3/lib/python3.7/site-packages/ipykernel_launcher.py:1: FutureWarning: Sorting because non-concatenation axis is not aligned. A future version\n",
      "of pandas will change to not sort by default.\n",
      "\n",
      "To accept the future behavior, pass 'sort=False'.\n",
      "\n",
      "To retain the current behavior and silence the warning, pass 'sort=True'.\n",
      "\n",
      "  \"\"\"Entry point for launching an IPython kernel.\n"
     ]
    }
   ],
   "source": [
    "mismatch2_df = pd.concat([mismatch_df, X_test], axis = 1)"
   ]
  },
  {
   "cell_type": "code",
   "execution_count": 168,
   "metadata": {},
   "outputs": [],
   "source": [
    "# All incorrect predictions with titles\n",
    "\n",
    "mismatches = mismatch2_df.dropna()"
   ]
  },
  {
   "cell_type": "code",
   "execution_count": 169,
   "metadata": {
    "scrolled": true
   },
   "outputs": [
    {
     "data": {
      "text/html": [
       "<div>\n",
       "<style scoped>\n",
       "    .dataframe tbody tr th:only-of-type {\n",
       "        vertical-align: middle;\n",
       "    }\n",
       "\n",
       "    .dataframe tbody tr th {\n",
       "        vertical-align: top;\n",
       "    }\n",
       "\n",
       "    .dataframe thead th {\n",
       "        text-align: right;\n",
       "    }\n",
       "</style>\n",
       "<table border=\"1\" class=\"dataframe\">\n",
       "  <thead>\n",
       "    <tr style=\"text-align: right;\">\n",
       "      <th></th>\n",
       "      <th>y_actual</th>\n",
       "      <th>y_predicted</th>\n",
       "      <th>title</th>\n",
       "    </tr>\n",
       "  </thead>\n",
       "  <tbody>\n",
       "    <tr>\n",
       "      <th>t3_eg59fx</th>\n",
       "      <td>nba</td>\n",
       "      <td>nfl</td>\n",
       "      <td>zach randolph retires after 17 seasons</td>\n",
       "    </tr>\n",
       "    <tr>\n",
       "      <th>t3_egdot5</th>\n",
       "      <td>nba</td>\n",
       "      <td>nfl</td>\n",
       "      <td>josh richardson tweeted about watching family guy and subsequently got drug tested</td>\n",
       "    </tr>\n",
       "    <tr>\n",
       "      <th>t3_egvjn3</th>\n",
       "      <td>nba</td>\n",
       "      <td>nfl</td>\n",
       "      <td>oc does ball lie evidence from 2015 2016 season</td>\n",
       "    </tr>\n",
       "    <tr>\n",
       "      <th>t3_eh0wy5</th>\n",
       "      <td>nba</td>\n",
       "      <td>nfl</td>\n",
       "      <td>interim knicks head coach mike miller 5 7 now has more wins than david fizdale did during his tenure 4 18 amp gives the knicks it s first win streak</td>\n",
       "    </tr>\n",
       "    <tr>\n",
       "      <th>t3_eh2hnr</th>\n",
       "      <td>nba</td>\n",
       "      <td>nfl</td>\n",
       "      <td>buha doc rivers said he thinks a bunch of a clippers have the flu he said kawhi leonard almost didn t play but ended up suiting up because montrezl harrell sat out</td>\n",
       "    </tr>\n",
       "    <tr>\n",
       "      <th>t3_eh6jn0</th>\n",
       "      <td>nba</td>\n",
       "      <td>nfl</td>\n",
       "      <td>will curry play again this year</td>\n",
       "    </tr>\n",
       "    <tr>\n",
       "      <th>t3_eh7f87</th>\n",
       "      <td>nba</td>\n",
       "      <td>nfl</td>\n",
       "      <td>just realized westbrook doesn t play back to backs his return to okc is in less than two weeks but it s on a back to back</td>\n",
       "    </tr>\n",
       "    <tr>\n",
       "      <th>t3_ehalv2</th>\n",
       "      <td>nfl</td>\n",
       "      <td>nba</td>\n",
       "      <td>highlight terrell suggs gets his career 139th sack</td>\n",
       "    </tr>\n",
       "    <tr>\n",
       "      <th>t3_ehbr0l</th>\n",
       "      <td>nfl</td>\n",
       "      <td>nba</td>\n",
       "      <td>highlight gb vs det mason crosby game winning 33 yard fg</td>\n",
       "    </tr>\n",
       "    <tr>\n",
       "      <th>t3_ehbu6h</th>\n",
       "      <td>nfl</td>\n",
       "      <td>nba</td>\n",
       "      <td>green bay led detroit for 0 00 in both games and won both</td>\n",
       "    </tr>\n",
       "    <tr>\n",
       "      <th>t3_ehc6su</th>\n",
       "      <td>nba</td>\n",
       "      <td>nfl</td>\n",
       "      <td>aside from the 2015 16 season what is the best nba season in nba history</td>\n",
       "    </tr>\n",
       "    <tr>\n",
       "      <th>t3_ehd57p</th>\n",
       "      <td>nba</td>\n",
       "      <td>nfl</td>\n",
       "      <td>what franchise are you most surprised didn t win a championship this decade</td>\n",
       "    </tr>\n",
       "    <tr>\n",
       "      <th>t3_ehd898</th>\n",
       "      <td>nfl</td>\n",
       "      <td>nba</td>\n",
       "      <td>apody brandon graham went into the locker room partially because there was a wait to get into the medical tent this is not a joke</td>\n",
       "    </tr>\n",
       "    <tr>\n",
       "      <th>t3_ehdrrr</th>\n",
       "      <td>nfl</td>\n",
       "      <td>nba</td>\n",
       "      <td>andy dalton if that was it as a bengal glad i went out taking a knee</td>\n",
       "    </tr>\n",
       "    <tr>\n",
       "      <th>t3_ehf8ko</th>\n",
       "      <td>nfl</td>\n",
       "      <td>nba</td>\n",
       "      <td>are people joking or are the packers actually the worst 13 3 team of all time</td>\n",
       "    </tr>\n",
       "    <tr>\n",
       "      <th>t3_ehf8ur</th>\n",
       "      <td>nfl</td>\n",
       "      <td>nba</td>\n",
       "      <td>walker it s what i put into this game it s how much i love those guys in the locker room i ll never get to play with some of those guys again it hurts dak prescott with obvious tears in his eyes reflecting on the failed cowboys season</td>\n",
       "    </tr>\n",
       "    <tr>\n",
       "      <th>t3_ehfqnl</th>\n",
       "      <td>nfl</td>\n",
       "      <td>nba</td>\n",
       "      <td>forte in the grand scheme of things mitch is a serviceable backup in the nfl i don t think he s a starter</td>\n",
       "    </tr>\n",
       "    <tr>\n",
       "      <th>t3_ehh371</th>\n",
       "      <td>nfl</td>\n",
       "      <td>nba</td>\n",
       "      <td>rosenthal this ending shouldn t distract from the booth not looking at the pi don t understand it</td>\n",
       "    </tr>\n",
       "    <tr>\n",
       "      <th>t3_ehhwe2</th>\n",
       "      <td>nfl</td>\n",
       "      <td>nba</td>\n",
       "      <td>the best teams of each decade</td>\n",
       "    </tr>\n",
       "    <tr>\n",
       "      <th>t3_ehnm3w</th>\n",
       "      <td>nfl</td>\n",
       "      <td>nba</td>\n",
       "      <td>jackson xavien howard arrest details</td>\n",
       "    </tr>\n",
       "    <tr>\n",
       "      <th>t3_ehnsuw</th>\n",
       "      <td>nfl</td>\n",
       "      <td>nba</td>\n",
       "      <td>haynes firebruceallen has been used on social media 55 623 times in the last 365 days</td>\n",
       "    </tr>\n",
       "    <tr>\n",
       "      <th>t3_ehnwvg</th>\n",
       "      <td>nfl</td>\n",
       "      <td>nba</td>\n",
       "      <td>person tre boston on cam newton the rest of those boys are playing to 40 but they got o lines why does cam get to have just average lines get beat up amp the rest of these guys have healthy o lines and get the same treatment as aw man these guys can play til they re 40 with ease</td>\n",
       "    </tr>\n",
       "    <tr>\n",
       "      <th>t3_ehp4p6</th>\n",
       "      <td>nfl</td>\n",
       "      <td>nba</td>\n",
       "      <td>everything s an option for eli manning but being backup</td>\n",
       "    </tr>\n",
       "    <tr>\n",
       "      <th>t3_ehpv2k</th>\n",
       "      <td>nba</td>\n",
       "      <td>nfl</td>\n",
       "      <td>jon bois the 10 least consequential athletes of the decade</td>\n",
       "    </tr>\n",
       "    <tr>\n",
       "      <th>t3_ehr48f</th>\n",
       "      <td>nfl</td>\n",
       "      <td>nba</td>\n",
       "      <td>which all time defense is the perfect counter to the 19 ravens</td>\n",
       "    </tr>\n",
       "    <tr>\n",
       "      <th>t3_ehra23</th>\n",
       "      <td>nba</td>\n",
       "      <td>nfl</td>\n",
       "      <td>the mid season draft pick tournament dpt a concept</td>\n",
       "    </tr>\n",
       "    <tr>\n",
       "      <th>t3_ehrs31</th>\n",
       "      <td>nfl</td>\n",
       "      <td>nba</td>\n",
       "      <td>what are the nfl s most expensive seats</td>\n",
       "    </tr>\n",
       "    <tr>\n",
       "      <th>t3_ehtw7s</th>\n",
       "      <td>nfl</td>\n",
       "      <td>nba</td>\n",
       "      <td>schefter ohio states jk dobbins has declared for the nfl draft</td>\n",
       "    </tr>\n",
       "    <tr>\n",
       "      <th>t3_ehu3o5</th>\n",
       "      <td>nba</td>\n",
       "      <td>nfl</td>\n",
       "      <td>did the twolves make a mistake in hiring ryan saunders as head coach</td>\n",
       "    </tr>\n",
       "    <tr>\n",
       "      <th>t3_ehuzd6</th>\n",
       "      <td>nba</td>\n",
       "      <td>nfl</td>\n",
       "      <td>new adjustments for the nba playoff system</td>\n",
       "    </tr>\n",
       "    <tr>\n",
       "      <th>t3_ehvhb7</th>\n",
       "      <td>nfl</td>\n",
       "      <td>nba</td>\n",
       "      <td>booger mcfarland worst calls</td>\n",
       "    </tr>\n",
       "    <tr>\n",
       "      <th>t3_ehybrz</th>\n",
       "      <td>nba</td>\n",
       "      <td>nfl</td>\n",
       "      <td>assuming all teams are healthy which current playoff contender would you be least surprised to see lose in a first round</td>\n",
       "    </tr>\n",
       "    <tr>\n",
       "      <th>t3_ehyxn4</th>\n",
       "      <td>nba</td>\n",
       "      <td>nfl</td>\n",
       "      <td>must see playoff games</td>\n",
       "    </tr>\n",
       "    <tr>\n",
       "      <th>t3_ehz4zs</th>\n",
       "      <td>nba</td>\n",
       "      <td>nfl</td>\n",
       "      <td>which coaching dismissals do you expect this offseason</td>\n",
       "    </tr>\n",
       "    <tr>\n",
       "      <th>t3_ehzu6h</th>\n",
       "      <td>nba</td>\n",
       "      <td>nfl</td>\n",
       "      <td>if a newly signed player like kd did not play a single game in his first year of the contract does he still receive his salary</td>\n",
       "    </tr>\n",
       "    <tr>\n",
       "      <th>t3_ei4xhs</th>\n",
       "      <td>nfl</td>\n",
       "      <td>nba</td>\n",
       "      <td>worst moment for your team during the decade</td>\n",
       "    </tr>\n",
       "    <tr>\n",
       "      <th>t3_ei5he6</th>\n",
       "      <td>nfl</td>\n",
       "      <td>nba</td>\n",
       "      <td>talko tuesday</td>\n",
       "    </tr>\n",
       "    <tr>\n",
       "      <th>t3_ei5mvi</th>\n",
       "      <td>nfl</td>\n",
       "      <td>nba</td>\n",
       "      <td>most disciplined fumble interception return of decade</td>\n",
       "    </tr>\n",
       "    <tr>\n",
       "      <th>t3_ei5tnj</th>\n",
       "      <td>nfl</td>\n",
       "      <td>nba</td>\n",
       "      <td>serious cj anderson says on twitter that his brother has been killed</td>\n",
       "    </tr>\n",
       "    <tr>\n",
       "      <th>t3_ei7ytw</th>\n",
       "      <td>nfl</td>\n",
       "      <td>nba</td>\n",
       "      <td>i made a spreadsheet open to anyone to chronicle the best games people and moments of the 2020s starting with cfb bowl games and the nfl playoffs you can open this spreadsheet and add anything you think qualifies as a top game person moment of the decade in football</td>\n",
       "    </tr>\n",
       "  </tbody>\n",
       "</table>\n",
       "</div>"
      ],
      "text/plain": [
       "          y_actual y_predicted  \\\n",
       "t3_eg59fx      nba         nfl   \n",
       "t3_egdot5      nba         nfl   \n",
       "t3_egvjn3      nba         nfl   \n",
       "t3_eh0wy5      nba         nfl   \n",
       "t3_eh2hnr      nba         nfl   \n",
       "t3_eh6jn0      nba         nfl   \n",
       "t3_eh7f87      nba         nfl   \n",
       "t3_ehalv2      nfl         nba   \n",
       "t3_ehbr0l      nfl         nba   \n",
       "t3_ehbu6h      nfl         nba   \n",
       "t3_ehc6su      nba         nfl   \n",
       "t3_ehd57p      nba         nfl   \n",
       "t3_ehd898      nfl         nba   \n",
       "t3_ehdrrr      nfl         nba   \n",
       "t3_ehf8ko      nfl         nba   \n",
       "t3_ehf8ur      nfl         nba   \n",
       "t3_ehfqnl      nfl         nba   \n",
       "t3_ehh371      nfl         nba   \n",
       "t3_ehhwe2      nfl         nba   \n",
       "t3_ehnm3w      nfl         nba   \n",
       "t3_ehnsuw      nfl         nba   \n",
       "t3_ehnwvg      nfl         nba   \n",
       "t3_ehp4p6      nfl         nba   \n",
       "t3_ehpv2k      nba         nfl   \n",
       "t3_ehr48f      nfl         nba   \n",
       "t3_ehra23      nba         nfl   \n",
       "t3_ehrs31      nfl         nba   \n",
       "t3_ehtw7s      nfl         nba   \n",
       "t3_ehu3o5      nba         nfl   \n",
       "t3_ehuzd6      nba         nfl   \n",
       "t3_ehvhb7      nfl         nba   \n",
       "t3_ehybrz      nba         nfl   \n",
       "t3_ehyxn4      nba         nfl   \n",
       "t3_ehz4zs      nba         nfl   \n",
       "t3_ehzu6h      nba         nfl   \n",
       "t3_ei4xhs      nfl         nba   \n",
       "t3_ei5he6      nfl         nba   \n",
       "t3_ei5mvi      nfl         nba   \n",
       "t3_ei5tnj      nfl         nba   \n",
       "t3_ei7ytw      nfl         nba   \n",
       "\n",
       "                                                                                                                                                                                                                                                                                               title  \n",
       "t3_eg59fx                                                                                                                                                                                                                                                     zach randolph retires after 17 seasons  \n",
       "t3_egdot5                                                                                                                                                                                                         josh richardson tweeted about watching family guy and subsequently got drug tested  \n",
       "t3_egvjn3                                                                                                                                                                                                                                            oc does ball lie evidence from 2015 2016 season  \n",
       "t3_eh0wy5                                                                                                                                      interim knicks head coach mike miller 5 7 now has more wins than david fizdale did during his tenure 4 18 amp gives the knicks it s first win streak   \n",
       "t3_eh2hnr                                                                                                                       buha doc rivers said he thinks a bunch of a clippers have the flu he said kawhi leonard almost didn t play but ended up suiting up because montrezl harrell sat out   \n",
       "t3_eh6jn0                                                                                                                                                                                                                                                           will curry play again this year   \n",
       "t3_eh7f87                                                                                                                                                                 just realized westbrook doesn t play back to backs his return to okc is in less than two weeks but it s on a back to back   \n",
       "t3_ehalv2                                                                                                                                                                                                                                         highlight terrell suggs gets his career 139th sack  \n",
       "t3_ehbr0l                                                                                                                                                                                                                                   highlight gb vs det mason crosby game winning 33 yard fg  \n",
       "t3_ehbu6h                                                                                                                                                                                                                                  green bay led detroit for 0 00 in both games and won both  \n",
       "t3_ehc6su                                                                                                                                                                                                                  aside from the 2015 16 season what is the best nba season in nba history   \n",
       "t3_ehd57p                                                                                                                                                                                                               what franchise are you most surprised didn t win a championship this decade   \n",
       "t3_ehd898                                                                                                                                                         apody brandon graham went into the locker room partially because there was a wait to get into the medical tent this is not a joke   \n",
       "t3_ehdrrr                                                                                                                                                                                                                       andy dalton if that was it as a bengal glad i went out taking a knee  \n",
       "t3_ehf8ko                                                                                                                                                                                                             are people joking or are the packers actually the worst 13 3 team of all time   \n",
       "t3_ehf8ur                                                 walker it s what i put into this game it s how much i love those guys in the locker room i ll never get to play with some of those guys again it hurts dak prescott with obvious tears in his eyes reflecting on the failed cowboys season  \n",
       "t3_ehfqnl                                                                                                                                                                                 forte in the grand scheme of things mitch is a serviceable backup in the nfl i don t think he s a starter   \n",
       "t3_ehh371                                                                                                                                                                                         rosenthal this ending shouldn t distract from the booth not looking at the pi don t understand it   \n",
       "t3_ehhwe2                                                                                                                                                                                                                                                              the best teams of each decade  \n",
       "t3_ehnm3w                                                                                                                                                                                                                                                       jackson xavien howard arrest details  \n",
       "t3_ehnsuw                                                                                                                                                                                                     haynes firebruceallen has been used on social media 55 623 times in the last 365 days   \n",
       "t3_ehnwvg   person tre boston on cam newton the rest of those boys are playing to 40 but they got o lines why does cam get to have just average lines get beat up amp the rest of these guys have healthy o lines and get the same treatment as aw man these guys can play til they re 40 with ease   \n",
       "t3_ehp4p6                                                                                                                                                                                                                                    everything s an option for eli manning but being backup  \n",
       "t3_ehpv2k                                                                                                                                                                                                                                 jon bois the 10 least consequential athletes of the decade  \n",
       "t3_ehr48f                                                                                                                                                                                                                            which all time defense is the perfect counter to the 19 ravens   \n",
       "t3_ehra23                                                                                                                                                                                                                                         the mid season draft pick tournament dpt a concept  \n",
       "t3_ehrs31                                                                                                                                                                                                                                                   what are the nfl s most expensive seats   \n",
       "t3_ehtw7s                                                                                                                                                                                                                             schefter ohio states jk dobbins has declared for the nfl draft  \n",
       "t3_ehu3o5                                                                                                                                                                                                                      did the twolves make a mistake in hiring ryan saunders as head coach   \n",
       "t3_ehuzd6                                                                                                                                                                                                                                                new adjustments for the nba playoff system   \n",
       "t3_ehvhb7                                                                                                                                                                                                                                                               booger mcfarland worst calls  \n",
       "t3_ehybrz                                                                                                                                                                  assuming all teams are healthy which current playoff contender would you be least surprised to see lose in a first round   \n",
       "t3_ehyxn4                                                                                                                                                                                                                                                                    must see playoff games   \n",
       "t3_ehz4zs                                                                                                                                                                                                                                    which coaching dismissals do you expect this offseason   \n",
       "t3_ehzu6h                                                                                                                                                            if a newly signed player like kd did not play a single game in his first year of the contract does he still receive his salary   \n",
       "t3_ei4xhs                                                                                                                                                                                                                                              worst moment for your team during the decade   \n",
       "t3_ei5he6                                                                                                                                                                                                                                                                              talko tuesday  \n",
       "t3_ei5mvi                                                                                                                                                                                                                                     most disciplined fumble interception return of decade   \n",
       "t3_ei5tnj                                                                                                                                                                                                                       serious cj anderson says on twitter that his brother has been killed  \n",
       "t3_ei7ytw                i made a spreadsheet open to anyone to chronicle the best games people and moments of the 2020s starting with cfb bowl games and the nfl playoffs you can open this spreadsheet and add anything you think qualifies as a top game person moment of the decade in football   "
      ]
     },
     "execution_count": 169,
     "metadata": {},
     "output_type": "execute_result"
    }
   ],
   "source": [
    "mismatches"
   ]
  },
  {
   "cell_type": "markdown",
   "metadata": {},
   "source": [
    "### Let's try TF-IDF"
   ]
  },
  {
   "cell_type": "markdown",
   "metadata": {},
   "source": [
    "Term Frequency / Inverse Document Frequency\n",
    "\n",
    "TF(w) = (Number of times term w appears in a document) / (Total number of terms in the document)\n",
    "\n",
    "IDF(w) = log_e(Total number of documents / Number of documents with term w in it)"
   ]
  },
  {
   "cell_type": "code",
   "execution_count": 170,
   "metadata": {},
   "outputs": [],
   "source": [
    "tfidf_vec = TfidfVectorizer(analyzer=\"word\",\n",
    "                            tokenizer=None,\n",
    "                            preprocessor=None,\n",
    "                            stop_words=['nba', 'nfl', 'football', 'basketball'],\n",
    "                            max_features=5000,\n",
    "                            ngram_range=(1, 3))"
   ]
  },
  {
   "cell_type": "code",
   "execution_count": 171,
   "metadata": {},
   "outputs": [
    {
     "data": {
      "text/plain": [
       "((1297, 5000), (433, 5000))"
      ]
     },
     "execution_count": 171,
     "metadata": {},
     "output_type": "execute_result"
    }
   ],
   "source": [
    "train_data_features = tfidf_vec.fit_transform(clean_train_data)\n",
    "\n",
    "test_data_features = tfidf_vec.transform(clean_test_data)\n",
    "\n",
    "train_data_features = train_data_features.toarray()\n",
    "\n",
    "train_data_features.shape, test_data_features.shape"
   ]
  },
  {
   "cell_type": "code",
   "execution_count": 172,
   "metadata": {},
   "outputs": [
    {
     "data": {
      "text/plain": [
       "LogisticRegression(C=1.0, class_weight=None, dual=False, fit_intercept=True,\n",
       "                   intercept_scaling=1, l1_ratio=None, max_iter=100,\n",
       "                   multi_class='auto', n_jobs=None, penalty='l2',\n",
       "                   random_state=None, solver='lbfgs', tol=0.0001, verbose=0,\n",
       "                   warm_start=False)"
      ]
     },
     "execution_count": 172,
     "metadata": {},
     "output_type": "execute_result"
    }
   ],
   "source": [
    "lr.fit(train_data_features, y_train)"
   ]
  },
  {
   "cell_type": "code",
   "execution_count": 173,
   "metadata": {},
   "outputs": [
    {
     "data": {
      "text/plain": [
       "0.9745566692367"
      ]
     },
     "execution_count": 173,
     "metadata": {},
     "output_type": "execute_result"
    }
   ],
   "source": [
    "lr.score(train_data_features, y_train)"
   ]
  },
  {
   "cell_type": "code",
   "execution_count": 174,
   "metadata": {},
   "outputs": [
    {
     "data": {
      "text/plain": [
       "0.8914549653579676"
      ]
     },
     "execution_count": 174,
     "metadata": {},
     "output_type": "execute_result"
    }
   ],
   "source": [
    "lr.score(test_data_features, y_test)"
   ]
  },
  {
   "cell_type": "markdown",
   "metadata": {},
   "source": [
    "### Let's try on some other subreddits"
   ]
  },
  {
   "cell_type": "code",
   "execution_count": 175,
   "metadata": {},
   "outputs": [],
   "source": [
    "train = pd.concat([politics_test, conservative_test])"
   ]
  },
  {
   "cell_type": "code",
   "execution_count": 176,
   "metadata": {},
   "outputs": [],
   "source": [
    "X = train[['title']]\n",
    "y = train['subreddit']"
   ]
  },
  {
   "cell_type": "code",
   "execution_count": null,
   "metadata": {},
   "outputs": [],
   "source": [
    "# politics_test = scrape_to_df(scraper_bike, 'https://www.reddit.com/r/politics.json')\n",
    "# conservative_test = scrape_to_df(scraper_bike, 'https://www.reddit.com/r/conservative.json')"
   ]
  },
  {
   "cell_type": "code",
   "execution_count": 177,
   "metadata": {},
   "outputs": [],
   "source": [
    "X_train, X_test, y_train, y_test = train_test_split(X, y, random_state = 42, stratify = y)"
   ]
  },
  {
   "cell_type": "code",
   "execution_count": 178,
   "metadata": {},
   "outputs": [],
   "source": [
    "politics_test = politics_test.drop(columns='selftext')\n",
    "conservative_test = conservative_test.drop(columns='selftext')\n",
    "\n",
    "train = pd.concat([politics_test, conservative_test])\n",
    "tokenizer = RegexpTokenizer(r'\\w+')\n",
    "\n",
    "train['title'] = train['title'].map(lambda x: tokenizer.tokenize(x.lower()))\n",
    "train['title'] = train['title'].map(lambda x: ' '.join(x))"
   ]
  },
  {
   "cell_type": "code",
   "execution_count": 179,
   "metadata": {},
   "outputs": [],
   "source": [
    "# create our training data list - this is a list of strings, with each string being a post title\n",
    "\n",
    "clean_train_data = []\n",
    "\n",
    "for traindata in X_train['title']:\n",
    "    clean_train_data.append(traindata)\n",
    "    \n",
    "    \n",
    "# create test data list\n",
    "\n",
    "clean_test_data = []\n",
    "\n",
    "for testdata in X_test['title']:\n",
    "    clean_test_data.append(testdata)"
   ]
  },
  {
   "cell_type": "code",
   "execution_count": 180,
   "metadata": {},
   "outputs": [],
   "source": [
    "vectorizer = CountVectorizer(analyzer=\"word\",\n",
    "                             tokenizer=None,\n",
    "                             preprocessor=None,\n",
    "                             stop_words='english',\n",
    "                             max_features=5000,\n",
    "                             ngram_range=(1, 3))\n",
    "\n",
    "train_data_features = vectorizer.fit_transform(clean_train_data)\n",
    "\n",
    "test_data_features = vectorizer.transform(clean_test_data)\n",
    "\n",
    "train_data_features = train_data_features.toarray()\n",
    "\n",
    "train_data_features.shape, test_data_features.shape\n",
    "\n",
    "vocab = vectorizer.get_feature_names()"
   ]
  },
  {
   "cell_type": "markdown",
   "metadata": {},
   "source": [
    "### Modeling"
   ]
  },
  {
   "cell_type": "code",
   "execution_count": 181,
   "metadata": {},
   "outputs": [],
   "source": [
    "lr = LogisticRegression(penalty = 'l2')"
   ]
  },
  {
   "cell_type": "code",
   "execution_count": 182,
   "metadata": {},
   "outputs": [
    {
     "data": {
      "text/plain": [
       "((1342, 5000), (1342,))"
      ]
     },
     "execution_count": 182,
     "metadata": {},
     "output_type": "execute_result"
    }
   ],
   "source": [
    "train_data_features.shape, y_train.shape"
   ]
  },
  {
   "cell_type": "code",
   "execution_count": 183,
   "metadata": {},
   "outputs": [
    {
     "data": {
      "text/plain": [
       "0.9806259314456036"
      ]
     },
     "execution_count": 183,
     "metadata": {},
     "output_type": "execute_result"
    }
   ],
   "source": [
    "lr.fit(train_data_features, y_train)\n",
    "\n",
    "lr.score(train_data_features, y_train)"
   ]
  },
  {
   "cell_type": "code",
   "execution_count": 184,
   "metadata": {},
   "outputs": [
    {
     "data": {
      "text/plain": [
       "0.7589285714285714"
      ]
     },
     "execution_count": 184,
     "metadata": {},
     "output_type": "execute_result"
    }
   ],
   "source": [
    "lr.score(test_data_features, y_test)"
   ]
  },
  {
   "cell_type": "code",
   "execution_count": 185,
   "metadata": {},
   "outputs": [],
   "source": [
    "coef_list = lr.coef_.tolist()\n",
    "\n",
    "coef_list = coef_list[0]"
   ]
  },
  {
   "cell_type": "code",
   "execution_count": 186,
   "metadata": {
    "scrolled": true
   },
   "outputs": [
    {
     "data": {
      "text/html": [
       "<div>\n",
       "<style scoped>\n",
       "    .dataframe tbody tr th:only-of-type {\n",
       "        vertical-align: middle;\n",
       "    }\n",
       "\n",
       "    .dataframe tbody tr th {\n",
       "        vertical-align: top;\n",
       "    }\n",
       "\n",
       "    .dataframe thead th {\n",
       "        text-align: right;\n",
       "    }\n",
       "</style>\n",
       "<table border=\"1\" class=\"dataframe\">\n",
       "  <thead>\n",
       "    <tr style=\"text-align: right;\">\n",
       "      <th></th>\n",
       "      <th>features</th>\n",
       "      <th>coefs</th>\n",
       "    </tr>\n",
       "  </thead>\n",
       "  <tbody>\n",
       "    <tr>\n",
       "      <th>456</th>\n",
       "      <td>christmas</td>\n",
       "      <td>-1.853372</td>\n",
       "    </tr>\n",
       "    <tr>\n",
       "      <th>696</th>\n",
       "      <td>democrats</td>\n",
       "      <td>-0.975193</td>\n",
       "    </tr>\n",
       "    <tr>\n",
       "      <th>2801</th>\n",
       "      <td>pelosi</td>\n",
       "      <td>-0.968930</td>\n",
       "    </tr>\n",
       "    <tr>\n",
       "      <th>500</th>\n",
       "      <td>cnn</td>\n",
       "      <td>-0.937772</td>\n",
       "    </tr>\n",
       "    <tr>\n",
       "      <th>1437</th>\n",
       "      <td>left</td>\n",
       "      <td>-0.927683</td>\n",
       "    </tr>\n",
       "    <tr>\n",
       "      <th>...</th>\n",
       "      <td>...</td>\n",
       "      <td>...</td>\n",
       "    </tr>\n",
       "    <tr>\n",
       "      <th>4977</th>\n",
       "      <td>year</td>\n",
       "      <td>1.390436</td>\n",
       "    </tr>\n",
       "    <tr>\n",
       "      <th>4787</th>\n",
       "      <td>ukraine</td>\n",
       "      <td>1.492094</td>\n",
       "    </tr>\n",
       "    <tr>\n",
       "      <th>4702</th>\n",
       "      <td>trump</td>\n",
       "      <td>1.496688</td>\n",
       "    </tr>\n",
       "    <tr>\n",
       "      <th>1036</th>\n",
       "      <td>giuliani</td>\n",
       "      <td>1.701374</td>\n",
       "    </tr>\n",
       "    <tr>\n",
       "      <th>4355</th>\n",
       "      <td>sanders</td>\n",
       "      <td>1.921029</td>\n",
       "    </tr>\n",
       "  </tbody>\n",
       "</table>\n",
       "<p>5000 rows × 2 columns</p>\n",
       "</div>"
      ],
      "text/plain": [
       "       features     coefs\n",
       "456   christmas -1.853372\n",
       "696   democrats -0.975193\n",
       "2801     pelosi -0.968930\n",
       "500         cnn -0.937772\n",
       "1437       left -0.927683\n",
       "...         ...       ...\n",
       "4977       year  1.390436\n",
       "4787    ukraine  1.492094\n",
       "4702      trump  1.496688\n",
       "1036   giuliani  1.701374\n",
       "4355    sanders  1.921029\n",
       "\n",
       "[5000 rows x 2 columns]"
      ]
     },
     "execution_count": 186,
     "metadata": {},
     "output_type": "execute_result"
    }
   ],
   "source": [
    "coef_df = pd.DataFrame({'features' : vectorizer.get_feature_names(),\n",
    "                       'coefs' : coef_list})\n",
    "\n",
    "coef_df.sort_values(by = ['coefs'])"
   ]
  },
  {
   "cell_type": "markdown",
   "metadata": {},
   "source": [
    "# Understanding word vectors"
   ]
  },
  {
   "cell_type": "markdown",
   "metadata": {},
   "source": [
    "... for, like, actual poets. By [Allison Parrish](http://www.decontextualize.com/)\n",
    "\n",
    "\n",
    "## Why word vectors?\n",
    "\n",
    "Poetry is, at its core, the art of identifying and manipulating linguistic similarity. I have discovered a truly marvelous proof of this, which this notebook is too narrow to contain. (By which I mean: I will elaborate on this some other time)"
   ]
  },
  {
   "cell_type": "markdown",
   "metadata": {},
   "source": [
    "## Animal similarity and simple linear algebra\n",
    "\n",
    "We'll begin by considering a small subset of English: words for animals. Our task is to be able to write computer programs to find similarities among these words and the creatures they designate. To do this, we might start by making a spreadsheet of some animals and their characteristics. For example:\n",
    "\n",
    "![Animal spreadsheet](http://static.decontextualize.com/snaps/animal-spreadsheet.png)\n",
    "\n",
    "This spreadsheet associates a handful of animals with two numbers: their cuteness and their size, both in a range from zero to one hundred. (The values themselves are simply based on my own judgment. Your taste in cuteness and evaluation of size may differ significantly from mine. As with all data, these data are simply a mirror reflection of the person who collected them.)\n",
    "\n",
    "These values give us everything we need to make determinations about which animals are similar (at least, similar in the properties that we've included in the data). Try to answer the following question: Which animal is most similar to a capybara? You could go through the values one by one and do the math to make that evaluation, but visualizing the data as points in 2-dimensional space makes finding the answer very intuitive:\n",
    "\n",
    "![Animal space](http://static.decontextualize.com/snaps/animal-space.png)\n",
    "\n",
    "The plot shows us that the closest animal to the capybara is the panda bear (again, in terms of its subjective size and cuteness). One way of calculating how \"far apart\" two points are is to find their *Euclidean distance*. (This is simply the length of the line that connects the two points.) For points in two dimensions, Euclidean distance can be calculated with the following Python function:"
   ]
  },
  {
   "cell_type": "code",
   "execution_count": 187,
   "metadata": {},
   "outputs": [],
   "source": [
    "import numpy as np\n",
    "def distance2d(x1, y1, x2, y2):\n",
    "    return np.linalg.norm(np.array([x1, y1])-np.array([x2, y2]))"
   ]
  },
  {
   "cell_type": "markdown",
   "metadata": {},
   "source": [
    "So, the distance between \"capybara\" (70, 30) and \"panda\" (74, 40):"
   ]
  },
  {
   "cell_type": "code",
   "execution_count": 188,
   "metadata": {},
   "outputs": [
    {
     "data": {
      "text/plain": [
       "11.180339887498949"
      ]
     },
     "execution_count": 188,
     "metadata": {},
     "output_type": "execute_result"
    }
   ],
   "source": [
    "distance2d(70, 30, 75, 40) # panda and capybara"
   ]
  },
  {
   "cell_type": "markdown",
   "metadata": {},
   "source": [
    "... is less than the distance between \"tarantula\" and \"elephant\":"
   ]
  },
  {
   "cell_type": "code",
   "execution_count": 189,
   "metadata": {},
   "outputs": [
    {
     "data": {
      "text/plain": [
       "104.0096149401583"
      ]
     },
     "execution_count": 189,
     "metadata": {},
     "output_type": "execute_result"
    }
   ],
   "source": [
    "distance2d(8, 3, 65, 90) # tarantula and elephant"
   ]
  },
  {
   "cell_type": "markdown",
   "metadata": {},
   "source": [
    "Modeling animals in this way has a few other interesting properties. For example, you can pick an arbitrary point in \"animal space\" and then find the animal closest to that point. If you imagine an animal of size 25 and cuteness 30, you can easily look at the space to find the animal that most closely fits that description: the chicken.\n",
    "\n",
    "Reasoning visually, you can also answer questions like: what's halfway between a chicken and an elephant? Simply draw a line from \"elephant\" to \"chicken,\" mark off the midpoint and find the closest animal. (According to our chart, halfway between an elephant and a chicken is a horse.)\n",
    "\n",
    "You can also ask: what's the *difference* between a hamster and a tarantula? According to our plot, it's about seventy five units of cute (and a few units of size).\n",
    "\n",
    "The relationship of \"difference\" is an interesting one, because it allows us to reason about *analogous* relationships. In the chart below, I've drawn an arrow from \"tarantula\" to \"hamster\" (in blue):\n",
    "\n",
    "![Animal analogy](http://static.decontextualize.com/snaps/animal-space-analogy.png)\n",
    "\n",
    "You can understand this arrow as being the *relationship* between a tarantula and a hamster, in terms of their size and cuteness (i.e., hamsters and tarantulas are about the same size, but hamsters are much cuter). In the same diagram, I've also transposed this same arrow (this time in red) so that its origin point is \"chicken.\" The arrow ends closest to \"kitten.\" What we've discovered is that the animal that is about the same size as a chicken but much cuter is... a kitten. To put it in terms of an analogy:\n",
    "\n",
    "    Tarantulas are to hamsters as chickens are to kittens.\n",
    "    \n",
    "A sequence of numbers used to identify a point is called a *vector*, and the kind of math we've been doing so far is called *linear algebra.* (Linear algebra is surprisingly useful across many domains: It's the same kind of math you might do to, e.g., simulate the velocity and acceleration of a sprite in a video game.)\n",
    "\n",
    "A set of vectors that are all part of the same data set is often called a *vector space*. The vector space of animals in this section has two *dimensions*, by which I mean that each vector in the space has two numbers associated with it (i.e., two columns in the spreadsheet). The fact that this space has two dimensions just happens to make it easy to *visualize* the space by drawing a 2D plot. But most vector spaces you'll work with will have more than two dimensions—sometimes many hundreds. In those cases, it's more difficult to visualize the \"space,\" but the math works pretty much the same."
   ]
  },
  {
   "cell_type": "markdown",
   "metadata": {},
   "source": [
    "## Language with vectors: colors\n",
    "\n",
    "So far, so good. We have a system in place—albeit highly subjective—for talking about animals and the words used to name them. I want to talk about another vector space that has to do with language: the vector space of colors.\n",
    "\n",
    "Colors are often represented in computers as vectors with three dimensions: red, green, and blue. Just as with the animals in the previous section, we can use these vectors to answer questions like: which colors are similar? What's the most likely color name for an arbitrarily chosen set of values for red, green and blue? Given the names of two colors, what's the name of those colors' \"average\"?\n",
    "\n",
    "We'll be working with this [color data](https://github.com/dariusk/corpora/blob/master/data/colors/xkcd.json) from the [xkcd color survey](https://blog.xkcd.com/2010/05/03/color-survey-results/). The data relates a color name to the RGB value associated with that color. [Here's a page that shows what the colors look like](https://xkcd.com/color/rgb/). Download the color data and put it in the same directory as this notebook.\n",
    "\n",
    "A few notes before we proceed:\n",
    "\n",
    "* The linear algebra functions implemented below (`addv`, `meanv`, etc.) are slow, potentially inaccurate, and shouldn't be used for \"real\" code—I wrote them so beginner programmers can understand how these kinds of functions work behind the scenes. Use [numpy](http://www.numpy.org/) for fast and accurate math in Python.\n",
    "* If you're interested in perceptually accurate color math in Python, consider using the [colormath library](http://python-colormath.readthedocs.io/en/latest/).\n",
    "\n",
    "Now, import the `json` library and load the color data:"
   ]
  },
  {
   "cell_type": "code",
   "execution_count": 190,
   "metadata": {},
   "outputs": [],
   "source": [
    "import requests"
   ]
  },
  {
   "cell_type": "code",
   "execution_count": 191,
   "metadata": {},
   "outputs": [],
   "source": [
    "resp = requests.get('https://raw.githubusercontent.com/dariusk/corpora/master/data/colors/xkcd.json')\n",
    "color_data = resp.json()"
   ]
  },
  {
   "cell_type": "markdown",
   "metadata": {},
   "source": [
    "The following function converts colors from hex format (`#1a2b3c`) to a tuple of integers:"
   ]
  },
  {
   "cell_type": "code",
   "execution_count": 229,
   "metadata": {},
   "outputs": [],
   "source": [
    "def hex_to_int(s):\n",
    "    return int(s[1:3], 16), int(s[3:5], 16), int(s[5:7], 16)"
   ]
  },
  {
   "cell_type": "markdown",
   "metadata": {},
   "source": [
    "And the following cell creates a dictionary and populates it with mappings from color names to RGB vectors for each color in the data:"
   ]
  },
  {
   "cell_type": "code",
   "execution_count": 230,
   "metadata": {},
   "outputs": [],
   "source": [
    "colors = dict()\n",
    "for item in color_data['colors']:\n",
    "    colors[item[\"color\"]] = hex_to_int(item[\"hex\"])"
   ]
  },
  {
   "cell_type": "markdown",
   "metadata": {},
   "source": [
    "Testing it out:"
   ]
  },
  {
   "cell_type": "code",
   "execution_count": 231,
   "metadata": {},
   "outputs": [
    {
     "data": {
      "text/plain": [
       "(110, 117, 14)"
      ]
     },
     "execution_count": 231,
     "metadata": {},
     "output_type": "execute_result"
    }
   ],
   "source": [
    "colors['olive']"
   ]
  },
  {
   "cell_type": "code",
   "execution_count": 195,
   "metadata": {},
   "outputs": [
    {
     "data": {
      "text/plain": [
       "(229, 0, 0)"
      ]
     },
     "execution_count": 195,
     "metadata": {},
     "output_type": "execute_result"
    }
   ],
   "source": [
    "colors['red']"
   ]
  },
  {
   "cell_type": "code",
   "execution_count": 196,
   "metadata": {},
   "outputs": [
    {
     "data": {
      "text/plain": [
       "(0, 0, 0)"
      ]
     },
     "execution_count": 196,
     "metadata": {},
     "output_type": "execute_result"
    }
   ],
   "source": [
    "colors['black']"
   ]
  },
  {
   "cell_type": "code",
   "execution_count": 197,
   "metadata": {},
   "outputs": [
    {
     "data": {
      "text/plain": [
       "dict_keys(['cloudy blue', 'dark pastel green', 'dust', 'electric lime', 'fresh green', 'light eggplant', 'nasty green', 'really light blue', 'tea', 'warm purple', 'yellowish tan', 'cement', 'dark grass green', 'dusty teal', 'grey teal', 'macaroni and cheese', 'pinkish tan', 'spruce', 'strong blue', 'toxic green', 'windows blue', 'blue blue', 'blue with a hint of purple', 'booger', 'bright sea green', 'dark green blue', 'deep turquoise', 'green teal', 'strong pink', 'bland', 'deep aqua', 'lavender pink', 'light moss green', 'light seafoam green', 'olive yellow', 'pig pink', 'deep lilac', 'desert', 'dusty lavender', 'purpley grey', 'purply', 'candy pink', 'light pastel green', 'boring green', 'kiwi green', 'light grey green', 'orange pink', 'tea green', 'very light brown', 'egg shell', 'eggplant purple', 'powder pink', 'reddish grey', 'baby shit brown', 'liliac', 'stormy blue', 'ugly brown', 'custard', 'darkish pink', 'deep brown', 'greenish beige', 'manilla', 'off blue', 'battleship grey', 'browny green', 'bruise', 'kelley green', 'sickly yellow', 'sunny yellow', 'azul', 'darkgreen', 'green/yellow', 'lichen', 'light light green', 'pale gold', 'sun yellow', 'tan green', 'burple', 'butterscotch', 'toupe', 'dark cream', 'indian red', 'light lavendar', 'poison green', 'baby puke green', 'bright yellow green', 'charcoal grey', 'squash', 'cinnamon', 'light pea green', 'radioactive green', 'raw sienna', 'baby purple', 'cocoa', 'light royal blue', 'orangeish', 'rust brown', 'sand brown', 'swamp', 'tealish green', 'burnt siena', 'camo', 'dusk blue', 'fern', 'old rose', 'pale light green', 'peachy pink', 'rosy pink', 'light bluish green', 'light bright green', 'light neon green', 'light seafoam', 'tiffany blue', 'washed out green', 'browny orange', 'nice blue', 'sapphire', 'greyish teal', 'orangey yellow', 'parchment', 'straw', 'very dark brown', 'terracota', 'ugly blue', 'clear blue', 'creme', 'foam green', 'grey/green', 'light gold', 'seafoam blue', 'topaz', 'violet pink', 'wintergreen', 'yellow tan', 'dark fuchsia', 'indigo blue', 'light yellowish green', 'pale magenta', 'rich purple', 'sunflower yellow', 'green/blue', 'leather', 'racing green', 'vivid purple', 'dark royal blue', 'hazel', 'muted pink', 'booger green', 'canary', 'cool grey', 'dark taupe', 'darkish purple', 'true green', 'coral pink', 'dark sage', 'dark slate blue', 'flat blue', 'mushroom', 'rich blue', 'dirty purple', 'greenblue', 'icky green', 'light khaki', 'warm blue', 'dark hot pink', 'deep sea blue', 'carmine', 'dark yellow green', 'pale peach', 'plum purple', 'golden rod', 'neon red', 'old pink', 'very pale blue', 'blood orange', 'grapefruit', 'sand yellow', 'clay brown', 'dark blue grey', 'flat green', 'light green blue', 'warm pink', 'dodger blue', 'gross green', 'ice', 'metallic blue', 'pale salmon', 'sap green', 'algae', 'bluey grey', 'greeny grey', 'highlighter green', 'light light blue', 'light mint', 'raw umber', 'vivid blue', 'deep lavender', 'dull teal', 'light greenish blue', 'mud green', 'pinky', 'red wine', 'shit green', 'tan brown', 'darkblue', 'rosa', 'lipstick', 'pale mauve', 'claret', 'dandelion', 'orangered', 'poop green', 'ruby', 'dark', 'greenish turquoise', 'pastel red', 'piss yellow', 'bright cyan', 'dark coral', 'algae green', 'darkish red', 'reddy brown', 'blush pink', 'camouflage green', 'lawn green', 'putty', 'vibrant blue', 'dark sand', 'purple/blue', 'saffron', 'twilight', 'warm brown', 'bluegrey', 'bubble gum pink', 'duck egg blue', 'greenish cyan', 'petrol', 'royal', 'butter', 'dusty orange', 'off yellow', 'pale olive green', 'orangish', 'leaf', 'light blue grey', 'dried blood', 'lightish purple', 'rusty red', 'lavender blue', 'light grass green', 'light mint green', 'sunflower', 'velvet', 'brick orange', 'lightish red', 'pure blue', 'twilight blue', 'violet red', 'yellowy brown', 'carnation', 'muddy yellow', 'dark seafoam green', 'deep rose', 'dusty red', 'grey/blue', 'lemon lime', 'purple/pink', 'brown yellow', 'purple brown', 'wisteria', 'banana yellow', 'lipstick red', 'water blue', 'brown grey', 'vibrant purple', 'baby green', 'barf green', 'eggshell blue', 'sandy yellow', 'cool green', 'pale', 'blue/grey', 'hot magenta', 'greyblue', 'purpley', 'baby shit green', 'brownish pink', 'dark aquamarine', 'diarrhea', 'light mustard', 'pale sky blue', 'turtle green', 'bright olive', 'dark grey blue', 'greeny brown', 'lemon green', 'light periwinkle', 'seaweed green', 'sunshine yellow', 'ugly purple', 'medium pink', 'puke brown', 'very light pink', 'viridian', 'bile', 'faded yellow', 'very pale green', 'vibrant green', 'bright lime', 'spearmint', 'light aquamarine', 'light sage', 'yellowgreen', 'baby poo', 'dark seafoam', 'deep teal', 'heather', 'rust orange', 'dirty blue', 'fern green', 'bright lilac', 'weird green', 'peacock blue', 'avocado green', 'faded orange', 'grape purple', 'hot green', 'lime yellow', 'mango', 'shamrock', 'bubblegum', 'purplish brown', 'vomit yellow', 'pale cyan', 'key lime', 'tomato red', 'lightgreen', 'merlot', 'night blue', 'purpleish pink', 'apple', 'baby poop green', 'green apple', 'heliotrope', 'yellow/green', 'almost black', 'cool blue', 'leafy green', 'mustard brown', 'dusk', 'dull brown', 'frog green', 'vivid green', 'bright light green', 'fluro green', 'kiwi', 'seaweed', 'navy green', 'ultramarine blue', 'iris', 'pastel orange', 'yellowish orange', 'perrywinkle', 'tealish', 'dark plum', 'pear', 'pinkish orange', 'midnight purple', 'light urple', 'dark mint', 'greenish tan', 'light burgundy', 'turquoise blue', 'ugly pink', 'sandy', 'electric pink', 'muted purple', 'mid green', 'greyish', 'neon yellow', 'banana', 'carnation pink', 'tomato', 'sea', 'muddy brown', 'turquoise green', 'buff', 'fawn', 'muted blue', 'pale rose', 'dark mint green', 'amethyst', 'blue/green', 'chestnut', 'sick green', 'pea', 'rusty orange', 'stone', 'rose red', 'pale aqua', 'deep orange', 'earth', 'mossy green', 'grassy green', 'pale lime green', 'light grey blue', 'pale grey', 'asparagus', 'blueberry', 'purple red', 'pale lime', 'greenish teal', 'caramel', 'deep magenta', 'light peach', 'milk chocolate', 'ocher', 'off green', 'purply pink', 'lightblue', 'dusky blue', 'golden', 'light beige', 'butter yellow', 'dusky purple', 'french blue', 'ugly yellow', 'greeny yellow', 'orangish red', 'shamrock green', 'orangish brown', 'tree green', 'deep violet', 'gunmetal', 'blue/purple', 'cherry', 'sandy brown', 'warm grey', 'dark indigo', 'midnight', 'bluey green', 'grey pink', 'soft purple', 'blood', 'brown red', 'medium grey', 'berry', 'poo', 'purpley pink', 'light salmon', 'snot', 'easter purple', 'light yellow green', 'dark navy blue', 'drab', 'light rose', 'rouge', 'purplish red', 'slime green', 'baby poop', 'irish green', 'pink/purple', 'dark navy', 'greeny blue', 'light plum', 'pinkish grey', 'dirty orange', 'rust red', 'pale lilac', 'orangey red', 'primary blue', 'kermit green', 'brownish purple', 'murky green', 'wheat', 'very dark purple', 'bottle green', 'watermelon', 'deep sky blue', 'fire engine red', 'yellow ochre', 'pumpkin orange', 'pale olive', 'light lilac', 'lightish green', 'carolina blue', 'mulberry', 'shocking pink', 'auburn', 'bright lime green', 'celadon', 'pinkish brown', 'poo brown', 'bright sky blue', 'celery', 'dirt brown', 'strawberry', 'dark lime', 'copper', 'medium brown', 'muted green', \"robin's egg\", 'bright aqua', 'bright lavender', 'ivory', 'very light purple', 'light navy', 'pink red', 'olive brown', 'poop brown', 'mustard green', 'ocean green', 'very dark blue', 'dusty green', 'light navy blue', 'minty green', 'adobe', 'barney', 'jade green', 'bright light blue', 'light lime', 'dark khaki', 'orange yellow', 'ocre', 'maize', 'faded pink', 'british racing green', 'sandstone', 'mud brown', 'light sea green', 'robin egg blue', 'aqua marine', 'dark sea green', 'soft pink', 'orangey brown', 'cherry red', 'burnt yellow', 'brownish grey', 'camel', 'purplish grey', 'marine', 'greyish pink', 'pale turquoise', 'pastel yellow', 'bluey purple', 'canary yellow', 'faded red', 'sepia', 'coffee', 'bright magenta', 'mocha', 'ecru', 'purpleish', 'cranberry', 'darkish green', 'brown orange', 'dusky rose', 'melon', 'sickly green', 'silver', 'purply blue', 'purpleish blue', 'hospital green', 'shit brown', 'mid blue', 'amber', 'easter green', 'soft blue', 'cerulean blue', 'golden brown', 'bright turquoise', 'red pink', 'red purple', 'greyish brown', 'vermillion', 'russet', 'steel grey', 'lighter purple', 'bright violet', 'prussian blue', 'slate green', 'dirty pink', 'dark blue green', 'pine', 'yellowy green', 'dark gold', 'bluish', 'darkish blue', 'dull red', 'pinky red', 'bronze', 'pale teal', 'military green', 'barbie pink', 'bubblegum pink', 'pea soup green', 'dark mustard', 'shit', 'medium purple', 'very dark green', 'dirt', 'dusky pink', 'red violet', 'lemon yellow', 'pistachio', 'dull yellow', 'dark lime green', 'denim blue', 'teal blue', 'lightish blue', 'purpley blue', 'light indigo', 'swamp green', 'brown green', 'dark maroon', 'hot purple', 'dark forest green', 'faded blue', 'drab green', 'light lime green', 'snot green', 'yellowish', 'light blue green', 'bordeaux', 'light mauve', 'ocean', 'marigold', 'muddy green', 'dull orange', 'steel', 'electric purple', 'fluorescent green', 'yellowish brown', 'blush', 'soft green', 'bright orange', 'lemon', 'purple grey', 'acid green', 'pale lavender', 'violet blue', 'light forest green', 'burnt red', 'khaki green', 'cerise', 'faded purple', 'apricot', 'dark olive green', 'grey brown', 'green grey', 'true blue', 'pale violet', 'periwinkle blue', 'light sky blue', 'blurple', 'green brown', 'bluegreen', 'bright teal', 'brownish yellow', 'pea soup', 'forest', 'barney purple', 'ultramarine', 'purplish', 'puke yellow', 'bluish grey', 'dark periwinkle', 'dark lilac', 'reddish', 'light maroon', 'dusty purple', 'terra cotta', 'avocado', 'marine blue', 'teal green', 'slate grey', 'lighter green', 'electric green', 'dusty blue', 'golden yellow', 'bright yellow', 'light lavender', 'umber', 'poop', 'dark peach', 'jungle green', 'eggshell', 'denim', 'yellow brown', 'dull purple', 'chocolate brown', 'wine red', 'neon blue', 'dirty green', 'light tan', 'ice blue', 'cadet blue', 'dark mauve', 'very light blue', 'grey purple', 'pastel pink', 'very light green', 'dark sky blue', 'evergreen', 'dull pink', 'aubergine', 'mahogany', 'reddish orange', 'deep green', 'vomit green', 'purple pink', 'dusty pink', 'faded green', 'camo green', 'pinky purple', 'pink purple', 'brownish red', 'dark rose', 'mud', 'brownish', 'emerald green', 'pale brown', 'dull blue', 'burnt umber', 'medium green', 'clay', 'light aqua', 'light olive green', 'brownish orange', 'dark aqua', 'purplish pink', 'dark salmon', 'greenish grey', 'jade', 'ugly green', 'dark beige', 'emerald', 'pale red', 'light magenta', 'sky', 'light cyan', 'yellow orange', 'reddish purple', 'reddish pink', 'orchid', 'dirty yellow', 'orange red', 'deep red', 'orange brown', 'cobalt blue', 'neon pink', 'rose pink', 'greyish purple', 'raspberry', 'aqua green', 'salmon pink', 'tangerine', 'brownish green', 'red brown', 'greenish brown', 'pumpkin', 'pine green', 'charcoal', 'baby pink', 'cornflower', 'blue violet', 'chocolate', 'greyish green', 'scarlet', 'green yellow', 'dark olive', 'sienna', 'pastel purple', 'terracotta', 'aqua blue', 'sage green', 'blood red', 'deep pink', 'grass', 'moss', 'pastel blue', 'bluish green', 'green blue', 'dark tan', 'greenish blue', 'pale orange', 'vomit', 'forrest green', 'dark lavender', 'dark violet', 'purple blue', 'dark cyan', 'olive drab', 'pinkish', 'cobalt', 'neon purple', 'light turquoise', 'apple green', 'dull green', 'wine', 'powder blue', 'off white', 'electric blue', 'dark turquoise', 'blue purple', 'azure', 'bright red', 'pinkish red', 'cornflower blue', 'light olive', 'grape', 'greyish blue', 'purplish blue', 'yellowish green', 'greenish yellow', 'medium blue', 'dusty rose', 'light violet', 'midnight blue', 'bluish purple', 'red orange', 'dark magenta', 'greenish', 'ocean blue', 'coral', 'cream', 'reddish brown', 'burnt sienna', 'brick', 'sage', 'grey green', 'white', \"robin's egg blue\", 'moss green', 'steel blue', 'eggplant', 'light yellow', 'leaf green', 'light grey', 'puke', 'pinkish purple', 'sea blue', 'pale purple', 'slate blue', 'blue grey', 'hunter green', 'fuchsia', 'crimson', 'pale yellow', 'ochre', 'mustard yellow', 'light red', 'cerulean', 'pale pink', 'deep blue', 'rust', 'light teal', 'slate', 'goldenrod', 'dark yellow', 'dark grey', 'army green', 'grey blue', 'seafoam', 'puce', 'spring green', 'dark orange', 'sand', 'pastel green', 'mint', 'light orange', 'bright pink', 'chartreuse', 'deep purple', 'dark brown', 'taupe', 'pea green', 'puke green', 'kelly green', 'seafoam green', 'blue green', 'khaki', 'burgundy', 'dark teal', 'brick red', 'royal purple', 'plum', 'mint green', 'gold', 'baby blue', 'yellow green', 'bright purple', 'dark red', 'pale blue', 'grass green', 'navy', 'aquamarine', 'burnt orange', 'neon green', 'bright blue', 'rose', 'light pink', 'mustard', 'indigo', 'lime', 'sea green', 'periwinkle', 'dark pink', 'olive green', 'peach', 'pale green', 'light brown', 'hot pink', 'black', 'lilac', 'navy blue', 'royal blue', 'beige', 'salmon', 'olive', 'maroon', 'bright green', 'dark purple', 'mauve', 'forest green', 'aqua', 'cyan', 'tan', 'dark blue', 'lavender', 'turquoise', 'dark green', 'violet', 'light purple', 'lime green', 'grey', 'sky blue', 'yellow', 'magenta', 'light green', 'orange', 'teal', 'light blue', 'red', 'brown', 'pink', 'blue', 'green', 'purple'])"
      ]
     },
     "execution_count": 197,
     "metadata": {},
     "output_type": "execute_result"
    }
   ],
   "source": [
    "colors.keys()"
   ]
  },
  {
   "cell_type": "markdown",
   "metadata": {},
   "source": [
    "### Vector math\n",
    "\n",
    "Before we keep going, we'll need some functions for performing basic vector arithmetic. These functions will work with vectors in spaces of any number of dimensions.\n",
    "\n",
    "The first function returns the Euclidean distance between two points:"
   ]
  },
  {
   "cell_type": "code",
   "execution_count": 198,
   "metadata": {
    "scrolled": true
   },
   "outputs": [
    {
     "data": {
      "text/plain": [
       "5.0990195135927845"
      ]
     },
     "execution_count": 198,
     "metadata": {},
     "output_type": "execute_result"
    }
   ],
   "source": [
    "import math\n",
    "def distance(coord1, coord2):\n",
    "    return np.linalg.norm(np.array(coord1)-np.array(coord2))\n",
    "distance([10, 1], [5, 2])"
   ]
  },
  {
   "cell_type": "markdown",
   "metadata": {},
   "source": [
    "The `subtractv` function subtracts one vector from another:"
   ]
  },
  {
   "cell_type": "code",
   "execution_count": 199,
   "metadata": {},
   "outputs": [
    {
     "data": {
      "text/plain": [
       "[5, -1]"
      ]
     },
     "execution_count": 199,
     "metadata": {},
     "output_type": "execute_result"
    }
   ],
   "source": [
    "def subtractv(coord1, coord2):\n",
    "    return list(np.array(coord1) - np.array(coord2))\n",
    "subtractv([10, 1], [5, 2])"
   ]
  },
  {
   "cell_type": "markdown",
   "metadata": {},
   "source": [
    "The `addv` vector adds two vectors together:"
   ]
  },
  {
   "cell_type": "code",
   "execution_count": 200,
   "metadata": {},
   "outputs": [
    {
     "data": {
      "text/plain": [
       "[15, 3]"
      ]
     },
     "execution_count": 200,
     "metadata": {},
     "output_type": "execute_result"
    }
   ],
   "source": [
    "def addv(coord1, coord2):\n",
    "    return list(np.array(coord1) + np.array(coord2))\n",
    "addv([10, 1], [5, 2])"
   ]
  },
  {
   "cell_type": "markdown",
   "metadata": {},
   "source": [
    "And the `meanv` function takes a list of vectors and finds their mean or average:"
   ]
  },
  {
   "cell_type": "code",
   "execution_count": 201,
   "metadata": {},
   "outputs": [
    {
     "data": {
      "text/plain": [
       "[2.0, 2.0]"
      ]
     },
     "execution_count": 201,
     "metadata": {},
     "output_type": "execute_result"
    }
   ],
   "source": [
    "def meanv(coords):\n",
    "    return list(np.mean(coords, axis=0))\n",
    "meanv([[0, 1], [2, 2], [4, 3]])"
   ]
  },
  {
   "cell_type": "markdown",
   "metadata": {},
   "source": [
    "Just as a test, the following cell shows that the distance from \"red\" to \"green\" is greater than the distance from \"red\" to \"pink\":"
   ]
  },
  {
   "cell_type": "code",
   "execution_count": 202,
   "metadata": {},
   "outputs": [
    {
     "data": {
      "text/plain": [
       "True"
      ]
     },
     "execution_count": 202,
     "metadata": {},
     "output_type": "execute_result"
    }
   ],
   "source": [
    "distance(colors['red'], colors['green']) > distance(colors['red'], colors['pink'])"
   ]
  },
  {
   "cell_type": "markdown",
   "metadata": {},
   "source": [
    "### Finding the closest item\n",
    "\n",
    "Just as we wanted to find the animal that most closely matched an arbitrary point in cuteness/size space, we'll want to find the closest color name to an arbitrary point in RGB space. The easiest way to find the closest item to an arbitrary vector is simply to find the distance between the target vector and each item in the space, in turn, then sort the list from closest to farthest. The `closest()` function below does just that. By default, it returns a list of the ten closest items to the given vector.\n",
    "\n",
    "> Note: Calculating \"closest neighbors\" like this is fine for the examples in this notebook, but unmanageably slow for vector spaces of any appreciable size. As your vector space grows, you'll want to move to a faster solution, like SciPy's [kdtree](https://docs.scipy.org/doc/scipy-0.14.0/reference/generated/scipy.spatial.KDTree.html) or [Annoy](https://pypi.python.org/pypi/annoy)."
   ]
  },
  {
   "cell_type": "code",
   "execution_count": 203,
   "metadata": {},
   "outputs": [],
   "source": [
    "def closest(space, coord, n=10):\n",
    "    return sorted(space.keys(), key=lambda x: distance(coord, space[x]))[:n]"
   ]
  },
  {
   "cell_type": "markdown",
   "metadata": {},
   "source": [
    "Testing it out, we can find the ten colors closest to \"red\":"
   ]
  },
  {
   "cell_type": "code",
   "execution_count": 233,
   "metadata": {},
   "outputs": [
    {
     "data": {
      "text/plain": [
       "['red',\n",
       " 'fire engine red',\n",
       " 'bright red',\n",
       " 'tomato red',\n",
       " 'cherry red',\n",
       " 'scarlet',\n",
       " 'vermillion',\n",
       " 'orangish red',\n",
       " 'cherry',\n",
       " 'lipstick red']"
      ]
     },
     "execution_count": 233,
     "metadata": {},
     "output_type": "execute_result"
    }
   ],
   "source": [
    "closest(colors, colors['red'])"
   ]
  },
  {
   "cell_type": "markdown",
   "metadata": {},
   "source": [
    "... or the ten colors closest to (150, 60, 150):"
   ]
  },
  {
   "cell_type": "code",
   "execution_count": 244,
   "metadata": {},
   "outputs": [
    {
     "data": {
      "text/plain": [
       "['warm purple',\n",
       " 'medium purple',\n",
       " 'ugly purple',\n",
       " 'light eggplant',\n",
       " 'purpleish',\n",
       " 'purplish',\n",
       " 'purply',\n",
       " 'light plum',\n",
       " 'purple',\n",
       " 'muted purple']"
      ]
     },
     "execution_count": 244,
     "metadata": {},
     "output_type": "execute_result"
    }
   ],
   "source": [
    "closest(colors, [150, 60, 150])"
   ]
  },
  {
   "cell_type": "markdown",
   "metadata": {},
   "source": [
    "### Color magic\n",
    "\n",
    "The magical part of representing words as vectors is that the vector operations we defined earlier appear to operate on language the same way they operate on numbers. For example, if we find the word closest to the vector resulting from subtracting \"red\" from \"purple,\" we get a series of \"blue\" colors:"
   ]
  },
  {
   "cell_type": "code",
   "execution_count": 234,
   "metadata": {},
   "outputs": [
    {
     "data": {
      "text/plain": [
       "['dark red',\n",
       " 'blood',\n",
       " 'deep red',\n",
       " 'blood red',\n",
       " 'indian red',\n",
       " 'reddy brown',\n",
       " 'mahogany',\n",
       " 'dried blood',\n",
       " 'crimson',\n",
       " 'brick red']"
      ]
     },
     "execution_count": 234,
     "metadata": {},
     "output_type": "execute_result"
    }
   ],
   "source": [
    "closest(colors, subtractv(colors['purple'], colors['blue']))"
   ]
  },
  {
   "cell_type": "markdown",
   "metadata": {},
   "source": [
    "This matches our intuition about RGB colors, which is that purple is a combination of red and blue. Take away the red, and blue is all you have left.\n",
    "\n",
    "You can do something similar with addition. What's blue plus green?"
   ]
  },
  {
   "cell_type": "code",
   "execution_count": 235,
   "metadata": {},
   "outputs": [
    {
     "data": {
      "text/plain": [
       "['bright turquoise',\n",
       " 'bright light blue',\n",
       " 'bright aqua',\n",
       " 'cyan',\n",
       " 'neon blue',\n",
       " 'aqua blue',\n",
       " 'bright cyan',\n",
       " 'bright sky blue',\n",
       " 'aqua',\n",
       " 'bright teal']"
      ]
     },
     "execution_count": 235,
     "metadata": {},
     "output_type": "execute_result"
    }
   ],
   "source": [
    "closest(colors, addv(colors['blue'], colors['green']))"
   ]
  },
  {
   "cell_type": "markdown",
   "metadata": {},
   "source": [
    "That's right, it's something like turquoise or cyan! What if we find the average of black and white? Predictably, we get gray:"
   ]
  },
  {
   "cell_type": "code",
   "execution_count": 236,
   "metadata": {},
   "outputs": [
    {
     "data": {
      "text/plain": [
       "['medium grey',\n",
       " 'purple grey',\n",
       " 'steel grey',\n",
       " 'battleship grey',\n",
       " 'grey purple',\n",
       " 'purplish grey',\n",
       " 'greyish purple',\n",
       " 'steel',\n",
       " 'warm grey',\n",
       " 'green grey']"
      ]
     },
     "execution_count": 236,
     "metadata": {},
     "output_type": "execute_result"
    }
   ],
   "source": [
    "# the average of black and white: medium grey\n",
    "closest(colors, meanv([colors['black'], colors['white']]))"
   ]
  },
  {
   "cell_type": "markdown",
   "metadata": {},
   "source": [
    "Just as with the tarantula/hamster example from the previous section, we can use color vectors to reason about relationships between colors. In the cell below, finding the difference between \"pink\" and \"red\" then adding it to \"blue\" seems to give us a list of colors that are to blue what pink is to red (i.e., a slightly lighter, less saturated shade):"
   ]
  },
  {
   "cell_type": "code",
   "execution_count": 237,
   "metadata": {},
   "outputs": [
    {
     "data": {
      "text/plain": [
       "['azure',\n",
       " 'turquoise blue',\n",
       " 'bright sky blue',\n",
       " 'aqua blue',\n",
       " 'neon blue',\n",
       " 'water blue',\n",
       " 'topaz',\n",
       " 'cerulean',\n",
       " 'aqua',\n",
       " 'dark sky blue']"
      ]
     },
     "execution_count": 237,
     "metadata": {},
     "output_type": "execute_result"
    }
   ],
   "source": [
    "# an analogy: pink is to red as X is to blue\n",
    "pink_to_red = subtractv(colors['orange'], colors['red'])\n",
    "closest(colors, addv(pink_to_red, colors['blue']))"
   ]
  },
  {
   "cell_type": "markdown",
   "metadata": {},
   "source": [
    "Another example of color analogies: Navy is to blue as true green/dark grass green is to green:"
   ]
  },
  {
   "cell_type": "code",
   "execution_count": 238,
   "metadata": {},
   "outputs": [
    {
     "data": {
      "text/plain": [
       "['true green',\n",
       " 'dark grass green',\n",
       " 'grassy green',\n",
       " 'racing green',\n",
       " 'forest',\n",
       " 'bottle green',\n",
       " 'dark olive green',\n",
       " 'darkgreen',\n",
       " 'forrest green',\n",
       " 'grass green']"
      ]
     },
     "execution_count": 238,
     "metadata": {},
     "output_type": "execute_result"
    }
   ],
   "source": [
    "# another example: \n",
    "navy_to_blue = subtractv(colors['navy'], colors['blue'])\n",
    "closest(colors, addv(navy_to_blue, colors['green']))"
   ]
  },
  {
   "cell_type": "markdown",
   "metadata": {},
   "source": [
    "The examples above are fairly simple from a mathematical perspective but nevertheless *feel* magical: they're demonstrating that it's possible to use math to reason about how people use language."
   ]
  },
  {
   "cell_type": "markdown",
   "metadata": {},
   "source": [
    "### Interlude: A Love Poem That Loses Its Way"
   ]
  },
  {
   "cell_type": "code",
   "execution_count": 239,
   "metadata": {},
   "outputs": [
    {
     "name": "stdout",
     "output_type": "stream",
     "text": [
      "Roses are red, violets are blue\n",
      "Roses are vermillion, violets are bright blue\n",
      "Roses are reddish orange, violets are azul\n",
      "Roses are vermillion, violets are lightish blue\n",
      "Roses are tomato, violets are dodger blue\n",
      "Roses are vermillion, violets are deep sky blue\n",
      "Roses are tomato red, violets are cerulean\n",
      "Roses are red orange, violets are deep sky blue\n",
      "Roses are blood orange, violets are cerulean\n",
      "Roses are vermillion, violets are azure\n",
      "Roses are red orange, violets are bright sky blue\n",
      "Roses are orangey red, violets are turquoise blue\n",
      "Roses are orangered, violets are aqua blue\n",
      "Roses are bright orange, violets are bright aqua\n"
     ]
    }
   ],
   "source": [
    "import random\n",
    "red = colors['red']\n",
    "blue = colors['blue']\n",
    "for i in range(14):\n",
    "    rednames = closest(colors, red)\n",
    "    bluenames = closest(colors, blue)\n",
    "    print(f\"Roses are {rednames[0]}, violets are {bluenames[0]}\")\n",
    "    red = colors[random.choice(rednames[1:])]\n",
    "    blue = colors[random.choice(bluenames[1:])]"
   ]
  },
  {
   "cell_type": "markdown",
   "metadata": {},
   "source": [
    "### Doing bad digital humanities with color vectors\n",
    "\n",
    "With the tools above in hand, we can start using our vectorized knowledge of language toward academic ends. In the following example, I'm going to calculate the average color of Bram Stoker's *Dracula*.\n",
    "\n",
    "First, we'll load [spaCy](https://spacy.io/):"
   ]
  },
  {
   "cell_type": "code",
   "execution_count": 222,
   "metadata": {},
   "outputs": [],
   "source": [
    "\n",
    "import en_core_web_sm\n",
    "# !python -m spacy download en_core_web_sm\n",
    "nlp = en_core_web_sm.load()"
   ]
  },
  {
   "cell_type": "markdown",
   "metadata": {},
   "source": [
    "To calculate the average color, we'll follow these steps:\n",
    "\n",
    "1. Parse the text into words\n",
    "2. Check every word to see if it names a color in our vector space. If it does, add it to a list of vectors.\n",
    "3. Find the average of that list of vectors.\n",
    "4. Find the color(s) closest to that average vector.\n",
    "\n",
    "The following cell performs steps 1-3:"
   ]
  },
  {
   "cell_type": "code",
   "execution_count": 242,
   "metadata": {},
   "outputs": [
    {
     "name": "stdout",
     "output_type": "stream",
     "text": [
      "[147.44839067702551, 113.65371809100999, 100.13540510543841]\n"
     ]
    }
   ],
   "source": [
    "resp = requests.get('http://www.gutenberg.org/cache/epub/345/pg345.txt')\n",
    "dracula = nlp(resp.text)\n",
    "# use word.lower_ to normalize case\n",
    "drac_colors = [colors[word.lower_] for word in dracula if word.lower_ in colors]\n",
    "avg_color = meanv(drac_colors)\n",
    "print(avg_color)"
   ]
  },
  {
   "cell_type": "markdown",
   "metadata": {},
   "source": [
    "Now, we'll pass the averaged color vector to the `closest()` function, yielding... well, it's just a brown mush, which is kinda what you'd expect from adding a bunch of colors together willy-nilly."
   ]
  },
  {
   "cell_type": "code",
   "execution_count": 243,
   "metadata": {},
   "outputs": [
    {
     "data": {
      "text/plain": [
       "['reddish grey',\n",
       " 'brownish grey',\n",
       " 'brownish',\n",
       " 'brown grey',\n",
       " 'mocha',\n",
       " 'grey brown',\n",
       " 'puce',\n",
       " 'dull brown',\n",
       " 'pinkish brown',\n",
       " 'dark taupe']"
      ]
     },
     "execution_count": 243,
     "metadata": {},
     "output_type": "execute_result"
    }
   ],
   "source": [
    "closest(colors, avg_color)"
   ]
  },
  {
   "cell_type": "markdown",
   "metadata": {},
   "source": [
    "On the other hand, here's what we get when we average the colors of Charlotte Perkins Gilman's classic *The Yellow Wallpaper*. The result definitely reflects the content of the story, so maybe we're on to something here."
   ]
  },
  {
   "cell_type": "code",
   "execution_count": 240,
   "metadata": {},
   "outputs": [
    {
     "data": {
      "text/plain": [
       "['sickly yellow',\n",
       " 'piss yellow',\n",
       " 'puke yellow',\n",
       " 'vomit yellow',\n",
       " 'dirty yellow',\n",
       " 'mustard yellow',\n",
       " 'dark yellow',\n",
       " 'olive yellow',\n",
       " 'macaroni and cheese',\n",
       " 'pea']"
      ]
     },
     "execution_count": 240,
     "metadata": {},
     "output_type": "execute_result"
    }
   ],
   "source": [
    "resp = requests.get('http://www.gutenberg.org/cache/epub/1952/pg1952.txt')\n",
    "yellow = nlp(resp.text)\n",
    "wallpaper_colors = [colors[word.lower_] for word in yellow if word.lower_ in colors]\n",
    "avg_color = meanv(wallpaper_colors)\n",
    "closest(colors, avg_color)"
   ]
  },
  {
   "cell_type": "code",
   "execution_count": 227,
   "metadata": {},
   "outputs": [],
   "source": [
    "def closest_text_colors(url):\n",
    "    resp = requests.get(url)\n",
    "    text = nlp(resp.text)\n",
    "    text_colors = [colors[word.lower_] for word in text if word.lower_ in colors]\n",
    "    avg_color = meanv(text_colors)\n",
    "    print(closest(colors, avg_color))"
   ]
  },
  {
   "cell_type": "code",
   "execution_count": 241,
   "metadata": {},
   "outputs": [
    {
     "name": "stdout",
     "output_type": "stream",
     "text": [
      "['brown grey', 'reddish grey', 'brownish grey', 'dark khaki', 'mocha', 'puce', 'dark sand', 'brownish', 'dark beige', 'warm grey']\n"
     ]
    }
   ],
   "source": [
    "closest_text_colors('http://www.gutenberg.org/files/215/215-0.txt')"
   ]
  },
  {
   "cell_type": "markdown",
   "metadata": {},
   "source": [
    "Exercise for the reader: Use the vector arithmetic functions to rewrite a text, making it...\n",
    "\n",
    "* more blue (i.e., add `colors['blue']` to each occurrence of a color word); or\n",
    "* more light (i.e., add `colors['white']` to each occurrence of a color word); or\n",
    "* darker (i.e., attenuate each color. You might need to write a vector multiplication function to do this one right.)"
   ]
  },
  {
   "cell_type": "markdown",
   "metadata": {},
   "source": [
    "## Distributional semantics\n",
    "\n",
    "In the previous section, the examples are interesting because of a simple fact: colors that we think of as similar are \"closer\" to each other in RGB vector space. In our color vector space, or in our animal cuteness/size space, you can think of the words identified by vectors close to each other as being *synonyms*, in a sense: they sort of \"mean\" the same thing. They're also, for many purposes, *functionally identical*. Think of this in terms of writing, say, a search engine. If someone searches for \"mauve trousers,\" then it's probably also okay to show them results for, say,"
   ]
  },
  {
   "cell_type": "code",
   "execution_count": 245,
   "metadata": {},
   "outputs": [
    {
     "name": "stdout",
     "output_type": "stream",
     "text": [
      "mauve trousers\n",
      "dusty rose trousers\n",
      "dusky rose trousers\n",
      "brownish pink trousers\n",
      "old pink trousers\n",
      "reddish grey trousers\n",
      "dirty pink trousers\n",
      "old rose trousers\n",
      "light plum trousers\n",
      "ugly pink trousers\n"
     ]
    }
   ],
   "source": [
    "for cname in closest(colors, colors['mauve']):\n",
    "    print(cname, \"trousers\")"
   ]
  },
  {
   "cell_type": "markdown",
   "metadata": {},
   "source": [
    "That's all well and good for color words, which intuitively seem to exist in a multidimensional continuum of perception, and for our animal space, where we've written out the vectors ahead of time. But what about... arbitrary words? Is it possible to create a vector space for all English words that has this same \"closer in space is closer in meaning\" property?\n",
    "\n",
    "To answer that, we have to back up a bit and ask the question: what does *meaning* mean? No one really knows, but one theory popular among computational linguists, computer scientists and other people who make search engines is the [Distributional Hypothesis](https://en.wikipedia.org/wiki/Distributional_semantics), which states that:\n",
    "\n",
    "    Linguistic items with similar distributions have similar meanings.\n",
    "    \n",
    "What's meant by \"similar distributions\" is *similar contexts*. Take for example the following sentences:\n",
    "\n",
    "    It was really cold yesterday.\n",
    "    It will be really warm today, though.\n",
    "    It'll be really hot tomorrow!\n",
    "    Will it be really cool Tuesday?\n",
    "    \n",
    "According to the Distributional Hypothesis, the words `cold`, `warm`, `hot` and `cool` must be related in some way (i.e., be close in meaning) because they occur in a similar context, i.e., between the word \"really\" and a word indicating a particular day. (Likewise, the words `yesterday`, `today`, `tomorrow` and `Tuesday` must be related, since they occur in the context of a word indicating a temperature.)\n",
    "\n",
    "In other words, according to the Distributional Hypothesis, a word's meaning is just a big list of all the contexts it occurs in. Two words are closer in meaning if they share contexts."
   ]
  },
  {
   "cell_type": "markdown",
   "metadata": {},
   "source": [
    "## Word vectors by counting contexts\n",
    "\n",
    "So how do we turn this insight from the Distributional Hypothesis into a system for creating general-purpose vectors that capture the meaning of words? Maybe you can see where I'm going with this. What if we made a *really big* spreadsheet that had one column for every context for every word in a given source text. Let's use a small source text to begin with, such as this excerpt from Dickens:\n",
    "\n",
    "    It was the best of times, it was the worst of times.\n",
    "\n",
    "Such a spreadsheet might look something like this:\n",
    "\n",
    "![dickens contexts](http://static.decontextualize.com/snaps/best-of-times.png)\n",
    "\n",
    "The spreadsheet has one column for every possible context, and one row for every word. The values in each cell correspond with how many times the word occurs in the given context. The numbers in the columns constitute that word's vector, i.e., the vector for the word `of` is\n",
    "\n",
    "    [0, 0, 0, 0, 1, 0, 0, 0, 1, 0]\n",
    "    \n",
    "Because there are ten possible contexts, this is a ten dimensional space! It might be strange to think of it, but you can do vector arithmetic on vectors with ten dimensions just as easily as you can on vectors with two or three dimensions, and you could use the same distance formula that we defined earlier to get useful information about which vectors in this space are similar to each other. In particular, the vectors for `best` and `worst` are actually the same (a distance of zero), since they occur only in the same context (`the ___ of`):\n",
    "\n",
    "    [0, 0, 0, 1, 0, 0, 0, 0, 0, 0]\n",
    "    \n",
    "Of course, the conventional way of thinking about \"best\" and \"worst\" is that they're *antonyms*, not *synonyms*. But they're also clearly two words of the same kind, with related meanings (through opposition), a fact that is captured by this distributional model.\n",
    "\n",
    "### Contexts and dimensionality\n",
    "\n",
    "Of course, in a corpus of any reasonable size, there will be many thousands if not many millions of possible contexts. It's difficult enough working with a vector space of ten dimensions, let alone a vector space of a million dimensions! It turns out, though, that many of the dimensions end up being superfluous and can either be eliminated or combined with other dimensions without significantly affecting the predictive power of the resulting vectors. The process of getting rid of superfluous dimensions in a vector space is called [dimensionality reduction](https://en.wikipedia.org/wiki/Dimensionality_reduction), and most implementations of count-based word vectors make use of dimensionality reduction so that the resulting vector space has a reasonable number of dimensions (say, 100—300, depending on the corpus and application).\n",
    "\n",
    "The question of how to identify a \"context\" is itself very difficult to answer. In the toy example above, we've said that a \"context\" is just the word that precedes and the word that follows. Depending on your implementation of this procedure, though, you might want a context with a bigger \"window\" (e.g., two words before and after), or a non-contiguous window (skip a word before and after the given word). You might exclude certain \"function\" words like \"the\" and \"of\" when determining a word's context, or you might [lemmatize](https://en.wikipedia.org/wiki/Lemmatisation) the words before you begin your analysis, so two occurrences with different \"forms\" of the same word count as the same context. These are all questions open to research and debate, and different implementations of procedures for creating count-based word vectors make different decisions on this issue.\n",
    "\n",
    "### GloVe vectors\n",
    "\n",
    "But you don't have to create your own word vectors from scratch! Many researchers have made downloadable databases of pre-trained vectors. One such project is Stanford's [Global Vectors for Word Representation (GloVe)](https://nlp.stanford.edu/projects/glove/). These 300-dimensional vectors are included with spaCy, and they're the vectors we'll be using for the rest of this tutorial."
   ]
  },
  {
   "cell_type": "markdown",
   "metadata": {},
   "source": [
    "## Word vectors in spaCy\n",
    "\n",
    "Okay, let's have some fun with real word vectors. We're going to use the GloVe vectors that come with spaCy to creatively analyze and manipulate the text of Bram Stoker's *Dracula*. First, make sure you've got `spacy` imported:"
   ]
  },
  {
   "cell_type": "code",
   "execution_count": 246,
   "metadata": {},
   "outputs": [
    {
     "data": {
      "text/plain": [
       "hour"
      ]
     },
     "execution_count": 246,
     "metadata": {},
     "output_type": "execute_result"
    }
   ],
   "source": [
    "dracula[560]"
   ]
  },
  {
   "cell_type": "code",
   "execution_count": 247,
   "metadata": {},
   "outputs": [
    {
     "data": {
      "text/plain": [
       "array([-3.3890932 ,  3.8036323 , -2.6519728 ,  1.6794462 , -0.03245598,\n",
       "        0.34949422,  1.4263201 ,  0.7514826 ,  1.5714422 ,  6.836588  ,\n",
       "       -0.87871516, -2.5962636 ,  4.4980946 , -3.2636712 ,  0.59583217,\n",
       "        1.7193251 , -1.7698543 , -2.6230168 ,  0.32886952, -1.9750781 ,\n",
       "        3.1977305 , -2.3372014 , -2.340062  , -2.59442   , -1.707979  ,\n",
       "        1.4709201 ,  0.46112838, -4.2141914 ,  3.8767452 ,  1.9445885 ,\n",
       "        2.5187936 ,  2.709597  ,  4.9126153 , -2.4080238 ,  1.2024103 ,\n",
       "       -1.7131364 ,  2.7877707 , -4.4838257 , -1.9192042 , -2.094125  ,\n",
       "        3.3191376 ,  2.954278  , -1.6426673 , -2.4524295 , -0.97719395,\n",
       "        1.2865635 , -0.9342208 , -0.07476962, -1.0927347 ,  0.39212835,\n",
       "        2.6349268 , -3.4252431 ,  0.7364484 , -0.04758237, -0.8591391 ,\n",
       "        0.5237043 ,  3.3768516 , -0.6579486 , -0.34316725, -0.7823252 ,\n",
       "        2.7190056 , -2.2406356 , -1.2399366 , -0.10923919,  0.38356325,\n",
       "       -0.07189876,  4.31141   ,  2.5327733 ,  0.69408464, -0.5813782 ,\n",
       "        0.22487086,  1.2595627 , -1.8386738 ,  3.5870411 , -2.5341964 ,\n",
       "       -1.0141946 ,  3.171867  ,  0.07178259,  0.399449  , -0.621662  ,\n",
       "       -0.27902734, -2.2531636 , -4.4507833 ,  1.514179  , -0.8810638 ,\n",
       "        0.2055819 , -2.7417152 ,  1.314493  , -1.0518675 , -1.9557784 ,\n",
       "        1.4149687 ,  1.3410604 , -2.907415  ,  0.14844155,  1.3213062 ,\n",
       "        0.81834567], dtype=float32)"
      ]
     },
     "execution_count": 247,
     "metadata": {},
     "output_type": "execute_result"
    }
   ],
   "source": [
    "_.vector"
   ]
  },
  {
   "cell_type": "code",
   "execution_count": 249,
   "metadata": {},
   "outputs": [
    {
     "name": "stdout",
     "output_type": "stream",
     "text": [
      "Collecting https://github.com/explosion/spacy-models/releases/download/en_core_web_lg-2.2.0/en_core_web_lg-2.2.0.tar.gz\n",
      "\u001b[?25l  Downloading https://github.com/explosion/spacy-models/releases/download/en_core_web_lg-2.2.0/en_core_web_lg-2.2.0.tar.gz (827.9MB)\n",
      "\u001b[K     |████████████████████████████████| 827.9MB 20kB/s s eta 0:00:015   |██▌                             | 66.0MB 26.0MB/s eta 0:00:30     |████▌                           | 117.4MB 3.7MB/s eta 0:03:14     |████████▊                       | 225.0MB 6.6MB/s eta 0:01:32     |█████████████████▏              | 442.8MB 9.7MB/s eta 0:00:40     |█████████████████▋              | 455.0MB 9.7MB/s eta 0:00:39     |████████████████████▏           | 520.5MB 31.9MB/s eta 0:00:10     |█████████████████████████████▌  | 764.1MB 26.0MB/s eta 0:00:03\n",
      "\u001b[?25hRequirement already satisfied: spacy>=2.2.0 in /usr/local/anaconda3/lib/python3.7/site-packages (from en-core-web-lg==2.2.0) (2.2.3)\n",
      "Requirement already satisfied: plac<1.2.0,>=0.9.6 in /usr/local/anaconda3/lib/python3.7/site-packages (from spacy>=2.2.0->en-core-web-lg==2.2.0) (1.1.3)\n",
      "Requirement already satisfied: setuptools in /usr/local/anaconda3/lib/python3.7/site-packages (from spacy>=2.2.0->en-core-web-lg==2.2.0) (41.4.0)\n",
      "Requirement already satisfied: preshed<3.1.0,>=3.0.2 in /usr/local/anaconda3/lib/python3.7/site-packages (from spacy>=2.2.0->en-core-web-lg==2.2.0) (3.0.2)\n",
      "Requirement already satisfied: thinc<7.4.0,>=7.3.0 in /usr/local/anaconda3/lib/python3.7/site-packages (from spacy>=2.2.0->en-core-web-lg==2.2.0) (7.3.1)\n",
      "Requirement already satisfied: numpy>=1.15.0 in /usr/local/anaconda3/lib/python3.7/site-packages (from spacy>=2.2.0->en-core-web-lg==2.2.0) (1.17.2)\n",
      "Requirement already satisfied: catalogue<1.1.0,>=0.0.7 in /usr/local/anaconda3/lib/python3.7/site-packages (from spacy>=2.2.0->en-core-web-lg==2.2.0) (0.2.0)\n",
      "Requirement already satisfied: srsly<1.1.0,>=0.1.0 in /usr/local/anaconda3/lib/python3.7/site-packages (from spacy>=2.2.0->en-core-web-lg==2.2.0) (0.2.0)\n",
      "Requirement already satisfied: blis<0.5.0,>=0.4.0 in /usr/local/anaconda3/lib/python3.7/site-packages (from spacy>=2.2.0->en-core-web-lg==2.2.0) (0.4.1)\n",
      "Requirement already satisfied: requests<3.0.0,>=2.13.0 in /usr/local/anaconda3/lib/python3.7/site-packages (from spacy>=2.2.0->en-core-web-lg==2.2.0) (2.22.0)\n",
      "Requirement already satisfied: cymem<2.1.0,>=2.0.2 in /usr/local/anaconda3/lib/python3.7/site-packages (from spacy>=2.2.0->en-core-web-lg==2.2.0) (2.0.3)\n",
      "Requirement already satisfied: murmurhash<1.1.0,>=0.28.0 in /usr/local/anaconda3/lib/python3.7/site-packages (from spacy>=2.2.0->en-core-web-lg==2.2.0) (1.0.2)\n",
      "Requirement already satisfied: wasabi<1.1.0,>=0.4.0 in /usr/local/anaconda3/lib/python3.7/site-packages (from spacy>=2.2.0->en-core-web-lg==2.2.0) (0.5.0)\n",
      "Requirement already satisfied: tqdm<5.0.0,>=4.10.0 in /usr/local/anaconda3/lib/python3.7/site-packages (from thinc<7.4.0,>=7.3.0->spacy>=2.2.0->en-core-web-lg==2.2.0) (4.36.1)\n",
      "Requirement already satisfied: importlib-metadata>=0.20; python_version < \"3.8\" in /usr/local/anaconda3/lib/python3.7/site-packages (from catalogue<1.1.0,>=0.0.7->spacy>=2.2.0->en-core-web-lg==2.2.0) (0.23)\n",
      "Requirement already satisfied: certifi>=2017.4.17 in /usr/local/anaconda3/lib/python3.7/site-packages (from requests<3.0.0,>=2.13.0->spacy>=2.2.0->en-core-web-lg==2.2.0) (2019.11.28)\n",
      "Requirement already satisfied: chardet<3.1.0,>=3.0.2 in /usr/local/anaconda3/lib/python3.7/site-packages (from requests<3.0.0,>=2.13.0->spacy>=2.2.0->en-core-web-lg==2.2.0) (3.0.4)\n",
      "Requirement already satisfied: urllib3!=1.25.0,!=1.25.1,<1.26,>=1.21.1 in /usr/local/anaconda3/lib/python3.7/site-packages (from requests<3.0.0,>=2.13.0->spacy>=2.2.0->en-core-web-lg==2.2.0) (1.24.2)\n",
      "Requirement already satisfied: idna<2.9,>=2.5 in /usr/local/anaconda3/lib/python3.7/site-packages (from requests<3.0.0,>=2.13.0->spacy>=2.2.0->en-core-web-lg==2.2.0) (2.8)\n",
      "Requirement already satisfied: zipp>=0.5 in /usr/local/anaconda3/lib/python3.7/site-packages (from importlib-metadata>=0.20; python_version < \"3.8\"->catalogue<1.1.0,>=0.0.7->spacy>=2.2.0->en-core-web-lg==2.2.0) (0.6.0)\n",
      "Requirement already satisfied: more-itertools in /usr/local/anaconda3/lib/python3.7/site-packages (from zipp>=0.5->importlib-metadata>=0.20; python_version < \"3.8\"->catalogue<1.1.0,>=0.0.7->spacy>=2.2.0->en-core-web-lg==2.2.0) (7.2.0)\n",
      "Building wheels for collected packages: en-core-web-lg\n",
      "  Building wheel for en-core-web-lg (setup.py) ... \u001b[?25ldone\n",
      "\u001b[?25h  Created wheel for en-core-web-lg: filename=en_core_web_lg-2.2.0-cp37-none-any.whl size=829187830 sha256=8dea4c5a7d04fbc062425865d53233d6217dc3626707e929efeb51e5016b8c3f\n",
      "  Stored in directory: /Users/brad/Library/Caches/pip/wheels/9f/3c/d6/3ade7ed8195030f4d7f299cf73d856a84d7b3effd5890133fb\n",
      "Successfully built en-core-web-lg\n",
      "Installing collected packages: en-core-web-lg\n",
      "Successfully installed en-core-web-lg-2.2.0\n"
     ]
    }
   ],
   "source": [
    "# previously we've used the _sm model, which doesn't include all vectors.\n",
    "!pip install https://github.com/explosion/spacy-models/releases/download/en_core_web_lg-2.2.0/en_core_web_lg-2.2.0.tar.gz\n",
    "import en_core_web_lg\n",
    "nlp = en_core_web_lg.load()"
   ]
  },
  {
   "cell_type": "code",
   "execution_count": 250,
   "metadata": {},
   "outputs": [],
   "source": [
    "resp = requests.get('http://www.gutenberg.org/cache/epub/345/pg345.txt')\n",
    "dracula = nlp(resp.text)\n"
   ]
  },
  {
   "cell_type": "markdown",
   "metadata": {},
   "source": [
    "And the cell below creates a list of unique words (or tokens) in the text, as a list of strings."
   ]
  },
  {
   "cell_type": "code",
   "execution_count": 251,
   "metadata": {},
   "outputs": [],
   "source": [
    "# all of the words in the text file\n",
    "tokens = list(set([w.text for w in dracula if w.is_alpha]))"
   ]
  },
  {
   "cell_type": "markdown",
   "metadata": {},
   "source": [
    "You can see the vector of any word in spaCy's vocabulary using the `vocab` attribute, like so:"
   ]
  },
  {
   "cell_type": "code",
   "execution_count": 252,
   "metadata": {
    "scrolled": true
   },
   "outputs": [
    {
     "data": {
      "text/plain": [
       "array([-4.9304e-01,  1.2459e-01,  2.6142e-01,  3.8393e-02,  1.4018e-01,\n",
       "        5.7285e-01, -5.0449e-01,  1.5094e-01,  7.3356e-02,  2.3308e-01,\n",
       "       -1.6048e-01, -5.1184e-01, -1.4028e-01, -3.0110e-01, -4.3446e-01,\n",
       "       -2.8257e-02,  1.9100e-03,  6.5157e-01,  1.4855e-01, -3.7255e-01,\n",
       "       -4.6619e-01, -1.7223e-01, -5.1794e-01, -2.5453e-01, -2.6785e-01,\n",
       "       -6.7776e-02, -3.0085e-01, -3.3212e-01, -1.5862e-01, -1.2336e-01,\n",
       "       -3.8935e-01, -3.5551e-01, -3.6182e-01,  2.3197e-02, -1.7486e-01,\n",
       "        2.2345e-01,  6.7557e-01,  9.6939e-03, -9.5640e-02,  1.2073e-01,\n",
       "       -1.2016e-01, -1.6161e-01,  1.0661e-01, -4.5233e-01,  4.5991e-01,\n",
       "        1.0367e-02, -1.0842e-01, -3.6163e-01,  2.5105e-01,  9.5780e-03,\n",
       "       -6.1363e-01,  2.7494e-01,  2.1783e-01, -1.0663e-01, -9.5146e-03,\n",
       "        2.7570e-01,  2.5888e-02, -5.6749e-02,  6.7667e-03,  5.3735e-01,\n",
       "       -1.2224e-01,  8.8448e-02,  4.6094e-01,  4.6881e-02, -6.6557e-01,\n",
       "       -3.9493e-01,  2.7362e-01,  1.2302e-01,  2.8594e-01, -2.5274e-02,\n",
       "       -8.8458e-02, -6.5280e-01, -1.9723e-01,  2.4883e-01, -7.0509e-01,\n",
       "       -3.9357e-01,  2.1244e-01,  2.8522e-01, -1.3837e-01, -8.0399e-01,\n",
       "        4.0477e-01,  5.5522e-01,  1.3422e-01,  1.7541e-01, -2.4896e-01,\n",
       "       -3.7945e-02,  9.0174e-01,  5.7262e-01,  5.8552e-01, -2.7852e-02,\n",
       "       -3.7543e-01, -2.2329e-01, -1.7649e-01, -2.7149e-01, -1.4442e-01,\n",
       "        1.1173e-01, -7.5823e-01, -3.2636e-02,  3.8259e-01, -4.7711e-01,\n",
       "       -6.4061e-02,  7.7816e-01,  5.2918e-01, -8.8252e-02, -4.8766e-01,\n",
       "       -1.0542e+00, -1.7567e-01,  5.0561e-01, -3.2961e-01,  6.4652e-02,\n",
       "        1.6991e-01,  6.4564e-01, -1.1113e-01, -2.7329e-01,  4.5151e-01,\n",
       "        2.0905e-01,  5.5951e-01, -5.6235e-01,  6.4065e-01,  2.6138e-01,\n",
       "       -7.6238e-02, -5.7198e-01,  5.7286e-01, -6.4884e-01, -3.5580e-02,\n",
       "       -2.9065e-01, -2.3659e-01, -1.5837e-01, -3.8830e-01,  3.5099e-01,\n",
       "        1.2338e-01, -7.7062e-01, -3.2580e-01,  5.4685e-01,  9.9670e-02,\n",
       "       -1.7511e-01,  5.9578e-01,  5.7704e-02,  3.6616e-01,  7.9128e-02,\n",
       "       -2.1015e+00,  2.9241e-01,  1.6590e-01, -1.1812e-01,  3.6034e-01,\n",
       "        2.1378e-01, -3.8785e-02, -1.6689e-01,  2.5772e-01,  1.4423e-01,\n",
       "       -3.2560e-01, -4.9781e-01, -2.4736e-01, -4.5972e-01,  5.3241e-03,\n",
       "       -3.8934e-01, -5.6316e-01, -2.1875e-02,  4.6312e-01,  2.7124e-01,\n",
       "        8.2626e-02,  1.2798e-01, -1.7966e-01, -4.0142e-01,  3.9830e-01,\n",
       "        4.7246e-01, -1.7184e-02,  3.0340e-01,  7.2356e-01,  6.2398e-03,\n",
       "        1.1034e-01,  4.3798e-01, -1.8209e-01,  7.9000e-01, -8.2937e-01,\n",
       "       -2.5152e-01, -3.5818e-01,  1.9120e-01,  2.6807e-01, -4.8448e-02,\n",
       "        4.4986e-01, -1.9426e-01, -4.1831e-01, -4.7271e-01,  1.8365e-02,\n",
       "       -5.3575e-02,  2.0164e-01,  1.4613e-01, -5.2150e-01, -3.5136e-01,\n",
       "       -5.6628e-01,  5.6513e-01,  1.5970e-01,  4.9475e-01,  7.8591e-02,\n",
       "        5.8238e-01,  5.5110e-01,  4.7882e-01,  5.1979e-02, -5.8825e-01,\n",
       "       -3.1104e-01,  1.9566e-01, -3.4389e-01,  5.2565e-01,  2.7204e-01,\n",
       "       -1.9269e-01,  4.0240e-01,  3.5336e-01,  1.1571e-01, -1.7639e-01,\n",
       "        3.6528e-01,  4.7704e-01, -7.1949e-02, -2.3349e-01, -3.6303e-01,\n",
       "        1.8091e-01, -6.1703e-01,  1.0734e-01,  2.0010e-01,  4.5323e-02,\n",
       "       -1.4448e-01,  2.3747e-01, -1.0277e-01, -5.3455e-01,  1.3774e-01,\n",
       "       -2.1872e-01,  2.9646e-01,  8.5221e-01,  1.0667e-01,  8.3190e-02,\n",
       "        2.1841e-01, -2.0192e-01, -9.4416e-02,  1.7515e-01,  4.4191e-01,\n",
       "        5.8381e-01, -3.2412e-01, -2.3751e-01,  6.5186e-01,  3.9159e-01,\n",
       "        2.4443e-01, -6.5128e-01, -3.2916e-01, -5.9612e-01, -2.8962e-01,\n",
       "        1.2222e-01, -2.6307e-02,  1.1961e-01, -2.7490e-01,  2.4727e-01,\n",
       "       -1.0389e-01,  3.8307e-01, -5.0076e-01,  4.6286e-01,  4.6927e-01,\n",
       "       -3.5431e-01,  5.9146e-01,  2.0201e-01,  8.0544e-01,  2.7008e-01,\n",
       "       -5.9786e-02, -2.7738e-01, -2.3822e-01, -5.1769e-02,  2.1425e-01,\n",
       "        2.5170e-01,  1.8265e-01, -2.4323e-01, -3.2770e-01,  1.5040e-02,\n",
       "       -3.8119e-01, -5.2011e-02,  4.2345e-01,  6.3603e-01,  5.0159e-01,\n",
       "       -1.6942e-01, -2.3502e-01, -2.0667e-01, -9.0480e-02, -9.7789e-01,\n",
       "       -2.8939e-01,  2.2706e-01, -1.2613e-01,  4.4867e-02,  3.8184e-01,\n",
       "       -3.1982e-01, -1.4018e-01, -1.3953e-02, -4.4110e-01, -4.3323e-01,\n",
       "        4.6663e-01,  2.8850e-01, -8.1727e-01, -4.4984e-01,  8.9386e-02,\n",
       "        9.0084e-01, -5.8482e-02,  5.1920e-02,  1.5626e-02, -7.1096e-02],\n",
       "      dtype=float32)"
      ]
     },
     "execution_count": 252,
     "metadata": {},
     "output_type": "execute_result"
    }
   ],
   "source": [
    "nlp.vocab['alligator'].vector"
   ]
  },
  {
   "cell_type": "markdown",
   "metadata": {},
   "source": [
    "For the sake of convenience, the following function gets the vector of a given string from spaCy's vocabulary:"
   ]
  },
  {
   "cell_type": "code",
   "execution_count": 253,
   "metadata": {},
   "outputs": [],
   "source": [
    "def vec(s):\n",
    "    return nlp.vocab[s].vector"
   ]
  },
  {
   "cell_type": "markdown",
   "metadata": {},
   "source": [
    "### Cosine similarity and finding closest neighbors"
   ]
  },
  {
   "cell_type": "code",
   "execution_count": 254,
   "metadata": {},
   "outputs": [],
   "source": [
    "from sklearn.metrics.pairwise import cosine_similarity"
   ]
  },
  {
   "cell_type": "markdown",
   "metadata": {},
   "source": [
    "The following cell shows that the cosine similarity between `dog` and `puppy` is larger than the similarity between `trousers` and `octopus`, thereby demonstrating that the vectors are working how we expect them to:"
   ]
  },
  {
   "cell_type": "code",
   "execution_count": 272,
   "metadata": {},
   "outputs": [
    {
     "name": "stdout",
     "output_type": "stream",
     "text": [
      "0.85852134 0.54394364\n"
     ]
    }
   ],
   "source": [
    "print(cosine_similarity(vec('dog').reshape(1, -1), vec('puppy').reshape(1, -1))[0][0],\n",
    "    cosine_similarity(vec('water').reshape(1, -1), vec('wet').reshape(1, -1))[0][0])"
   ]
  },
  {
   "cell_type": "markdown",
   "metadata": {},
   "source": [
    "The following cell defines a function that iterates through a list of tokens and returns the token whose vector is most similar to a given vector."
   ]
  },
  {
   "cell_type": "code",
   "execution_count": 256,
   "metadata": {},
   "outputs": [],
   "source": [
    "def spacy_closest(token_list, vec_to_check, n=10):\n",
    "    return sorted(token_list,\n",
    "                  key=lambda x: cosine_similarity(vec_to_check.reshape(1, -1), \n",
    "                                                  vec(x).reshape(1, -1))[0][0],\n",
    "                  reverse=True)[:n]"
   ]
  },
  {
   "cell_type": "markdown",
   "metadata": {},
   "source": [
    "Using this function, we can get a list of synonyms, or words closest in meaning (or distribution, depending on how you look at it), to any arbitrary word in spaCy's vocabulary. In the following example, we're finding the words in *Dracula* closest to \"basketball\":"
   ]
  },
  {
   "cell_type": "code",
   "execution_count": 275,
   "metadata": {
    "scrolled": true
   },
   "outputs": [
    {
     "data": {
      "text/plain": [
       "['DRACULA',\n",
       " 'Dracula',\n",
       " 'Shakespeare',\n",
       " 'Edward',\n",
       " 'Arthur',\n",
       " 'ARTHUR',\n",
       " 'Mary',\n",
       " 'Hyde',\n",
       " 'Helsing',\n",
       " 'George']"
      ]
     },
     "execution_count": 275,
     "metadata": {},
     "output_type": "execute_result"
    }
   ],
   "source": [
    "# what's the closest equivalent of basketball?\n",
    "spacy_closest(tokens, vec(\"frankenstein\"))"
   ]
  },
  {
   "cell_type": "markdown",
   "metadata": {},
   "source": [
    "### Fun with spaCy, Dracula, and vector arithmetic\n",
    "\n",
    "Now we can start doing vector arithmetic and finding the closest words to the resulting vectors. For example, what word is closest to the halfway point between day and night?"
   ]
  },
  {
   "cell_type": "code",
   "execution_count": 258,
   "metadata": {},
   "outputs": [
    {
     "data": {
      "text/plain": [
       "['night',\n",
       " 'Day',\n",
       " 'day',\n",
       " 'Evening',\n",
       " 'evening',\n",
       " 'morning',\n",
       " 'Morning',\n",
       " 'afternoon',\n",
       " 'nights',\n",
       " 'Nights']"
      ]
     },
     "execution_count": 258,
     "metadata": {},
     "output_type": "execute_result"
    }
   ],
   "source": [
    "# halfway between day and night\n",
    "spacy_closest(tokens, np.array(meanv([vec(\"day\"), vec(\"night\")])))"
   ]
  },
  {
   "cell_type": "markdown",
   "metadata": {},
   "source": [
    "Variations of `night` and `day` are still closest, but after that we get words like `evening` and `morning`, which are indeed halfway between day and night!"
   ]
  },
  {
   "cell_type": "markdown",
   "metadata": {},
   "source": [
    "Here are the closest words in _Dracula_ to \"wine\":"
   ]
  },
  {
   "cell_type": "code",
   "execution_count": 259,
   "metadata": {},
   "outputs": [
    {
     "data": {
      "text/plain": [
       "['wine',\n",
       " 'beer',\n",
       " 'bottle',\n",
       " 'Drink',\n",
       " 'drink',\n",
       " 'cellar',\n",
       " 'fruit',\n",
       " 'bottles',\n",
       " 'brandy',\n",
       " 'taste']"
      ]
     },
     "execution_count": 259,
     "metadata": {},
     "output_type": "execute_result"
    }
   ],
   "source": [
    "spacy_closest(tokens, vec(\"wine\"))"
   ]
  },
  {
   "cell_type": "markdown",
   "metadata": {},
   "source": [
    "If you subtract \"alcohol\" from \"wine\" and find the closest words to the resulting vector, you're left with simply a lovely dinner:"
   ]
  },
  {
   "cell_type": "code",
   "execution_count": 260,
   "metadata": {},
   "outputs": [
    {
     "data": {
      "text/plain": [
       "['wine',\n",
       " 'cellar',\n",
       " 'exquisite',\n",
       " 'fabulous',\n",
       " 'splendid',\n",
       " 'magnificent',\n",
       " 'delightful',\n",
       " 'dinner',\n",
       " 'Dinner',\n",
       " 'sparkling']"
      ]
     },
     "execution_count": 260,
     "metadata": {},
     "output_type": "execute_result"
    }
   ],
   "source": [
    "spacy_closest(tokens, np.array(subtractv(vec(\"wine\"), vec(\"alcohol\"))))"
   ]
  },
  {
   "cell_type": "markdown",
   "metadata": {},
   "source": [
    "The closest words to \"water\":"
   ]
  },
  {
   "cell_type": "code",
   "execution_count": 261,
   "metadata": {},
   "outputs": [
    {
     "data": {
      "text/plain": [
       "['water',\n",
       " 'waters',\n",
       " 'Salt',\n",
       " 'salt',\n",
       " 'pond',\n",
       " 'dry',\n",
       " 'liquid',\n",
       " 'ocean',\n",
       " 'boiling',\n",
       " 'heat']"
      ]
     },
     "execution_count": 261,
     "metadata": {},
     "output_type": "execute_result"
    }
   ],
   "source": [
    "spacy_closest(tokens, vec(\"water\"))"
   ]
  },
  {
   "cell_type": "markdown",
   "metadata": {},
   "source": [
    "But if you add \"frozen\" to \"water,\" you get \"ice\":"
   ]
  },
  {
   "cell_type": "code",
   "execution_count": 266,
   "metadata": {},
   "outputs": [
    {
     "data": {
      "text/plain": [
       "['water',\n",
       " 'mud',\n",
       " 'sand',\n",
       " 'dry',\n",
       " 'gravel',\n",
       " 'Wet',\n",
       " 'wet',\n",
       " 'dust',\n",
       " 'pond',\n",
       " 'clean']"
      ]
     },
     "execution_count": 266,
     "metadata": {},
     "output_type": "execute_result"
    }
   ],
   "source": [
    "spacy_closest(tokens, np.array(addv(vec(\"water\"), vec(\"dirt\"))))"
   ]
  },
  {
   "cell_type": "markdown",
   "metadata": {},
   "source": [
    "You can even do analogies! For example, the words most similar to \"grass\":"
   ]
  },
  {
   "cell_type": "code",
   "execution_count": 263,
   "metadata": {
    "scrolled": true
   },
   "outputs": [
    {
     "data": {
      "text/plain": [
       "['grass',\n",
       " 'lawn',\n",
       " 'trees',\n",
       " 'greens',\n",
       " 'grassy',\n",
       " 'GARDEN',\n",
       " 'garden',\n",
       " 'sand',\n",
       " 'foliage',\n",
       " 'tree']"
      ]
     },
     "execution_count": 263,
     "metadata": {},
     "output_type": "execute_result"
    }
   ],
   "source": [
    "spacy_closest(tokens, vec(\"grass\"))"
   ]
  },
  {
   "cell_type": "markdown",
   "metadata": {},
   "source": [
    "If you take the difference of \"blue\" and \"sky\" and add it to grass, you get the analogous word (\"green\"):"
   ]
  },
  {
   "cell_type": "code",
   "execution_count": 264,
   "metadata": {
    "scrolled": true
   },
   "outputs": [
    {
     "data": {
      "text/plain": [
       "['grass',\n",
       " 'green',\n",
       " 'GREEN',\n",
       " 'Green',\n",
       " 'yellow',\n",
       " 'Red',\n",
       " 'red',\n",
       " 'purple',\n",
       " 'lawn',\n",
       " 'pink']"
      ]
     },
     "execution_count": 264,
     "metadata": {},
     "output_type": "execute_result"
    }
   ],
   "source": [
    "# analogy: blue is to sky as X is to grass\n",
    "blue_to_sky = subtractv(vec(\"blue\"), vec(\"sky\"))\n",
    "spacy_closest(tokens, np.array(addv(blue_to_sky, vec(\"grass\"))))"
   ]
  },
  {
   "cell_type": "markdown",
   "metadata": {},
   "source": [
    "## Further resources\n",
    "\n",
    "* [Word2vec](https://en.wikipedia.org/wiki/Word2vec) is another procedure for producing word vectors which uses a predictive approach rather than a context-counting approach. [This paper](http://clic.cimec.unitn.it/marco/publications/acl2014/baroni-etal-countpredict-acl2014.pdf) compares and contrasts the two approaches. (Spoiler: it's kind of a wash.)\n",
    "* If you want to train your own word vectors on a particular corpus, the popular Python library [gensim](https://radimrehurek.com/gensim/) has an implementation of Word2Vec that is relatively easy to use. [There's a good tutorial here.](https://rare-technologies.com/word2vec-tutorial/)\n",
    "* When you're working with vector spaces with high dimensionality and millions of vectors, iterating through your entire space calculating cosine similarities can be a drag. I use [Annoy](https://pypi.python.org/pypi/annoy) to make these calculations faster, and you should consider using it too."
   ]
  }
 ],
 "metadata": {
  "kernelspec": {
   "display_name": "Python 3",
   "language": "python",
   "name": "python3"
  },
  "language_info": {
   "codemirror_mode": {
    "name": "ipython",
    "version": 3
   },
   "file_extension": ".py",
   "mimetype": "text/x-python",
   "name": "python",
   "nbconvert_exporter": "python",
   "pygments_lexer": "ipython3",
   "version": "3.7.3"
  }
 },
 "nbformat": 4,
 "nbformat_minor": 4
}
