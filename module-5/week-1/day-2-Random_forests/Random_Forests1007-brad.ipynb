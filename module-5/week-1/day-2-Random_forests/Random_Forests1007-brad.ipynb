{
 "cells": [
  {
   "cell_type": "markdown",
   "metadata": {},
   "source": [
    "> To live! like a tree alone and free,\n",
    "> and like a forest in solidarity...\n",
    "> Nazim Hikmet\n",
    "\n",
    "<center> <h1> Random Forests (Yes! No Forest Image) </h1> </center>\n",
    "\n",
    "\n",
    "\n",
    "__Objectives__\n",
    "\n",
    "- Introduction of 'bagging' procedure.\n",
    "\n",
    "- Identifying the need for bootstrapping for decision trees.\n",
    "\n",
    "- Comparing Random forests and bagging methods\n",
    "\n",
    "- Evaluating a model by random forest model\n",
    "\n",
    "# Review: Bootstrapping\n"
   ]
  },
  {
   "cell_type": "markdown",
   "metadata": {},
   "source": [
    "<img src= \"img/bootstrap1.png\" style=\"height:250px\">\n"
   ]
  },
  {
   "cell_type": "markdown",
   "metadata": {},
   "source": [
    "# Bagging\n",
    "\n",
    "\n",
    "Let's us one more time recall that if $Z_{1}, \\cdots, Z_{n}$ are independent observations with variance $\\sigma^{2}$ then the variance of the mean $\\bar{Z}$ is given by $\\frac{\\sigma^{2}}{n}$. \n",
    "\n",
    "__How is this relevant now?__\n",
    "\n"
   ]
  },
  {
   "cell_type": "markdown",
   "metadata": {},
   "source": [
    "We will use this idea calculate $$ \\hat{f}^{1}(x), \\cdots, \\hat{f}^{B}(x)$$ where each $\\hat{f}^{i}$ represents a decision tree fitted to the bootstrapped data.\n",
    "\n",
    "Then we will make a prediction by: \n",
    "\n",
    "$$ \\hat{f}_{\\text{avg}}(x) = \\frac{1}{B}\\sum_{b=1}^{B} \\hat{f}^{b}(x)$$\n",
    "\n",
    "Note that this is for regression and for the classification we can get majority vote.\n",
    "\n",
    "[sklearn averages over probabilities not majority vote](https://scikit-learn.org/stable/modules/ensemble.html#forest)\n"
   ]
  },
  {
   "cell_type": "markdown",
   "metadata": {},
   "source": [
    "## Random Forests\n",
    "\n",
    "__Problem__ We still have some problem with this approach and random forests will address this problem. Can you see the issue?\n",
    "\n",
    "- If we have a strong predictor then this will dominate in each tree.\n",
    "\n",
    "Hint: Correlated trees"
   ]
  },
  {
   "cell_type": "markdown",
   "metadata": {},
   "source": [
    "## Sklearn for RandomForests"
   ]
  },
  {
   "cell_type": "code",
   "execution_count": 1,
   "metadata": {},
   "outputs": [],
   "source": [
    "import pandas as pd"
   ]
  },
  {
   "cell_type": "code",
   "execution_count": 2,
   "metadata": {},
   "outputs": [
    {
     "name": "stdout",
     "output_type": "stream",
     "text": [
      "(303, 14)\n"
     ]
    }
   ],
   "source": [
    "## you can download the data from -- https://www.kaggle.com/ishaanv/ISLR-Auto#Heart.csv\n",
    "\n",
    "## or http://faculty.marshall.usc.edu/gareth-james/ISL/data.html\n",
    "heart = pd.read_csv('data/Heart.csv', index_col = 0)\n",
    "heart.head()\n",
    "print(heart.shape)"
   ]
  },
  {
   "cell_type": "code",
   "execution_count": 3,
   "metadata": {},
   "outputs": [],
   "source": [
    "heart.dropna(axis= 0, how= 'any', inplace = True)\n",
    "y = heart.AHD\n",
    "heart.drop(columns= 'AHD', inplace = True)"
   ]
  },
  {
   "cell_type": "code",
   "execution_count": 4,
   "metadata": {},
   "outputs": [
    {
     "name": "stdout",
     "output_type": "stream",
     "text": [
      "<class 'pandas.core.frame.DataFrame'>\n",
      "Int64Index: 297 entries, 1 to 302\n",
      "Data columns (total 13 columns):\n",
      "Age          297 non-null int64\n",
      "Sex          297 non-null int64\n",
      "ChestPain    297 non-null object\n",
      "RestBP       297 non-null int64\n",
      "Chol         297 non-null int64\n",
      "Fbs          297 non-null int64\n",
      "RestECG      297 non-null int64\n",
      "MaxHR        297 non-null int64\n",
      "ExAng        297 non-null int64\n",
      "Oldpeak      297 non-null float64\n",
      "Slope        297 non-null int64\n",
      "Ca           297 non-null float64\n",
      "Thal         297 non-null object\n",
      "dtypes: float64(2), int64(9), object(2)\n",
      "memory usage: 32.5+ KB\n"
     ]
    }
   ],
   "source": [
    "heart.info()"
   ]
  },
  {
   "cell_type": "code",
   "execution_count": 5,
   "metadata": {},
   "outputs": [
    {
     "data": {
      "text/plain": [
       "normal        164\n",
       "reversable    115\n",
       "fixed          18\n",
       "Name: Thal, dtype: int64"
      ]
     },
     "metadata": {},
     "output_type": "display_data"
    },
    {
     "data": {
      "text/plain": [
       "asymptomatic    142\n",
       "nonanginal       83\n",
       "nontypical       49\n",
       "typical          23\n",
       "Name: ChestPain, dtype: int64"
      ]
     },
     "metadata": {},
     "output_type": "display_data"
    }
   ],
   "source": [
    "display(heart.Thal.value_counts())\n",
    "display(heart.ChestPain.value_counts())"
   ]
  },
  {
   "cell_type": "code",
   "execution_count": 6,
   "metadata": {},
   "outputs": [],
   "source": [
    "from sklearn.model_selection import train_test_split \n",
    "X_train, X_test,y_train, y_test = train_test_split(heart, y, test_size= 0.20, stratify = y)"
   ]
  },
  {
   "cell_type": "code",
   "execution_count": 7,
   "metadata": {},
   "outputs": [],
   "source": [
    "from sklearn.preprocessing import OneHotEncoder"
   ]
  },
  {
   "cell_type": "code",
   "execution_count": 13,
   "metadata": {},
   "outputs": [
    {
     "data": {
      "text/plain": [
       "(Index(['ChestPain', 'Thal'], dtype='object'),\n",
       " Index(['Age', 'Sex', 'RestBP', 'Chol', 'Fbs', 'RestECG', 'MaxHR', 'ExAng',\n",
       "        'Oldpeak', 'Slope', 'Ca'],\n",
       "       dtype='object'))"
      ]
     },
     "execution_count": 13,
     "metadata": {},
     "output_type": "execute_result"
    }
   ],
   "source": [
    "categorical_variables = X_train.select_dtypes(include=['object']).columns\n",
    "numerical_variables = X_train.select_dtypes(include = ['int64', 'float64']).columns\n",
    "categorical_variables, numerical_variables"
   ]
  },
  {
   "cell_type": "code",
   "execution_count": 9,
   "metadata": {},
   "outputs": [],
   "source": [
    "import numpy as np"
   ]
  },
  {
   "cell_type": "code",
   "execution_count": 10,
   "metadata": {},
   "outputs": [
    {
     "data": {
      "text/plain": [
       "(237, 16)"
      ]
     },
     "execution_count": 10,
     "metadata": {},
     "output_type": "execute_result"
    }
   ],
   "source": [
    "ohe = OneHotEncoder(drop = 'first')\n",
    "X_categ = ohe.fit_transform(X_train[categorical_variables]).toarray()\n",
    "X_num = X_train[numerical_variables].values\n",
    "Xtrain = np.concatenate((X_categ, X_num), axis = -1,)\n",
    "Xtrain.shape"
   ]
  },
  {
   "cell_type": "code",
   "execution_count": 14,
   "metadata": {},
   "outputs": [
    {
     "data": {
      "text/plain": [
       "(60, 16)"
      ]
     },
     "execution_count": 14,
     "metadata": {},
     "output_type": "execute_result"
    }
   ],
   "source": [
    "## now we should transform the test data \n",
    "## to be able to use it for the prediction\n",
    "\n",
    "X_test_categ = ohe.transform(X_test[categorical_variables]).toarray()\n",
    "X_test_num = X_test[numerical_variables].values\n",
    "Xtest = np.concatenate((X_test_categ, X_test_num), axis = -1,)\n",
    "Xtest.shape"
   ]
  },
  {
   "cell_type": "code",
   "execution_count": 15,
   "metadata": {},
   "outputs": [],
   "source": [
    "from sklearn.ensemble import RandomForestClassifier"
   ]
  },
  {
   "cell_type": "code",
   "execution_count": 97,
   "metadata": {},
   "outputs": [],
   "source": [
    "clf = RandomForestClassifier(n_estimators= 100, \n",
    "                             criterion= 'gini', \n",
    "                             max_features= 'auto',\n",
    "                             oob_score= True)"
   ]
  },
  {
   "cell_type": "code",
   "execution_count": 98,
   "metadata": {},
   "outputs": [
    {
     "data": {
      "text/plain": [
       "RandomForestClassifier(bootstrap=True, ccp_alpha=0.0, class_weight=None,\n",
       "                       criterion='gini', max_depth=None, max_features='auto',\n",
       "                       max_leaf_nodes=None, max_samples=None,\n",
       "                       min_impurity_decrease=0.0, min_impurity_split=None,\n",
       "                       min_samples_leaf=1, min_samples_split=2,\n",
       "                       min_weight_fraction_leaf=0.0, n_estimators=100,\n",
       "                       n_jobs=None, oob_score=True, random_state=None,\n",
       "                       verbose=0, warm_start=False)"
      ]
     },
     "execution_count": 98,
     "metadata": {},
     "output_type": "execute_result"
    }
   ],
   "source": [
    "clf.fit(Xtrain, y_train)"
   ]
  },
  {
   "cell_type": "code",
   "execution_count": 99,
   "metadata": {},
   "outputs": [
    {
     "data": {
      "text/plain": [
       "0.8143459915611815"
      ]
     },
     "execution_count": 99,
     "metadata": {},
     "output_type": "execute_result"
    }
   ],
   "source": [
    "clf.oob_score_"
   ]
  },
  {
   "cell_type": "code",
   "execution_count": 118,
   "metadata": {},
   "outputs": [
    {
     "data": {
      "text/plain": [
       "0.8059071729957806"
      ]
     },
     "execution_count": 118,
     "metadata": {},
     "output_type": "execute_result"
    }
   ],
   "source": [
    "clf_2 = RandomForestClassifier(n_estimators=31,\n",
    "                             min_samples_split=5,\n",
    "                             min_samples_leaf=4,\n",
    "                             max_features='sqrt',\n",
    "                             max_depth=3,\n",
    "                             bootstrap=True,\n",
    "                             oob_score=True)\n",
    "clf_2.fit(Xtrain, y_train)\n",
    "clf_2.oob_score_"
   ]
  },
  {
   "cell_type": "code",
   "execution_count": 134,
   "metadata": {},
   "outputs": [
    {
     "data": {
      "text/plain": [
       "0.8227848101265823"
      ]
     },
     "execution_count": 134,
     "metadata": {},
     "output_type": "execute_result"
    }
   ],
   "source": [
    "clf_3 = RandomForestClassifier(n_estimators=100,\n",
    "                             criterion= 'gini', \n",
    "                             max_features='auto',\n",
    "                             max_depth=4,\n",
    "                             max_leaf_nodes=4,\n",
    "                             oob_score=True)\n",
    "clf_3.fit(Xtrain, y_train)\n",
    "clf_3.oob_score_"
   ]
  },
  {
   "cell_type": "code",
   "execution_count": 130,
   "metadata": {},
   "outputs": [
    {
     "data": {
      "text/plain": [
       "0.8059071729957806"
      ]
     },
     "execution_count": 130,
     "metadata": {},
     "output_type": "execute_result"
    }
   ],
   "source": [
    "clf_4 = RandomForestClassifier(n_estimators=100,\n",
    "                             criterion= 'gini', \n",
    "                             max_features='auto',\n",
    "                             max_depth=None,\n",
    "                             min_samples_split=2,\n",
    "                             oob_score=True)\n",
    "clf_4.fit(Xtrain, y_train)\n",
    "clf_4.oob_score_"
   ]
  },
  {
   "cell_type": "code",
   "execution_count": 135,
   "metadata": {},
   "outputs": [
    {
     "data": {
      "text/plain": [
       "array([0.01719089, 0.        , 0.        , 0.18844954, 0.16024387,\n",
       "       0.02744644, 0.01184903, 0.01029863, 0.0084941 , 0.        ,\n",
       "       0.00127021, 0.11527245, 0.13319266, 0.08197206, 0.09262483,\n",
       "       0.15169529])"
      ]
     },
     "execution_count": 135,
     "metadata": {},
     "output_type": "execute_result"
    }
   ],
   "source": [
    "clf_3.feature_importances_"
   ]
  },
  {
   "cell_type": "code",
   "execution_count": 132,
   "metadata": {},
   "outputs": [
    {
     "data": {
      "text/plain": [
       "array([0.03494235, 0.01234375, 0.01177521, 0.07707454, 0.09127012,\n",
       "       0.07730115, 0.03088459, 0.07983415, 0.0769276 , 0.00807003,\n",
       "       0.01707479, 0.12264092, 0.08750433, 0.09342493, 0.06691495,\n",
       "       0.1120166 ])"
      ]
     },
     "execution_count": 132,
     "metadata": {},
     "output_type": "execute_result"
    }
   ],
   "source": [
    "clf_4.feature_importances_"
   ]
  },
  {
   "cell_type": "markdown",
   "metadata": {},
   "source": [
    "__Your Turn__\n",
    "\n",
    "- Use 5 fold cross_validation to fit random forest classifier we created above.\n",
    "- Don't forget to return training scores and trained estimators."
   ]
  },
  {
   "cell_type": "code",
   "execution_count": 17,
   "metadata": {},
   "outputs": [],
   "source": [
    "from sklearn.model_selection import cross_validate"
   ]
  },
  {
   "cell_type": "code",
   "execution_count": 53,
   "metadata": {},
   "outputs": [],
   "source": [
    "# %load -r 1-6 supplement.py\n",
    "cv = cross_validate(clf,\n",
    "                    Xtrain,\n",
    "                    y_train,\n",
    "                    return_train_score=True,\n",
    "                    return_estimator=True,\n",
    "                    cv=5)"
   ]
  },
  {
   "cell_type": "markdown",
   "metadata": {},
   "source": [
    "__Your Turn__\n",
    "\n",
    "- What is the type of validator above?\n",
    "\n",
    "- Check test vs train(validation) scores.\n",
    "\n",
    "- Print \"mean +/- std\" for both train and test scores\n",
    "\n",
    "- Also print oob_scores and compare them with cross_validation scores"
   ]
  },
  {
   "cell_type": "code",
   "execution_count": 54,
   "metadata": {},
   "outputs": [
    {
     "name": "stdout",
     "output_type": "stream",
     "text": [
      "Train score: 0.853 +/- 0.017\n",
      "Test score: 0.806 +/- 0.073\n"
     ]
    }
   ],
   "source": [
    "# %load -r 9-17 supplement.py\n",
    "mean_test = np.mean(cv['test_score'])\n",
    "std_test = np.std(cv['test_score'])\n",
    "\n",
    "mean_train = np.mean(cv['train_score'])\n",
    "std_train = np.std(cv['train_score'])\n",
    "\n",
    "\n",
    "print(\"Train score: %.3f +/- %.3f\"%(mean_train, std_train))\n",
    "print(\"Test score: %.3f +/- %.3f\"%(mean_test, std_test))"
   ]
  },
  {
   "cell_type": "markdown",
   "metadata": {},
   "source": [
    "__Your Turn__\n",
    "\n",
    "- Note that we have over-fitting problem. \n",
    "\n",
    "- Let's try to reduce over-fitting"
   ]
  },
  {
   "cell_type": "code",
   "execution_count": 63,
   "metadata": {},
   "outputs": [
    {
     "name": "stdout",
     "output_type": "stream",
     "text": [
      "Train score: 0.854 +/- 0.018\n",
      "Test score: 0.823 +/- 0.051\n"
     ]
    }
   ],
   "source": [
    "clf = RandomForestClassifier(n_estimators= 100, \n",
    "                             criterion= 'gini', \n",
    "                             max_features='auto',\n",
    "                             oob_score= True,\n",
    "                             max_depth=4,\n",
    "                             max_leaf_nodes=4\n",
    "                            )\n",
    "cv = cross_validate(clf,\n",
    "                    Xtrain,\n",
    "                    y_train,\n",
    "                    return_train_score=True,\n",
    "                    return_estimator=True,\n",
    "                    cv=5)\n",
    "mean_test = np.mean(cv['test_score'])\n",
    "std_test = np.std(cv['test_score'])\n",
    "\n",
    "mean_train = np.mean(cv['train_score'])\n",
    "std_train = np.std(cv['train_score'])\n",
    "\n",
    "\n",
    "print(\"Train score: %.3f +/- %.3f\"%(mean_train, std_train))\n",
    "print(\"Test score: %.3f +/- %.3f\"%(mean_test, std_test))"
   ]
  },
  {
   "cell_type": "code",
   "execution_count": 65,
   "metadata": {},
   "outputs": [
    {
     "data": {
      "text/plain": [
       "0.8143459915611815"
      ]
     },
     "execution_count": 65,
     "metadata": {},
     "output_type": "execute_result"
    }
   ],
   "source": [
    "# %load -r 20-27 supplement.py\n",
    "clf = RandomForestClassifier(n_estimators= 100,\n",
    "                             criterion= 'gini',\n",
    "                             max_features= 'auto', max_depth= 2,\n",
    "                             oob_score= True)\n",
    "\n",
    "clf.fit(Xtrain, y_train);\n",
    "clf.score(Xtrain, y_train)\n",
    "clf.oob_score_"
   ]
  },
  {
   "cell_type": "markdown",
   "metadata": {},
   "source": [
    "### Extra: Pipelines?"
   ]
  },
  {
   "cell_type": "code",
   "execution_count": 66,
   "metadata": {},
   "outputs": [],
   "source": [
    "## There is an \"easier\" way to do this\n",
    "from sklearn.pipeline import Pipeline\n",
    "from sklearn.compose import ColumnTransformer\n",
    "from sklearn.impute import SimpleImputer\n",
    "from sklearn.preprocessing import StandardScaler\n",
    "\n",
    "from sklearn.ensemble import RandomForestClassifier"
   ]
  },
  {
   "cell_type": "code",
   "execution_count": 83,
   "metadata": {},
   "outputs": [],
   "source": [
    "numeric_transformer = Pipeline(steps=[\n",
    "    ('imputer', SimpleImputer(strategy='median')),\n",
    "    ('scaler', StandardScaler())])\n",
    "\n",
    "categorical_transformer = Pipeline(steps=[\n",
    "    ('onehot', OneHotEncoder(drop='first'))])\n",
    "\n",
    "preprocessor = ColumnTransformer(\n",
    "        transformers=[\n",
    "        ('num', numeric_transformer, numerical_variables),\n",
    "        ('cat', categorical_transformer, categorical_variables)],)\n",
    "\n",
    "rf = Pipeline(steps=[('preprocessor', preprocessor),\n",
    "                      ('classifier', RandomForestClassifier(n_estimators =100,\n",
    "                                                            oob_score = True,\n",
    "                                                            criterion= 'gini', \n",
    "                                                            max_features='auto',\n",
    "                                                            max_depth=4,\n",
    "                                                            max_leaf_nodes=4))])"
   ]
  },
  {
   "cell_type": "code",
   "execution_count": 84,
   "metadata": {},
   "outputs": [],
   "source": [
    "pipe_validator = cross_validate(rf, \n",
    "                    X_train, \n",
    "                    y_train, \n",
    "                    return_train_score= True, \n",
    "                    return_estimator= True,\n",
    "                    cv = 5)"
   ]
  },
  {
   "cell_type": "code",
   "execution_count": 85,
   "metadata": {
    "scrolled": true
   },
   "outputs": [
    {
     "name": "stdout",
     "output_type": "stream",
     "text": [
      "[0.84656085 0.85714286 0.87894737 0.85263158 0.84736842]\n",
      "[0.79166667 0.83333333 0.68085106 0.85106383 0.85106383]\n",
      "[0.8148148148148148, 0.8095238095238095, 0.8421052631578947, 0.7789473684210526, 0.8]\n"
     ]
    }
   ],
   "source": [
    "## train scores\n",
    "print(pipe_validator['train_score'])\n",
    "## validation scores\n",
    "print(pipe_validator['test_score'])\n",
    "## oob scores\n",
    "print([est['classifier'].oob_score_ for est in pipe_validator['estimator']])\n",
    "## let's pick one of the estimator for further investigation\n",
    "\n",
    "est = pipe_validator['estimator'][0]"
   ]
  },
  {
   "cell_type": "code",
   "execution_count": 90,
   "metadata": {},
   "outputs": [
    {
     "name": "stdout",
     "output_type": "stream",
     "text": [
      "Fitting 3 folds for each of 100 candidates, totalling 300 fits\n"
     ]
    },
    {
     "name": "stderr",
     "output_type": "stream",
     "text": [
      "[Parallel(n_jobs=-1)]: Using backend LokyBackend with 8 concurrent workers.\n",
      "[Parallel(n_jobs=-1)]: Done  25 tasks      | elapsed:    3.3s\n",
      "[Parallel(n_jobs=-1)]: Done 146 tasks      | elapsed:    6.7s\n",
      "[Parallel(n_jobs=-1)]: Done 300 out of 300 | elapsed:   10.8s finished\n"
     ]
    }
   ],
   "source": [
    "from sklearn.model_selection import RandomizedSearchCV\n",
    "# Number of trees in random forest\n",
    "n_estimators = [int(x) for x in np.linspace(start = 20, stop = 120, num = 10)]\n",
    "# Number of features to consider at every split\n",
    "max_features = ['auto', 'sqrt']\n",
    "# Maximum number of levels in tree\n",
    "max_depth = [int(x) for x in np.linspace(1, 10)]\n",
    "max_depth.append(None)\n",
    "# Minimum number of samples required to split a node\n",
    "min_samples_split = [2, 5, 10]\n",
    "# Minimum number of samples required at each leaf node\n",
    "min_samples_leaf = [1, 2, 4]\n",
    "# Method of selecting samples for training each tree\n",
    "bootstrap = [True, False]\n",
    "# Create the random grid\n",
    "random_grid = {'n_estimators': n_estimators,\n",
    "               'max_features': max_features,\n",
    "               'max_depth': max_depth,\n",
    "               'min_samples_split': min_samples_split,\n",
    "               'min_samples_leaf': min_samples_leaf,\n",
    "               'bootstrap': bootstrap}\n",
    "\n",
    "rf_random = RandomizedSearchCV(estimator = rf, param_distributions = random_grid, \n",
    "                               n_iter = 100, cv = 3, verbose=2, n_jobs = -1)\n",
    "\n",
    "rf = RandomForestClassifier()\n",
    "rf_random = Pipeline(steps=[('preprocessor', preprocessor),\n",
    "                      ('classifier', RandomizedSearchCV(estimator = rf, \n",
    "                                                        param_distributions=random_grid, \n",
    "                                                        n_iter=100, \n",
    "                                                        cv=3, \n",
    "                                                        verbose=2, \n",
    "                                                        n_jobs=-1))])\n",
    "pipe_random_validator = rf_random.fit(X_train, y_train)"
   ]
  },
  {
   "cell_type": "code",
   "execution_count": 91,
   "metadata": {},
   "outputs": [
    {
     "data": {
      "text/plain": [
       "{'n_estimators': 31,\n",
       " 'min_samples_split': 5,\n",
       " 'min_samples_leaf': 4,\n",
       " 'max_features': 'sqrt',\n",
       " 'max_depth': 3,\n",
       " 'bootstrap': True}"
      ]
     },
     "execution_count": 91,
     "metadata": {},
     "output_type": "execute_result"
    }
   ],
   "source": [
    "rf_random['classifier'].best_params_"
   ]
  },
  {
   "cell_type": "markdown",
   "metadata": {},
   "source": [
    "## Continue..."
   ]
  },
  {
   "cell_type": "code",
   "execution_count": 131,
   "metadata": {},
   "outputs": [
    {
     "ename": "AxisError",
     "evalue": "axis 1 is out of bounds for array of dimension 1",
     "output_type": "error",
     "traceback": [
      "\u001b[0;31m---------------------------------------------------------------------------\u001b[0m",
      "\u001b[0;31mAxisError\u001b[0m                                 Traceback (most recent call last)",
      "\u001b[0;32m<ipython-input-131-853b57217ec8>\u001b[0m in \u001b[0;36m<module>\u001b[0;34m\u001b[0m\n\u001b[1;32m      2\u001b[0m                                       \u001b[0mclf_2\u001b[0m\u001b[0;34m.\u001b[0m\u001b[0mfeature_importances_\u001b[0m\u001b[0;34m,\u001b[0m\u001b[0;34m\u001b[0m\u001b[0;34m\u001b[0m\u001b[0m\n\u001b[1;32m      3\u001b[0m                                       \u001b[0mclf_3\u001b[0m\u001b[0;34m.\u001b[0m\u001b[0mfeature_importances_\u001b[0m\u001b[0;34m,\u001b[0m\u001b[0;34m\u001b[0m\u001b[0;34m\u001b[0m\u001b[0m\n\u001b[0;32m----> 4\u001b[0;31m                                       clf_4.feature_importances_), axis=1)\n\u001b[0m",
      "\u001b[0;32m<__array_function__ internals>\u001b[0m in \u001b[0;36mconcatenate\u001b[0;34m(*args, **kwargs)\u001b[0m\n",
      "\u001b[0;31mAxisError\u001b[0m: axis 1 is out of bounds for array of dimension 1"
     ]
    }
   ],
   "source": [
    "feature_importances = np.concatenate((clf.feature_importances_, \n",
    "                                      clf_2.feature_importances_,\n",
    "                                      clf_3.feature_importances_,\n",
    "                                      clf_4.feature_importances_), axis=1)"
   ]
  },
  {
   "cell_type": "code",
   "execution_count": 120,
   "metadata": {},
   "outputs": [
    {
     "data": {
      "text/plain": [
       "array([0.03694666, 0.01348177, 0.01707419, 0.102189  , 0.07996478,\n",
       "       0.07691213, 0.02267753, 0.0755486 , 0.07597982, 0.00672209,\n",
       "       0.01446337, 0.13667422, 0.06993008, 0.11096635, 0.05501278,\n",
       "       0.10545664])"
      ]
     },
     "execution_count": 120,
     "metadata": {},
     "output_type": "execute_result"
    }
   ],
   "source": [
    "feature_importances"
   ]
  },
  {
   "cell_type": "code",
   "execution_count": 126,
   "metadata": {},
   "outputs": [],
   "source": [
    "# be careful with the order of columns\n",
    "columns = ohe.get_feature_names().tolist() + numerical_variables.tolist() "
   ]
  },
  {
   "cell_type": "code",
   "execution_count": 127,
   "metadata": {},
   "outputs": [
    {
     "data": {
      "text/html": [
       "<div>\n",
       "<style scoped>\n",
       "    .dataframe tbody tr th:only-of-type {\n",
       "        vertical-align: middle;\n",
       "    }\n",
       "\n",
       "    .dataframe tbody tr th {\n",
       "        vertical-align: top;\n",
       "    }\n",
       "\n",
       "    .dataframe thead th {\n",
       "        text-align: right;\n",
       "    }\n",
       "</style>\n",
       "<table border=\"1\" class=\"dataframe\">\n",
       "  <thead>\n",
       "    <tr style=\"text-align: right;\">\n",
       "      <th></th>\n",
       "      <th>feature_importances</th>\n",
       "    </tr>\n",
       "  </thead>\n",
       "  <tbody>\n",
       "    <tr>\n",
       "      <th>Oldpeak</th>\n",
       "      <td>0.154944</td>\n",
       "    </tr>\n",
       "    <tr>\n",
       "      <th>MaxHR</th>\n",
       "      <td>0.148401</td>\n",
       "    </tr>\n",
       "    <tr>\n",
       "      <th>ExAng</th>\n",
       "      <td>0.145547</td>\n",
       "    </tr>\n",
       "    <tr>\n",
       "      <th>x1_reversable</th>\n",
       "      <td>0.138458</td>\n",
       "    </tr>\n",
       "    <tr>\n",
       "      <th>x1_normal</th>\n",
       "      <td>0.129797</td>\n",
       "    </tr>\n",
       "    <tr>\n",
       "      <th>Ca</th>\n",
       "      <td>0.126637</td>\n",
       "    </tr>\n",
       "    <tr>\n",
       "      <th>RestBP</th>\n",
       "      <td>0.031501</td>\n",
       "    </tr>\n",
       "    <tr>\n",
       "      <th>Slope</th>\n",
       "      <td>0.030651</td>\n",
       "    </tr>\n",
       "    <tr>\n",
       "      <th>x0_nonanginal</th>\n",
       "      <td>0.028015</td>\n",
       "    </tr>\n",
       "    <tr>\n",
       "      <th>Age</th>\n",
       "      <td>0.022003</td>\n",
       "    </tr>\n",
       "    <tr>\n",
       "      <th>Sex</th>\n",
       "      <td>0.013796</td>\n",
       "    </tr>\n",
       "    <tr>\n",
       "      <th>Chol</th>\n",
       "      <td>0.013588</td>\n",
       "    </tr>\n",
       "    <tr>\n",
       "      <th>x0_nontypical</th>\n",
       "      <td>0.007589</td>\n",
       "    </tr>\n",
       "    <tr>\n",
       "      <th>RestECG</th>\n",
       "      <td>0.004777</td>\n",
       "    </tr>\n",
       "    <tr>\n",
       "      <th>x0_typical</th>\n",
       "      <td>0.003394</td>\n",
       "    </tr>\n",
       "    <tr>\n",
       "      <th>Fbs</th>\n",
       "      <td>0.000902</td>\n",
       "    </tr>\n",
       "  </tbody>\n",
       "</table>\n",
       "</div>"
      ],
      "text/plain": [
       "               feature_importances\n",
       "Oldpeak                   0.154944\n",
       "MaxHR                     0.148401\n",
       "ExAng                     0.145547\n",
       "x1_reversable             0.138458\n",
       "x1_normal                 0.129797\n",
       "Ca                        0.126637\n",
       "RestBP                    0.031501\n",
       "Slope                     0.030651\n",
       "x0_nonanginal             0.028015\n",
       "Age                       0.022003\n",
       "Sex                       0.013796\n",
       "Chol                      0.013588\n",
       "x0_nontypical             0.007589\n",
       "RestECG                   0.004777\n",
       "x0_typical                0.003394\n",
       "Fbs                       0.000902"
      ]
     },
     "execution_count": 127,
     "metadata": {},
     "output_type": "execute_result"
    }
   ],
   "source": [
    "importances = pd.DataFrame(data=clf_2.feature_importances_, index = columns, columns= ['feature_importances'])\n",
    "\n",
    "importances.sort_values(by = 'feature_importances', ascending = False)"
   ]
  },
  {
   "cell_type": "markdown",
   "metadata": {},
   "source": [
    "### Extra Material \n",
    "\n",
    "- [Sklearn averages probabilities in RF implementation](https://scikit-learn.org/stable/modules/ensemble.html#forest)\n",
    "\n",
    "- [On the variance](https://newonlinecourses.science.psu.edu/stat414/node/167/)\n",
    "\n",
    "- [Do RF immune to overfitting?](https://en.wikipedia.org/wiki/Talk%3ARandom_forest)\n",
    "\n",
    "- [Tricky stuff with respect to feature importance](http://rnowling.github.io/machine/learning/2015/08/10/random-forest-bias.html)\n",
    "\n",
    "- [An interesting implementation of feature importance](https://scikit-learn.org/stable/auto_examples/ensemble/plot_forest_importances_faces.html#sphx-glr-auto-examples-ensemble-plot-forest-importances-faces-py)\n",
    "\n",
    "- [Different Ensemble Methods in sklearn](https://scikit-learn.org/stable/modules/ensemble.html#forest)\n",
    "\n",
    "- [ISLR - section 8.2](http://faculty.marshall.usc.edu/gareth-james/ISL/ISLR%20Seventh%20Printing.pdf)\n",
    "\n",
    "- [Another library for RF: H2o](http://docs.h2o.ai/h2o/latest-stable/h2o-docs/data-science/drf.html)"
   ]
  },
  {
   "cell_type": "markdown",
   "metadata": {},
   "source": [
    "H2O's version of random forest is much faster for large datasets (> million rows), handles categorical variables, built on hadoop/spark"
   ]
  },
  {
   "cell_type": "code",
   "execution_count": null,
   "metadata": {},
   "outputs": [],
   "source": []
  }
 ],
 "metadata": {
  "kernelspec": {
   "display_name": "Python 3",
   "language": "python",
   "name": "python3"
  },
  "language_info": {
   "codemirror_mode": {
    "name": "ipython",
    "version": 3
   },
   "file_extension": ".py",
   "mimetype": "text/x-python",
   "name": "python",
   "nbconvert_exporter": "python",
   "pygments_lexer": "ipython3",
   "version": "3.7.3"
  },
  "toc": {
   "base_numbering": 1,
   "nav_menu": {},
   "number_sections": true,
   "sideBar": true,
   "skip_h1_title": false,
   "title_cell": "Table of Contents",
   "title_sidebar": "Contents",
   "toc_cell": false,
   "toc_position": {},
   "toc_section_display": true,
   "toc_window_display": false
  }
 },
 "nbformat": 4,
 "nbformat_minor": 4
}
