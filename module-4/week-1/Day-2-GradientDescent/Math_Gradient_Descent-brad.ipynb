{
 "cells": [
  {
   "cell_type": "markdown",
   "metadata": {},
   "source": [
    "# Linear Algebra, Calculus, and Gradient Descent\n",
    "\n",
    "__Objectives__\n",
    "* Use operations with vectors and matrices to solve systems of linear equations\n",
    "* Identify and describe of scalars, vectors,  matrices, using appropriate mathematical jargon\n",
    "* Set up and solve systems of linear equations with real life examples\n",
    "* Describe gradient descent in relation to slope, derivatives, and step size\n",
    "\n",
    "\n",
    "## Why Linear Algebra?\n",
    "\n",
    "Linear Algebra is the basis of many machine learning models.\n",
    "\n",
    "Data is usually already set up into a matrix by default!\n",
    "\n",
    "<img src= \"./resources/dataset.jpeg\">\n"
   ]
  },
  {
   "cell_type": "markdown",
   "metadata": {},
   "source": [
    "\n",
    "It can be used to model complicated things like language\n",
    "\n",
    "<img src = \"./resources/Word-Vectors.png\">"
   ]
  },
  {
   "cell_type": "markdown",
   "metadata": {},
   "source": [
    "Important for image compression and recognition\n",
    "\n",
    "<img src = \"./resources/images.gif\">"
   ]
  },
  {
   "cell_type": "markdown",
   "metadata": {},
   "source": [
    "Also matrices are the common notation used in the popular libraries like numpy, scipy and sklearn.\n",
    "\n",
    "<img src = \"./resources/matrix_multiplication.png\">\n"
   ]
  },
  {
   "cell_type": "markdown",
   "metadata": {},
   "source": [
    "This is an image from Andrew Ng's Neural Networks and Deep Learning course.\n",
    "\n",
    "<img src = \"./resources/gradient_descent.png\" width  = 500>"
   ]
  },
  {
   "cell_type": "markdown",
   "metadata": {},
   "source": [
    "This is an image from Andrew Ng's Sequence Model's Course. \n",
    "\n",
    "<img src = \"./resources/lstm.png\" width  = 500>"
   ]
  },
  {
   "cell_type": "markdown",
   "metadata": {},
   "source": [
    "## Linear algebra and Linear Regression\n",
    "\n",
    "- Let's move to the notebook matrix algebra with numpy :)"
   ]
  },
  {
   "cell_type": "markdown",
   "metadata": {},
   "source": [
    "## Gradient Descent"
   ]
  },
  {
   "cell_type": "markdown",
   "metadata": {},
   "source": [
    "[Gradient slide](https://www.youtube.com/watch?v=vWFjqgb-ylQ)"
   ]
  },
  {
   "cell_type": "markdown",
   "metadata": {},
   "source": [
    "## Gradient in Action"
   ]
  },
  {
   "cell_type": "code",
   "execution_count": 3,
   "metadata": {},
   "outputs": [],
   "source": [
    "import pandas as pd\n",
    "import numpy as np\n",
    "from matplotlib import pyplot as plt\n",
    "import random\n",
    "import seaborn as sns"
   ]
  },
  {
   "cell_type": "code",
   "execution_count": 4,
   "metadata": {},
   "outputs": [
    {
     "data": {
      "text/plain": [
       "array([0., 0., 0., 0., 0., 0., 0., 0., 0., 0.])"
      ]
     },
     "execution_count": 4,
     "metadata": {},
     "output_type": "execute_result"
    }
   ],
   "source": [
    "numPoints=10\n",
    "np.zeros(shape=numPoints)"
   ]
  },
  {
   "cell_type": "code",
   "execution_count": 5,
   "metadata": {},
   "outputs": [],
   "source": [
    "def genData(numPoints, bias, variance):\n",
    "    x = np.zeros(shape=(numPoints, 2))\n",
    "    y = np.zeros(shape=numPoints)\n",
    "    # basically a straight line\n",
    "    for i in range(0, numPoints):\n",
    "        # bias feature\n",
    "        x[i][0] = 1\n",
    "        x[i][1] = i\n",
    "        # our target variable\n",
    "        y[i] = (i + bias) + np.random.uniform(0, 1) * variance\n",
    "    return x, y"
   ]
  },
  {
   "cell_type": "code",
   "execution_count": 6,
   "metadata": {},
   "outputs": [],
   "source": [
    "# gen 100 points with a bias of 25 and 10 variance as a bit of noise\n",
    "x, y = genData(100, 25, 25)\n",
    "m, n = np.shape(x)"
   ]
  },
  {
   "cell_type": "code",
   "execution_count": 7,
   "metadata": {},
   "outputs": [
    {
     "data": {
      "image/png": "[encoded data removed]",
      "text/plain": [
       "<Figure size 432x288 with 1 Axes>"
      ]
     },
     "metadata": {
      "needs_background": "light"
     },
     "output_type": "display_data"
    }
   ],
   "source": [
    "sns.scatterplot(x=x[:, 1], y=y)\n",
    "\n",
    "plt.show()"
   ]
  },
  {
   "cell_type": "code",
   "execution_count": 8,
   "metadata": {},
   "outputs": [
    {
     "data": {
      "text/plain": [
       "(100,)"
      ]
     },
     "execution_count": 8,
     "metadata": {},
     "output_type": "execute_result"
    }
   ],
   "source": [
    "x\n",
    "theta = np.array([1.90595185,1.5342646])\n",
    "np.dot(x, theta).shape"
   ]
  },
  {
   "cell_type": "markdown",
   "metadata": {},
   "source": [
    "__Your Turn__\n",
    "\n",
    "Write a gradient descent function for this linear problem\n",
    "\n",
    "- Inputs:\n",
    "x, y, theta: initialized with some random values, alpha: learning rate, m: length of data, numiterations: number of iterations"
   ]
  },
  {
   "cell_type": "code",
   "execution_count": null,
   "metadata": {},
   "outputs": [],
   "source": [
    "# %load supplement\n",
    "def gradientDescent(x, y, theta, alpha, m, numIterations):\n",
    "    xTrans = x.transpose()\n",
    "    costs = []\n",
    "    for i in range(0, numIterations):\n",
    "        hypothesis = np.dot(x, theta)\n",
    "        loss = hypothesis - y\n",
    "        # avg cost per example (the 2 in 2*m doesn't really matter here.\n",
    "        # But to be consistent with the gradient, I include it)\n",
    "        cost = np.sum(loss ** 2) / (2 * m)\n",
    "        if i % (numIterations // 40) == 0:\n",
    "            print(\"Iteration %d | Cost: %f\" % (i, cost))\n",
    "            print(theta)\n",
    "        costs.append(cost)\n",
    "        # avg gradient per example\n",
    "        gradient = np.dot(xTrans, loss) / m\n",
    "        # update\n",
    "        theta = theta - alpha * gradient\n",
    "    sns.scatterplot(y=costs, x=[i for i in range(len(costs))])\n",
    "\n",
    "    return theta"
   ]
  },
  {
   "cell_type": "code",
   "execution_count": 41,
   "metadata": {},
   "outputs": [
    {
     "name": "stdout",
     "output_type": "stream",
     "text": [
      "Iteration 0 | Cost: 162.540550\n",
      "[1.90595185 1.5342646 ]\n",
      "Iteration 2500 | Cost: 145.342452\n",
      "[3.94231112 1.5227863 ]\n",
      "Iteration 5000 | Cost: 130.727729\n",
      "[5.8532461  1.49397601]\n",
      "Iteration 7500 | Cost: 117.854212\n",
      "[7.64673717 1.46693636]\n",
      "Iteration 10000 | Cost: 106.514454\n",
      "[9.33000231 1.44155855]\n",
      "Iteration 12500 | Cost: 96.525720\n",
      "[10.90981588  1.41774042]\n",
      "Iteration 15000 | Cost: 87.727049\n",
      "[12.39253589  1.39538613]\n",
      "Iteration 17500 | Cost: 79.976657\n",
      "[13.7841296   1.37440571]\n",
      "Iteration 20000 | Cost: 73.149651\n",
      "[15.09019753  1.35471472]\n",
      "Iteration 22500 | Cost: 67.136019\n",
      "[16.315996    1.33623392]\n",
      "Iteration 25000 | Cost: 61.838853\n",
      "[17.46645828  1.31888893]\n",
      "Iteration 27500 | Cost: 57.172795\n",
      "[18.54621445  1.30260994]\n",
      "Iteration 30000 | Cost: 53.062654\n",
      "[19.55961002  1.28733144]\n",
      "Iteration 32500 | Cost: 49.442197\n",
      "[20.51072345  1.27299194]\n",
      "Iteration 35000 | Cost: 46.253083\n",
      "[21.40338252  1.25953373]\n",
      "Iteration 37500 | Cost: 43.443922\n",
      "[22.24117977  1.24690264]\n",
      "Iteration 40000 | Cost: 40.969446\n",
      "[23.02748695  1.23504785]\n",
      "Iteration 42500 | Cost: 38.789781\n",
      "[23.76546857  1.22392164]\n",
      "Iteration 45000 | Cost: 36.869802\n",
      "[24.45809468  1.21347923]\n",
      "Iteration 47500 | Cost: 35.178570\n",
      "[25.10815277  1.2036786 ]\n",
      "Iteration 50000 | Cost: 33.688833\n",
      "[25.71825903  1.19448031]\n",
      "Iteration 52500 | Cost: 32.376583\n",
      "[26.29086884  1.18584733]\n",
      "Iteration 55000 | Cost: 31.220676\n",
      "[26.8282867   1.17774493]\n",
      "Iteration 57500 | Cost: 30.202485\n",
      "[27.33267547  1.17014049]\n",
      "Iteration 60000 | Cost: 29.305601\n",
      "[27.80606507  1.16300341]\n",
      "Iteration 62500 | Cost: 28.515572\n",
      "[28.25036068  1.15630497]\n",
      "Iteration 65000 | Cost: 27.819668\n",
      "[28.66735038  1.15001821]\n",
      "Iteration 67500 | Cost: 27.206674\n",
      "[29.05871237  1.14411783]\n",
      "Iteration 70000 | Cost: 26.666713\n",
      "[29.42602169  1.13858007]\n",
      "Iteration 72500 | Cost: 26.191083\n",
      "[29.7707566   1.13338266]\n",
      "Iteration 75000 | Cost: 25.772120\n",
      "[30.09430449  1.12850468]\n",
      "Iteration 77500 | Cost: 25.403072\n",
      "[30.39796749  1.12392649]\n",
      "Iteration 80000 | Cost: 25.077993\n",
      "[30.6829677   1.11962967]\n",
      "Iteration 82500 | Cost: 24.791644\n",
      "[30.95045213  1.11559693]\n",
      "Iteration 85000 | Cost: 24.539411\n",
      "[31.20149726  1.11181204]\n",
      "Iteration 87500 | Cost: 24.317228\n",
      "[31.43711344  1.10825976]\n",
      "Iteration 90000 | Cost: 24.121517\n",
      "[31.65824892  1.1049258 ]\n",
      "Iteration 92500 | Cost: 23.949123\n",
      "[31.86579366  1.10179675]\n",
      "Iteration 95000 | Cost: 23.797268\n",
      "[32.06058294  1.09886   ]\n",
      "Iteration 97500 | Cost: 23.663506\n",
      "[32.24340069  1.09610374]\n"
     ]
    },
    {
     "data": {
      "image/png": "[encoded data removed]",
      "text/plain": [
       "<Figure size 432x288 with 1 Axes>"
      ]
     },
     "metadata": {
      "needs_background": "light"
     },
     "output_type": "display_data"
    }
   ],
   "source": [
    "numIterations = 100000\n",
    "alpha = 0.0001\n",
    "theta = np.array([1.90595185,1.5342646])\n",
    "a = gradientDescent(x, y, theta, alpha, m, numIterations)"
   ]
  },
  {
   "cell_type": "code",
   "execution_count": 40,
   "metadata": {},
   "outputs": [
    {
     "data": {
      "text/plain": [
       "array([9.32992785, 1.44155967])"
      ]
     },
     "execution_count": 40,
     "metadata": {},
     "output_type": "execute_result"
    }
   ],
   "source": [
    "a"
   ]
  },
  {
   "cell_type": "code",
   "execution_count": 30,
   "metadata": {},
   "outputs": [],
   "source": [
    "from sklearn.linear_model import LinearRegression"
   ]
  },
  {
   "cell_type": "code",
   "execution_count": 32,
   "metadata": {},
   "outputs": [
    {
     "data": {
      "text/plain": [
       "LinearRegression(copy_X=True, fit_intercept=False, n_jobs=None, normalize=False)"
      ]
     },
     "execution_count": 32,
     "metadata": {},
     "output_type": "execute_result"
    }
   ],
   "source": [
    "lr = LinearRegression(fit_intercept= False)\n",
    "\n",
    "\n",
    "lr.fit(x,y)\n"
   ]
  },
  {
   "cell_type": "code",
   "execution_count": 42,
   "metadata": {},
   "outputs": [
    {
     "data": {
      "text/plain": [
       "array([35.03521857,  1.05401278])"
      ]
     },
     "execution_count": 42,
     "metadata": {},
     "output_type": "execute_result"
    }
   ],
   "source": [
    "lr.coef_"
   ]
  },
  {
   "cell_type": "code",
   "execution_count": null,
   "metadata": {},
   "outputs": [],
   "source": []
  }
 ],
 "metadata": {
  "kernelspec": {
   "display_name": "Python 3",
   "language": "python",
   "name": "python3"
  },
  "language_info": {
   "codemirror_mode": {
    "name": "ipython",
    "version": 3
   },
   "file_extension": ".py",
   "mimetype": "text/x-python",
   "name": "python",
   "nbconvert_exporter": "python",
   "pygments_lexer": "ipython3",
   "version": "3.7.3"
  },
  "toc": {
   "base_numbering": 1,
   "nav_menu": {},
   "number_sections": true,
   "sideBar": true,
   "skip_h1_title": false,
   "title_cell": "Table of Contents",
   "title_sidebar": "Contents",
   "toc_cell": false,
   "toc_position": {},
   "toc_section_display": true,
   "toc_window_display": false
  }
 },
 "nbformat": 4,
 "nbformat_minor": 2
}
